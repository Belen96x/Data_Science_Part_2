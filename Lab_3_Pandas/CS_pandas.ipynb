{
 "cells": [
  {
   "cell_type": "markdown",
   "metadata": {},
   "source": [
    "# Pandas "
   ]
  },
  {
   "cell_type": "markdown",
   "metadata": {},
   "source": [
    "### 1. Creating a dataframe"
   ]
  },
  {
   "cell_type": "markdown",
   "metadata": {},
   "source": [
    "**From a dictionary**"
   ]
  },
  {
   "cell_type": "code",
   "execution_count": 1,
   "metadata": {},
   "outputs": [
    {
     "data": {
      "text/html": [
       "<div>\n",
       "<style scoped>\n",
       "    .dataframe tbody tr th:only-of-type {\n",
       "        vertical-align: middle;\n",
       "    }\n",
       "\n",
       "    .dataframe tbody tr th {\n",
       "        vertical-align: top;\n",
       "    }\n",
       "\n",
       "    .dataframe thead th {\n",
       "        text-align: right;\n",
       "    }\n",
       "</style>\n",
       "<table border=\"1\" class=\"dataframe\">\n",
       "  <thead>\n",
       "    <tr style=\"text-align: right;\">\n",
       "      <th></th>\n",
       "      <th>Marks</th>\n",
       "      <th>Name</th>\n",
       "    </tr>\n",
       "  </thead>\n",
       "  <tbody>\n",
       "    <tr>\n",
       "      <th>0</th>\n",
       "      <td>99</td>\n",
       "      <td>Tom</td>\n",
       "    </tr>\n",
       "    <tr>\n",
       "      <th>1</th>\n",
       "      <td>98</td>\n",
       "      <td>Jack</td>\n",
       "    </tr>\n",
       "    <tr>\n",
       "      <th>2</th>\n",
       "      <td>95</td>\n",
       "      <td>nick</td>\n",
       "    </tr>\n",
       "    <tr>\n",
       "      <th>3</th>\n",
       "      <td>94</td>\n",
       "      <td>juli</td>\n",
       "    </tr>\n",
       "    <tr>\n",
       "      <th>4</th>\n",
       "      <td>90</td>\n",
       "      <td>peter</td>\n",
       "    </tr>\n",
       "    <tr>\n",
       "      <th>5</th>\n",
       "      <td>88</td>\n",
       "      <td>paul</td>\n",
       "    </tr>\n",
       "  </tbody>\n",
       "</table>\n",
       "</div>"
      ],
      "text/plain": [
       "   Marks   Name\n",
       "0     99    Tom\n",
       "1     98   Jack\n",
       "2     95   nick\n",
       "3     94   juli\n",
       "4     90  peter\n",
       "5     88   paul"
      ]
     },
     "execution_count": 1,
     "metadata": {},
     "output_type": "execute_result"
    }
   ],
   "source": [
    "import pandas as pd\n",
    "# Create a dictionary containing the data\n",
    "data = {'Marks':[99, 98, 95, 94,90,88],\n",
    "        'Name':['Tom', 'Jack', 'nick', 'juli','peter','paul']}\n",
    "\n",
    "# Create a pd DataFrame. \n",
    "df = pd.DataFrame(data) \n",
    "  \n",
    "# print the dataframe\n",
    "df"
   ]
  },
  {
   "cell_type": "markdown",
   "metadata": {},
   "source": [
    "**From a list of dictionaries**"
   ]
  },
  {
   "cell_type": "code",
   "execution_count": 2,
   "metadata": {},
   "outputs": [
    {
     "data": {
      "text/html": [
       "<div>\n",
       "<style scoped>\n",
       "    .dataframe tbody tr th:only-of-type {\n",
       "        vertical-align: middle;\n",
       "    }\n",
       "\n",
       "    .dataframe tbody tr th {\n",
       "        vertical-align: top;\n",
       "    }\n",
       "\n",
       "    .dataframe thead th {\n",
       "        text-align: right;\n",
       "    }\n",
       "</style>\n",
       "<table border=\"1\" class=\"dataframe\">\n",
       "  <thead>\n",
       "    <tr style=\"text-align: right;\">\n",
       "      <th></th>\n",
       "      <th>mark</th>\n",
       "      <th>name</th>\n",
       "    </tr>\n",
       "  </thead>\n",
       "  <tbody>\n",
       "    <tr>\n",
       "      <th>0</th>\n",
       "      <td>99</td>\n",
       "      <td>john</td>\n",
       "    </tr>\n",
       "    <tr>\n",
       "      <th>1</th>\n",
       "      <td>90</td>\n",
       "      <td>peter</td>\n",
       "    </tr>\n",
       "    <tr>\n",
       "      <th>2</th>\n",
       "      <td>90</td>\n",
       "      <td>peter</td>\n",
       "    </tr>\n",
       "  </tbody>\n",
       "</table>\n",
       "</div>"
      ],
      "text/plain": [
       "   mark   name\n",
       "0    99   john\n",
       "1    90  peter\n",
       "2    90  peter"
      ]
     },
     "execution_count": 2,
     "metadata": {},
     "output_type": "execute_result"
    }
   ],
   "source": [
    "data = [{\"mark\":99,\"name\":\"john\"},{\"mark\":90,\"name\":\"peter\"},{\"mark\":90,\"name\":\"peter\"}]\n",
    "df = pd.DataFrame(data)\n",
    "df"
   ]
  },
  {
   "cell_type": "markdown",
   "metadata": {},
   "source": [
    "**From a list of lists**"
   ]
  },
  {
   "cell_type": "code",
   "execution_count": 3,
   "metadata": {},
   "outputs": [
    {
     "data": {
      "text/html": [
       "<div>\n",
       "<style scoped>\n",
       "    .dataframe tbody tr th:only-of-type {\n",
       "        vertical-align: middle;\n",
       "    }\n",
       "\n",
       "    .dataframe tbody tr th {\n",
       "        vertical-align: top;\n",
       "    }\n",
       "\n",
       "    .dataframe thead th {\n",
       "        text-align: right;\n",
       "    }\n",
       "</style>\n",
       "<table border=\"1\" class=\"dataframe\">\n",
       "  <thead>\n",
       "    <tr style=\"text-align: right;\">\n",
       "      <th></th>\n",
       "      <th>First Name</th>\n",
       "      <th>Last Name</th>\n",
       "    </tr>\n",
       "  </thead>\n",
       "  <tbody>\n",
       "    <tr>\n",
       "      <th>0</th>\n",
       "      <td>John</td>\n",
       "      <td>Darwin</td>\n",
       "    </tr>\n",
       "    <tr>\n",
       "      <th>1</th>\n",
       "      <td>Peter</td>\n",
       "      <td>Cooper</td>\n",
       "    </tr>\n",
       "  </tbody>\n",
       "</table>\n",
       "</div>"
      ],
      "text/plain": [
       "  First Name Last Name\n",
       "0       John    Darwin\n",
       "1      Peter    Cooper"
      ]
     },
     "execution_count": 3,
     "metadata": {},
     "output_type": "execute_result"
    }
   ],
   "source": [
    "data = [['John','Darwin'],['Peter','Cooper']]\n",
    "df = pd.DataFrame(data, columns =['First Name', 'Last Name'])\n",
    "df"
   ]
  },
  {
   "cell_type": "markdown",
   "metadata": {},
   "source": [
    "**From arrays**"
   ]
  },
  {
   "cell_type": "code",
   "execution_count": 4,
   "metadata": {},
   "outputs": [
    {
     "name": "stdout",
     "output_type": "stream",
     "text": [
      "[[5.8 2.8]\n",
      " [6.  2.2]]\n",
      "   Column1  Column2\n",
      "0      5.8      2.8\n",
      "1      6.0      2.2\n"
     ]
    }
   ],
   "source": [
    "import numpy as np\n",
    "import pandas as pd\n",
    "\n",
    "# Creating a 2 dimensional numpy array\n",
    "data = np.array([[5.8, 2.8], [6.0, 2.2]])\n",
    "print(data)\n",
    "\n",
    "# Creating pandas dataframe from numpy array\n",
    "adf = pd.DataFrame({'Column1': data[:, 0], 'Column2': data[:, 1]})\n",
    "print(adf)"
   ]
  },
  {
   "cell_type": "markdown",
   "metadata": {},
   "source": [
    "**From a Pandas Series**"
   ]
  },
  {
   "cell_type": "code",
   "execution_count": 5,
   "metadata": {},
   "outputs": [
    {
     "data": {
      "text/html": [
       "<div>\n",
       "<style scoped>\n",
       "    .dataframe tbody tr th:only-of-type {\n",
       "        vertical-align: middle;\n",
       "    }\n",
       "\n",
       "    .dataframe tbody tr th {\n",
       "        vertical-align: top;\n",
       "    }\n",
       "\n",
       "    .dataframe thead th {\n",
       "        text-align: right;\n",
       "    }\n",
       "</style>\n",
       "<table border=\"1\" class=\"dataframe\">\n",
       "  <thead>\n",
       "    <tr style=\"text-align: right;\">\n",
       "      <th></th>\n",
       "      <th>vals</th>\n",
       "    </tr>\n",
       "  </thead>\n",
       "  <tbody>\n",
       "    <tr>\n",
       "      <th>0</th>\n",
       "      <td>a</td>\n",
       "    </tr>\n",
       "    <tr>\n",
       "      <th>1</th>\n",
       "      <td>b</td>\n",
       "    </tr>\n",
       "    <tr>\n",
       "      <th>2</th>\n",
       "      <td>c</td>\n",
       "    </tr>\n",
       "  </tbody>\n",
       "</table>\n",
       "</div>"
      ],
      "text/plain": [
       "  vals\n",
       "0    a\n",
       "1    b\n",
       "2    c"
      ]
     },
     "execution_count": 5,
     "metadata": {},
     "output_type": "execute_result"
    }
   ],
   "source": [
    "s = pd.Series([\"a\", \"b\", \"c\"],\n",
    "              name=\"vals\")\n",
    "s.to_frame()"
   ]
  },
  {
   "cell_type": "markdown",
   "metadata": {},
   "source": [
    "**Specify cells, index and headers**"
   ]
  },
  {
   "cell_type": "code",
   "execution_count": 6,
   "metadata": {},
   "outputs": [
    {
     "data": {
      "text/html": [
       "<div>\n",
       "<style scoped>\n",
       "    .dataframe tbody tr th:only-of-type {\n",
       "        vertical-align: middle;\n",
       "    }\n",
       "\n",
       "    .dataframe tbody tr th {\n",
       "        vertical-align: top;\n",
       "    }\n",
       "\n",
       "    .dataframe thead th {\n",
       "        text-align: right;\n",
       "    }\n",
       "</style>\n",
       "<table border=\"1\" class=\"dataframe\">\n",
       "  <thead>\n",
       "    <tr style=\"text-align: right;\">\n",
       "      <th></th>\n",
       "      <th>A</th>\n",
       "      <th>B</th>\n",
       "      <th>C</th>\n",
       "    </tr>\n",
       "  </thead>\n",
       "  <tbody>\n",
       "    <tr>\n",
       "      <th>4</th>\n",
       "      <td>0</td>\n",
       "      <td>2</td>\n",
       "      <td>3</td>\n",
       "    </tr>\n",
       "    <tr>\n",
       "      <th>5</th>\n",
       "      <td>0</td>\n",
       "      <td>4</td>\n",
       "      <td>1</td>\n",
       "    </tr>\n",
       "    <tr>\n",
       "      <th>6</th>\n",
       "      <td>10</td>\n",
       "      <td>20</td>\n",
       "      <td>30</td>\n",
       "    </tr>\n",
       "  </tbody>\n",
       "</table>\n",
       "</div>"
      ],
      "text/plain": [
       "    A   B   C\n",
       "4   0   2   3\n",
       "5   0   4   1\n",
       "6  10  20  30"
      ]
     },
     "execution_count": 6,
     "metadata": {},
     "output_type": "execute_result"
    }
   ],
   "source": [
    "# Specify the content of a cell\n",
    "abcdf = pd.DataFrame([[0, 2, 3], [0, 4, 1], [10, 20, 30]], index=[4, 5, 6], columns=['A', 'B', 'C'])\n",
    "abcdf"
   ]
  },
  {
   "cell_type": "markdown",
   "metadata": {},
   "source": [
    "**Get the content of a cell**"
   ]
  },
  {
   "cell_type": "code",
   "execution_count": 7,
   "metadata": {},
   "outputs": [
    {
     "data": {
      "text/plain": [
       "2"
      ]
     },
     "execution_count": 7,
     "metadata": {},
     "output_type": "execute_result"
    }
   ],
   "source": [
    "abcdf.at[4, 'B']"
   ]
  },
  {
   "cell_type": "markdown",
   "metadata": {},
   "source": [
    "**Changing the content of a cell**"
   ]
  },
  {
   "cell_type": "code",
   "execution_count": 8,
   "metadata": {},
   "outputs": [
    {
     "data": {
      "text/html": [
       "<div>\n",
       "<style scoped>\n",
       "    .dataframe tbody tr th:only-of-type {\n",
       "        vertical-align: middle;\n",
       "    }\n",
       "\n",
       "    .dataframe tbody tr th {\n",
       "        vertical-align: top;\n",
       "    }\n",
       "\n",
       "    .dataframe thead th {\n",
       "        text-align: right;\n",
       "    }\n",
       "</style>\n",
       "<table border=\"1\" class=\"dataframe\">\n",
       "  <thead>\n",
       "    <tr style=\"text-align: right;\">\n",
       "      <th></th>\n",
       "      <th>A</th>\n",
       "      <th>B</th>\n",
       "      <th>C</th>\n",
       "    </tr>\n",
       "  </thead>\n",
       "  <tbody>\n",
       "    <tr>\n",
       "      <th>4</th>\n",
       "      <td>0</td>\n",
       "      <td>3</td>\n",
       "      <td>3</td>\n",
       "    </tr>\n",
       "    <tr>\n",
       "      <th>5</th>\n",
       "      <td>0</td>\n",
       "      <td>4</td>\n",
       "      <td>1</td>\n",
       "    </tr>\n",
       "    <tr>\n",
       "      <th>6</th>\n",
       "      <td>10</td>\n",
       "      <td>20</td>\n",
       "      <td>30</td>\n",
       "    </tr>\n",
       "  </tbody>\n",
       "</table>\n",
       "</div>"
      ],
      "text/plain": [
       "    A   B   C\n",
       "4   0   3   3\n",
       "5   0   4   1\n",
       "6  10  20  30"
      ]
     },
     "execution_count": 8,
     "metadata": {},
     "output_type": "execute_result"
    }
   ],
   "source": [
    "abcdf.at[4, 'B'] = 3\n",
    "abcdf"
   ]
  },
  {
   "cell_type": "markdown",
   "metadata": {},
   "source": [
    "**From a csv file**"
   ]
  },
  {
   "cell_type": "code",
   "execution_count": 11,
   "metadata": {},
   "outputs": [
    {
     "data": {
      "text/html": [
       "<div>\n",
       "<style scoped>\n",
       "    .dataframe tbody tr th:only-of-type {\n",
       "        vertical-align: middle;\n",
       "    }\n",
       "\n",
       "    .dataframe tbody tr th {\n",
       "        vertical-align: top;\n",
       "    }\n",
       "\n",
       "    .dataframe thead th {\n",
       "        text-align: right;\n",
       "    }\n",
       "</style>\n",
       "<table border=\"1\" class=\"dataframe\">\n",
       "  <thead>\n",
       "    <tr style=\"text-align: right;\">\n",
       "      <th></th>\n",
       "      <th>GPA</th>\n",
       "      <th>Gender</th>\n",
       "      <th>breakfast</th>\n",
       "      <th>calories_chicken</th>\n",
       "      <th>calories_day</th>\n",
       "      <th>calories_scone</th>\n",
       "      <th>coffee</th>\n",
       "      <th>comfort_food</th>\n",
       "      <th>comfort_food_reasons</th>\n",
       "      <th>comfort_food_reasons_coded</th>\n",
       "      <th>...</th>\n",
       "      <th>soup</th>\n",
       "      <th>sports</th>\n",
       "      <th>thai_food</th>\n",
       "      <th>tortilla_calories</th>\n",
       "      <th>turkey_calories</th>\n",
       "      <th>type_sports</th>\n",
       "      <th>veggies_day</th>\n",
       "      <th>vitamins</th>\n",
       "      <th>waffle_calories</th>\n",
       "      <th>weight</th>\n",
       "    </tr>\n",
       "  </thead>\n",
       "  <tbody>\n",
       "    <tr>\n",
       "      <th>0</th>\n",
       "      <td>2.400</td>\n",
       "      <td>2</td>\n",
       "      <td>1</td>\n",
       "      <td>430</td>\n",
       "      <td>NaN</td>\n",
       "      <td>315.0</td>\n",
       "      <td>1</td>\n",
       "      <td>none</td>\n",
       "      <td>we dont have comfort</td>\n",
       "      <td>9.0</td>\n",
       "      <td>...</td>\n",
       "      <td>1.0</td>\n",
       "      <td>1.0</td>\n",
       "      <td>1</td>\n",
       "      <td>1165.0</td>\n",
       "      <td>345</td>\n",
       "      <td>car racing</td>\n",
       "      <td>5</td>\n",
       "      <td>1</td>\n",
       "      <td>1315</td>\n",
       "      <td>187</td>\n",
       "    </tr>\n",
       "    <tr>\n",
       "      <th>1</th>\n",
       "      <td>3.654</td>\n",
       "      <td>1</td>\n",
       "      <td>1</td>\n",
       "      <td>610</td>\n",
       "      <td>3.0</td>\n",
       "      <td>420.0</td>\n",
       "      <td>2</td>\n",
       "      <td>chocolate, chips, ice cream</td>\n",
       "      <td>Stress, bored, anger</td>\n",
       "      <td>1.0</td>\n",
       "      <td>...</td>\n",
       "      <td>1.0</td>\n",
       "      <td>1.0</td>\n",
       "      <td>2</td>\n",
       "      <td>725.0</td>\n",
       "      <td>690</td>\n",
       "      <td>Basketball</td>\n",
       "      <td>4</td>\n",
       "      <td>2</td>\n",
       "      <td>900</td>\n",
       "      <td>155</td>\n",
       "    </tr>\n",
       "    <tr>\n",
       "      <th>2</th>\n",
       "      <td>3.300</td>\n",
       "      <td>1</td>\n",
       "      <td>1</td>\n",
       "      <td>720</td>\n",
       "      <td>4.0</td>\n",
       "      <td>420.0</td>\n",
       "      <td>2</td>\n",
       "      <td>frozen yogurt, pizza, fast food</td>\n",
       "      <td>stress, sadness</td>\n",
       "      <td>1.0</td>\n",
       "      <td>...</td>\n",
       "      <td>1.0</td>\n",
       "      <td>2.0</td>\n",
       "      <td>5</td>\n",
       "      <td>1165.0</td>\n",
       "      <td>500</td>\n",
       "      <td>none</td>\n",
       "      <td>5</td>\n",
       "      <td>1</td>\n",
       "      <td>900</td>\n",
       "      <td>nan</td>\n",
       "    </tr>\n",
       "    <tr>\n",
       "      <th>3</th>\n",
       "      <td>3.200</td>\n",
       "      <td>1</td>\n",
       "      <td>1</td>\n",
       "      <td>430</td>\n",
       "      <td>3.0</td>\n",
       "      <td>420.0</td>\n",
       "      <td>2</td>\n",
       "      <td>Pizza, Mac and cheese, ice cream</td>\n",
       "      <td>Boredom</td>\n",
       "      <td>2.0</td>\n",
       "      <td>...</td>\n",
       "      <td>1.0</td>\n",
       "      <td>2.0</td>\n",
       "      <td>5</td>\n",
       "      <td>725.0</td>\n",
       "      <td>690</td>\n",
       "      <td>NaN</td>\n",
       "      <td>3</td>\n",
       "      <td>1</td>\n",
       "      <td>1315</td>\n",
       "      <td>240</td>\n",
       "    </tr>\n",
       "    <tr>\n",
       "      <th>4</th>\n",
       "      <td>3.500</td>\n",
       "      <td>1</td>\n",
       "      <td>1</td>\n",
       "      <td>720</td>\n",
       "      <td>2.0</td>\n",
       "      <td>420.0</td>\n",
       "      <td>2</td>\n",
       "      <td>Ice cream, chocolate, chips</td>\n",
       "      <td>Stress, boredom, cravings</td>\n",
       "      <td>1.0</td>\n",
       "      <td>...</td>\n",
       "      <td>1.0</td>\n",
       "      <td>1.0</td>\n",
       "      <td>4</td>\n",
       "      <td>940.0</td>\n",
       "      <td>500</td>\n",
       "      <td>Softball</td>\n",
       "      <td>4</td>\n",
       "      <td>2</td>\n",
       "      <td>760</td>\n",
       "      <td>190</td>\n",
       "    </tr>\n",
       "  </tbody>\n",
       "</table>\n",
       "<p>5 rows × 61 columns</p>\n",
       "</div>"
      ],
      "text/plain": [
       "     GPA  Gender  breakfast  calories_chicken  calories_day  calories_scone  \\\n",
       "0  2.400       2          1               430           NaN           315.0   \n",
       "1  3.654       1          1               610           3.0           420.0   \n",
       "2  3.300       1          1               720           4.0           420.0   \n",
       "3  3.200       1          1               430           3.0           420.0   \n",
       "4  3.500       1          1               720           2.0           420.0   \n",
       "\n",
       "   coffee                      comfort_food        comfort_food_reasons  \\\n",
       "0       1                              none       we dont have comfort    \n",
       "1       2       chocolate, chips, ice cream        Stress, bored, anger   \n",
       "2       2   frozen yogurt, pizza, fast food             stress, sadness   \n",
       "3       2  Pizza, Mac and cheese, ice cream                     Boredom   \n",
       "4       2      Ice cream, chocolate, chips   Stress, boredom, cravings    \n",
       "\n",
       "   comfort_food_reasons_coded  ...  soup  sports  thai_food tortilla_calories  \\\n",
       "0                         9.0  ...   1.0     1.0          1            1165.0   \n",
       "1                         1.0  ...   1.0     1.0          2             725.0   \n",
       "2                         1.0  ...   1.0     2.0          5            1165.0   \n",
       "3                         2.0  ...   1.0     2.0          5             725.0   \n",
       "4                         1.0  ...   1.0     1.0          4             940.0   \n",
       "\n",
       "   turkey_calories  type_sports veggies_day  vitamins  waffle_calories  weight  \n",
       "0              345   car racing           5         1             1315     187  \n",
       "1              690  Basketball            4         2              900     155  \n",
       "2              500         none           5         1              900    nan   \n",
       "3              690          NaN           3         1             1315     240  \n",
       "4              500     Softball           4         2              760     190  \n",
       "\n",
       "[5 rows x 61 columns]"
      ]
     },
     "execution_count": 11,
     "metadata": {},
     "output_type": "execute_result"
    }
   ],
   "source": [
    "import pandas as pd\n",
    "# Create a dataframe from a csv file\n",
    "food_df = pd.read_csv(\"food.csv\", sep = \",\")\n",
    "\n",
    "\n",
    "# Print out the top **From a csv file**5 rows\n",
    "food_df.head()"
   ]
  },
  {
   "cell_type": "markdown",
   "metadata": {},
   "source": [
    "**From a json file**"
   ]
  },
  {
   "cell_type": "code",
   "execution_count": 12,
   "metadata": {},
   "outputs": [
    {
     "data": {
      "text/html": [
       "<div>\n",
       "<style scoped>\n",
       "    .dataframe tbody tr th:only-of-type {\n",
       "        vertical-align: middle;\n",
       "    }\n",
       "\n",
       "    .dataframe tbody tr th {\n",
       "        vertical-align: top;\n",
       "    }\n",
       "\n",
       "    .dataframe thead th {\n",
       "        text-align: right;\n",
       "    }\n",
       "</style>\n",
       "<table border=\"1\" class=\"dataframe\">\n",
       "  <thead>\n",
       "    <tr style=\"text-align: right;\">\n",
       "      <th></th>\n",
       "      <th>question</th>\n",
       "      <th>author_name</th>\n",
       "      <th>date</th>\n",
       "      <th>flair</th>\n",
       "      <th>answers</th>\n",
       "    </tr>\n",
       "  </thead>\n",
       "  <tbody>\n",
       "    <tr>\n",
       "      <th>0</th>\n",
       "      <td>ELI5: They said \"the water doesn't have an exp...</td>\n",
       "      <td>natefigs1</td>\n",
       "      <td>2020-02-23</td>\n",
       "      <td>Chemistry</td>\n",
       "      <td>[{'date': '19/02/20', 'score': 14100, 'text': ...</td>\n",
       "    </tr>\n",
       "    <tr>\n",
       "      <th>1</th>\n",
       "      <td>ELI5: Can a soap be dirty? In a sense that the...</td>\n",
       "      <td>RetardedmammalGG</td>\n",
       "      <td>2020-02-23</td>\n",
       "      <td>Chemistry</td>\n",
       "      <td>[{'date': '16/02/20', 'score': 9600, 'text': '...</td>\n",
       "    </tr>\n",
       "    <tr>\n",
       "      <th>2</th>\n",
       "      <td>ELI5 Why is it that Oreos get soggy in regular...</td>\n",
       "      <td>barefootess</td>\n",
       "      <td>2020-02-23</td>\n",
       "      <td>Chemistry</td>\n",
       "      <td>[{'date': '04/02/20', 'score': 6900, 'text': '...</td>\n",
       "    </tr>\n",
       "    <tr>\n",
       "      <th>3</th>\n",
       "      <td>ELI5: How is that Alcohol 70% is better than A...</td>\n",
       "      <td>pixie_laluna</td>\n",
       "      <td>2020-02-23</td>\n",
       "      <td>Chemistry</td>\n",
       "      <td>[{'date': '24/01/20', 'score': 18100, 'text': ...</td>\n",
       "    </tr>\n",
       "    <tr>\n",
       "      <th>4</th>\n",
       "      <td>ELI5: How do whipped cream containers work?</td>\n",
       "      <td>BananaBob55</td>\n",
       "      <td>2020-02-23</td>\n",
       "      <td>Chemistry</td>\n",
       "      <td>[{'date': '24/01/20', 'score': 4000, 'text': '...</td>\n",
       "    </tr>\n",
       "  </tbody>\n",
       "</table>\n",
       "</div>"
      ],
      "text/plain": [
       "                                            question       author_name  \\\n",
       "0  ELI5: They said \"the water doesn't have an exp...         natefigs1   \n",
       "1  ELI5: Can a soap be dirty? In a sense that the...  RetardedmammalGG   \n",
       "2  ELI5 Why is it that Oreos get soggy in regular...       barefootess   \n",
       "3  ELI5: How is that Alcohol 70% is better than A...      pixie_laluna   \n",
       "4        ELI5: How do whipped cream containers work?       BananaBob55   \n",
       "\n",
       "        date      flair                                            answers  \n",
       "0 2020-02-23  Chemistry  [{'date': '19/02/20', 'score': 14100, 'text': ...  \n",
       "1 2020-02-23  Chemistry  [{'date': '16/02/20', 'score': 9600, 'text': '...  \n",
       "2 2020-02-23  Chemistry  [{'date': '04/02/20', 'score': 6900, 'text': '...  \n",
       "3 2020-02-23  Chemistry  [{'date': '24/01/20', 'score': 18100, 'text': ...  \n",
       "4 2020-02-23  Chemistry  [{'date': '24/01/20', 'score': 4000, 'text': '...  "
      ]
     },
     "execution_count": 12,
     "metadata": {},
     "output_type": "execute_result"
    }
   ],
   "source": [
    "import pandas as pd\n",
    "eli5df = pd.read_json('eli5.json')\n",
    "eli5df.head()"
   ]
  },
  {
   "cell_type": "markdown",
   "metadata": {},
   "source": [
    "## 2. Inspecting a dataframe"
   ]
  },
  {
   "cell_type": "markdown",
   "metadata": {},
   "source": [
    "**Number of rows and columns**"
   ]
  },
  {
   "cell_type": "code",
   "execution_count": 13,
   "metadata": {},
   "outputs": [
    {
     "name": "stdout",
     "output_type": "stream",
     "text": [
      "There are 125 rows and 61 columns\n"
     ]
    }
   ],
   "source": [
    "# How many rows and columns ?\n",
    "rows, cols = food_df.shape\n",
    "print(\"There are %d rows and %d columns\"%(rows,cols))"
   ]
  },
  {
   "cell_type": "code",
   "execution_count": 14,
   "metadata": {},
   "outputs": [
    {
     "data": {
      "text/plain": [
       "RangeIndex(start=0, stop=2, step=1)"
      ]
     },
     "execution_count": 14,
     "metadata": {},
     "output_type": "execute_result"
    }
   ],
   "source": [
    "#View the number of rows\n",
    "df.index"
   ]
  },
  {
   "cell_type": "markdown",
   "metadata": {},
   "source": [
    "**Headers**"
   ]
  },
  {
   "cell_type": "code",
   "execution_count": 15,
   "metadata": {},
   "outputs": [
    {
     "data": {
      "text/plain": [
       "Index(['question', 'author_name', 'date', 'flair', 'answers'], dtype='object')"
      ]
     },
     "execution_count": 15,
     "metadata": {},
     "output_type": "execute_result"
    }
   ],
   "source": [
    "# View the headers\n",
    "eli5df.columns"
   ]
  },
  {
   "cell_type": "markdown",
   "metadata": {},
   "source": [
    "**Dispersion statistics**"
   ]
  },
  {
   "cell_type": "code",
   "execution_count": 16,
   "metadata": {},
   "outputs": [
    {
     "data": {
      "text/html": [
       "<div>\n",
       "<style scoped>\n",
       "    .dataframe tbody tr th:only-of-type {\n",
       "        vertical-align: middle;\n",
       "    }\n",
       "\n",
       "    .dataframe tbody tr th {\n",
       "        vertical-align: top;\n",
       "    }\n",
       "\n",
       "    .dataframe thead th {\n",
       "        text-align: right;\n",
       "    }\n",
       "</style>\n",
       "<table border=\"1\" class=\"dataframe\">\n",
       "  <thead>\n",
       "    <tr style=\"text-align: right;\">\n",
       "      <th></th>\n",
       "      <th>GPA</th>\n",
       "      <th>Gender</th>\n",
       "      <th>breakfast</th>\n",
       "      <th>calories_chicken</th>\n",
       "      <th>calories_day</th>\n",
       "      <th>calories_scone</th>\n",
       "      <th>coffee</th>\n",
       "      <th>comfort_food_reasons_coded</th>\n",
       "      <th>cook</th>\n",
       "      <th>comfort_food_reasons_coded.1</th>\n",
       "      <th>...</th>\n",
       "      <th>persian_food</th>\n",
       "      <th>self_perception_weight</th>\n",
       "      <th>soup</th>\n",
       "      <th>sports</th>\n",
       "      <th>thai_food</th>\n",
       "      <th>tortilla_calories</th>\n",
       "      <th>turkey_calories</th>\n",
       "      <th>veggies_day</th>\n",
       "      <th>vitamins</th>\n",
       "      <th>waffle_calories</th>\n",
       "    </tr>\n",
       "  </thead>\n",
       "  <tbody>\n",
       "    <tr>\n",
       "      <th>count</th>\n",
       "      <td>121.000000</td>\n",
       "      <td>125.000000</td>\n",
       "      <td>125.000000</td>\n",
       "      <td>125.000000</td>\n",
       "      <td>106.000000</td>\n",
       "      <td>124.000000</td>\n",
       "      <td>125.00000</td>\n",
       "      <td>106.000000</td>\n",
       "      <td>122.000000</td>\n",
       "      <td>125.000000</td>\n",
       "      <td>...</td>\n",
       "      <td>124.000000</td>\n",
       "      <td>124.000000</td>\n",
       "      <td>124.000000</td>\n",
       "      <td>123.000000</td>\n",
       "      <td>125.000000</td>\n",
       "      <td>124.000000</td>\n",
       "      <td>125.000000</td>\n",
       "      <td>125.000000</td>\n",
       "      <td>125.000000</td>\n",
       "      <td>125.000000</td>\n",
       "    </tr>\n",
       "    <tr>\n",
       "      <th>mean</th>\n",
       "      <td>3.418653</td>\n",
       "      <td>1.392000</td>\n",
       "      <td>1.112000</td>\n",
       "      <td>577.320000</td>\n",
       "      <td>3.028302</td>\n",
       "      <td>505.241935</td>\n",
       "      <td>1.75200</td>\n",
       "      <td>2.698113</td>\n",
       "      <td>2.786885</td>\n",
       "      <td>2.688000</td>\n",
       "      <td>...</td>\n",
       "      <td>2.806452</td>\n",
       "      <td>3.120968</td>\n",
       "      <td>1.217742</td>\n",
       "      <td>1.390244</td>\n",
       "      <td>3.336000</td>\n",
       "      <td>947.580645</td>\n",
       "      <td>555.040000</td>\n",
       "      <td>4.008000</td>\n",
       "      <td>1.512000</td>\n",
       "      <td>1073.400000</td>\n",
       "    </tr>\n",
       "    <tr>\n",
       "      <th>std</th>\n",
       "      <td>0.389998</td>\n",
       "      <td>0.490161</td>\n",
       "      <td>0.316636</td>\n",
       "      <td>131.214156</td>\n",
       "      <td>0.639308</td>\n",
       "      <td>230.840506</td>\n",
       "      <td>0.43359</td>\n",
       "      <td>1.972042</td>\n",
       "      <td>1.038351</td>\n",
       "      <td>1.910987</td>\n",
       "      <td>...</td>\n",
       "      <td>1.423824</td>\n",
       "      <td>1.115980</td>\n",
       "      <td>0.414385</td>\n",
       "      <td>0.489800</td>\n",
       "      <td>1.436528</td>\n",
       "      <td>202.090179</td>\n",
       "      <td>152.370379</td>\n",
       "      <td>1.081337</td>\n",
       "      <td>0.501867</td>\n",
       "      <td>248.667092</td>\n",
       "    </tr>\n",
       "    <tr>\n",
       "      <th>min</th>\n",
       "      <td>2.200000</td>\n",
       "      <td>1.000000</td>\n",
       "      <td>1.000000</td>\n",
       "      <td>265.000000</td>\n",
       "      <td>2.000000</td>\n",
       "      <td>315.000000</td>\n",
       "      <td>1.00000</td>\n",
       "      <td>1.000000</td>\n",
       "      <td>1.000000</td>\n",
       "      <td>1.000000</td>\n",
       "      <td>...</td>\n",
       "      <td>1.000000</td>\n",
       "      <td>1.000000</td>\n",
       "      <td>1.000000</td>\n",
       "      <td>1.000000</td>\n",
       "      <td>1.000000</td>\n",
       "      <td>580.000000</td>\n",
       "      <td>345.000000</td>\n",
       "      <td>1.000000</td>\n",
       "      <td>1.000000</td>\n",
       "      <td>575.000000</td>\n",
       "    </tr>\n",
       "    <tr>\n",
       "      <th>25%</th>\n",
       "      <td>3.200000</td>\n",
       "      <td>1.000000</td>\n",
       "      <td>1.000000</td>\n",
       "      <td>430.000000</td>\n",
       "      <td>3.000000</td>\n",
       "      <td>420.000000</td>\n",
       "      <td>2.00000</td>\n",
       "      <td>2.000000</td>\n",
       "      <td>2.000000</td>\n",
       "      <td>2.000000</td>\n",
       "      <td>...</td>\n",
       "      <td>2.000000</td>\n",
       "      <td>2.000000</td>\n",
       "      <td>1.000000</td>\n",
       "      <td>1.000000</td>\n",
       "      <td>2.000000</td>\n",
       "      <td>725.000000</td>\n",
       "      <td>500.000000</td>\n",
       "      <td>3.000000</td>\n",
       "      <td>1.000000</td>\n",
       "      <td>900.000000</td>\n",
       "    </tr>\n",
       "    <tr>\n",
       "      <th>50%</th>\n",
       "      <td>3.500000</td>\n",
       "      <td>1.000000</td>\n",
       "      <td>1.000000</td>\n",
       "      <td>610.000000</td>\n",
       "      <td>3.000000</td>\n",
       "      <td>420.000000</td>\n",
       "      <td>2.00000</td>\n",
       "      <td>2.000000</td>\n",
       "      <td>3.000000</td>\n",
       "      <td>2.000000</td>\n",
       "      <td>...</td>\n",
       "      <td>3.000000</td>\n",
       "      <td>3.000000</td>\n",
       "      <td>1.000000</td>\n",
       "      <td>1.000000</td>\n",
       "      <td>3.000000</td>\n",
       "      <td>940.000000</td>\n",
       "      <td>500.000000</td>\n",
       "      <td>4.000000</td>\n",
       "      <td>2.000000</td>\n",
       "      <td>900.000000</td>\n",
       "    </tr>\n",
       "    <tr>\n",
       "      <th>75%</th>\n",
       "      <td>3.700000</td>\n",
       "      <td>2.000000</td>\n",
       "      <td>1.000000</td>\n",
       "      <td>720.000000</td>\n",
       "      <td>3.000000</td>\n",
       "      <td>420.000000</td>\n",
       "      <td>2.00000</td>\n",
       "      <td>3.000000</td>\n",
       "      <td>3.000000</td>\n",
       "      <td>3.000000</td>\n",
       "      <td>...</td>\n",
       "      <td>4.000000</td>\n",
       "      <td>4.000000</td>\n",
       "      <td>1.000000</td>\n",
       "      <td>2.000000</td>\n",
       "      <td>5.000000</td>\n",
       "      <td>1165.000000</td>\n",
       "      <td>690.000000</td>\n",
       "      <td>5.000000</td>\n",
       "      <td>2.000000</td>\n",
       "      <td>1315.000000</td>\n",
       "    </tr>\n",
       "    <tr>\n",
       "      <th>max</th>\n",
       "      <td>4.000000</td>\n",
       "      <td>2.000000</td>\n",
       "      <td>2.000000</td>\n",
       "      <td>720.000000</td>\n",
       "      <td>4.000000</td>\n",
       "      <td>980.000000</td>\n",
       "      <td>2.00000</td>\n",
       "      <td>9.000000</td>\n",
       "      <td>5.000000</td>\n",
       "      <td>9.000000</td>\n",
       "      <td>...</td>\n",
       "      <td>5.000000</td>\n",
       "      <td>6.000000</td>\n",
       "      <td>2.000000</td>\n",
       "      <td>2.000000</td>\n",
       "      <td>5.000000</td>\n",
       "      <td>1165.000000</td>\n",
       "      <td>850.000000</td>\n",
       "      <td>5.000000</td>\n",
       "      <td>2.000000</td>\n",
       "      <td>1315.000000</td>\n",
       "    </tr>\n",
       "  </tbody>\n",
       "</table>\n",
       "<p>8 rows × 48 columns</p>\n",
       "</div>"
      ],
      "text/plain": [
       "              GPA      Gender   breakfast  calories_chicken  calories_day  \\\n",
       "count  121.000000  125.000000  125.000000        125.000000    106.000000   \n",
       "mean     3.418653    1.392000    1.112000        577.320000      3.028302   \n",
       "std      0.389998    0.490161    0.316636        131.214156      0.639308   \n",
       "min      2.200000    1.000000    1.000000        265.000000      2.000000   \n",
       "25%      3.200000    1.000000    1.000000        430.000000      3.000000   \n",
       "50%      3.500000    1.000000    1.000000        610.000000      3.000000   \n",
       "75%      3.700000    2.000000    1.000000        720.000000      3.000000   \n",
       "max      4.000000    2.000000    2.000000        720.000000      4.000000   \n",
       "\n",
       "       calories_scone     coffee  comfort_food_reasons_coded        cook  \\\n",
       "count      124.000000  125.00000                  106.000000  122.000000   \n",
       "mean       505.241935    1.75200                    2.698113    2.786885   \n",
       "std        230.840506    0.43359                    1.972042    1.038351   \n",
       "min        315.000000    1.00000                    1.000000    1.000000   \n",
       "25%        420.000000    2.00000                    2.000000    2.000000   \n",
       "50%        420.000000    2.00000                    2.000000    3.000000   \n",
       "75%        420.000000    2.00000                    3.000000    3.000000   \n",
       "max        980.000000    2.00000                    9.000000    5.000000   \n",
       "\n",
       "       comfort_food_reasons_coded.1  ...  persian_food  \\\n",
       "count                    125.000000  ...    124.000000   \n",
       "mean                       2.688000  ...      2.806452   \n",
       "std                        1.910987  ...      1.423824   \n",
       "min                        1.000000  ...      1.000000   \n",
       "25%                        2.000000  ...      2.000000   \n",
       "50%                        2.000000  ...      3.000000   \n",
       "75%                        3.000000  ...      4.000000   \n",
       "max                        9.000000  ...      5.000000   \n",
       "\n",
       "       self_perception_weight        soup      sports   thai_food  \\\n",
       "count              124.000000  124.000000  123.000000  125.000000   \n",
       "mean                 3.120968    1.217742    1.390244    3.336000   \n",
       "std                  1.115980    0.414385    0.489800    1.436528   \n",
       "min                  1.000000    1.000000    1.000000    1.000000   \n",
       "25%                  2.000000    1.000000    1.000000    2.000000   \n",
       "50%                  3.000000    1.000000    1.000000    3.000000   \n",
       "75%                  4.000000    1.000000    2.000000    5.000000   \n",
       "max                  6.000000    2.000000    2.000000    5.000000   \n",
       "\n",
       "       tortilla_calories  turkey_calories  veggies_day    vitamins  \\\n",
       "count         124.000000       125.000000   125.000000  125.000000   \n",
       "mean          947.580645       555.040000     4.008000    1.512000   \n",
       "std           202.090179       152.370379     1.081337    0.501867   \n",
       "min           580.000000       345.000000     1.000000    1.000000   \n",
       "25%           725.000000       500.000000     3.000000    1.000000   \n",
       "50%           940.000000       500.000000     4.000000    2.000000   \n",
       "75%          1165.000000       690.000000     5.000000    2.000000   \n",
       "max          1165.000000       850.000000     5.000000    2.000000   \n",
       "\n",
       "       waffle_calories  \n",
       "count       125.000000  \n",
       "mean       1073.400000  \n",
       "std         248.667092  \n",
       "min         575.000000  \n",
       "25%         900.000000  \n",
       "50%         900.000000  \n",
       "75%        1315.000000  \n",
       "max        1315.000000  \n",
       "\n",
       "[8 rows x 48 columns]"
      ]
     },
     "execution_count": 16,
     "metadata": {},
     "output_type": "execute_result"
    }
   ],
   "source": [
    "# Get Dispersion Statistics\n",
    "food_df.describe()"
   ]
  },
  {
   "cell_type": "markdown",
   "metadata": {},
   "source": [
    "**Checking for NULLs**"
   ]
  },
  {
   "cell_type": "code",
   "execution_count": 17,
   "metadata": {},
   "outputs": [
    {
     "data": {
      "text/plain": [
       "GPA                  4\n",
       "Gender               0\n",
       "breakfast            0\n",
       "calories_chicken     0\n",
       "calories_day        19\n",
       "                    ..\n",
       "type_sports         26\n",
       "veggies_day          0\n",
       "vitamins             0\n",
       "waffle_calories      0\n",
       "weight               2\n",
       "Length: 61, dtype: int64"
      ]
     },
     "execution_count": 17,
     "metadata": {},
     "output_type": "execute_result"
    }
   ],
   "source": [
    "# Get the number of nulls for each columns\n",
    "food_df.isnull().sum(axis = 0)"
   ]
  },
  {
   "cell_type": "markdown",
   "metadata": {},
   "source": [
    "## 3. Creating subframes"
   ]
  },
  {
   "cell_type": "markdown",
   "metadata": {},
   "source": [
    "**Extracting a column**"
   ]
  },
  {
   "cell_type": "code",
   "execution_count": 18,
   "metadata": {},
   "outputs": [
    {
     "data": {
      "text/plain": [
       "0    ELI5: They said \"the water doesn't have an exp...\n",
       "1    ELI5: Can a soap be dirty? In a sense that the...\n",
       "2    ELI5 Why is it that Oreos get soggy in regular...\n",
       "3    ELI5: How is that Alcohol 70% is better than A...\n",
       "4          ELI5: How do whipped cream containers work?\n",
       "Name: question, dtype: object"
      ]
     },
     "execution_count": 18,
     "metadata": {},
     "output_type": "execute_result"
    }
   ],
   "source": [
    "# Retrieve a column (first 5 rows)\n",
    "eli5df['question'].head()"
   ]
  },
  {
   "cell_type": "markdown",
   "metadata": {},
   "source": [
    "**Converting a column to a list**"
   ]
  },
  {
   "cell_type": "code",
   "execution_count": 19,
   "metadata": {},
   "outputs": [
    {
     "data": {
      "text/plain": [
       "['ELI5: They said \"the water doesn\\'t have an expiration date, the plastic bottle does\" so how come honey that comes in a plastic bottle doesn\\'t expire?',\n",
       " 'ELI5: Can a soap be dirty? In a sense that there are still some bacteria living on it.',\n",
       " 'ELI5 Why is it that Oreos get soggy in regular milk but not chocolate milk?',\n",
       " 'ELI5: How is that Alcohol 70% is better than Alcohol 90% as disinfectant ?',\n",
       " 'ELI5: How do whipped cream containers work?',\n",
       " 'ELI5: How come service industry dishwashers take only a few minutes to sanitize kitchenware but an at home dishwasher takes up to an hour',\n",
       " \"ELI5: Why does adding white vinegar to the laundry take care of bad smells and why don't laundry detergents already contain these properties?\",\n",
       " 'ELI5: Why does water boil more aggressively when you touch the bottom of the pan with a spoon?',\n",
       " \"ELI5: What's activated charcoal?\",\n",
       " 'ELI5: What chemicals are added to cigarettes and what is their purpose?',\n",
       " 'ELI5: Why does packaging tape adhere so well to cardboard but terribly to almost everything else?',\n",
       " 'ELI5: Why does water affect electronics in a negative way?',\n",
       " 'ELI5: How does febreeze actually destroy odour particles? If it even does?',\n",
       " \"ELI5: I read in an enviromental awareness chart that aluminium cans take 100 years to decompose but plastic takes more than million years. What makes the earth decompose aluminium and why can't it do the same for plastic?\",\n",
       " \"ELI5: Supposedly going faster uses more fuel. But your getting to the place quicker. Shouldn't you just be using the same amount of fuel as if you were driving slower and getting there later?\",\n",
       " 'ELI5: The differences between glucose, sucrose, lactose, fructose, and all of the other \"-oses.\"',\n",
       " 'ELI5: If electricity from natural gas power plants cant be stored, how do they know how much electricity to produce per day and where does the wasted electricity go to?',\n",
       " 'ELI5: why does hydrogen peroxide fizz when it touches wounds or anything dirty?',\n",
       " 'ELI5: Why do softer things like blankets feel warmer than things like rocks?',\n",
       " 'ELI5: Why does bourbon amplify the flavor of vanilla?',\n",
       " 'ELI5: How are atoms weighed',\n",
       " \"ELI5: when you look at the ingredient lists of products like shower gel, conditioner etc. there are often several types of alcohol included...what's the difference between these alcohols?\",\n",
       " 'ELI5: because fish oil is so good for you, why don’t we use it for cooking?',\n",
       " 'ELI5: temperature changing the taste of water',\n",
       " 'ELI5: What actually happens when soap meets bacteria?',\n",
       " 'ELI5: Why is baking soda called \"bicarbonate of soda\" when the formula is NaHCO3 (only one carbon)?',\n",
       " 'ELI5: In the phrase \"livestock are responsible for burping the methane equivalent of 3.1 gigatonnes of carbon dioxide into the atmosphere annually\" what does \"the methane equivalent of CO2\" mean?',\n",
       " 'ELI5: What is the difference between cake, bread, whole wheat, and all-purpose flour?',\n",
       " 'ELI5: Why does your hand get hot if you stick it in a tub of powdered laundry detergent?',\n",
       " 'ELI5 Why can you drink carbonated soda and beer straight out of a bottle with no backsplash, but champagne shoots everywhere?',\n",
       " 'ELI5: How does smoking cigarettes give you low doses of radiation?',\n",
       " 'ELI5: Why does marijuana seem to increase the efficacy / potency of other drugs?',\n",
       " 'Eli5: How is it that canned foods are able to last so long without expiring?',\n",
       " \"ELI5: What's the difference between air frying, convection baking and regular baking?\",\n",
       " 'ELI5: What causes those water growing toys to expand?',\n",
       " 'ELI5: why does water taste stale after a few days?',\n",
       " 'ELI5: What is the \"sharp\" in sharp cheddar? How are there various levels of \"sharp\"?',\n",
       " 'ELI5 Is the water contained in fruit more or less clean than filtered tap water?',\n",
       " 'ELI5 why do cockroaches die almost instantly when it gets contact with soap bubbles.',\n",
       " 'ELI5: Why does coke from a glass bottle taste more crisp than from a fountain machine?',\n",
       " 'ELI5: how come boiling water before freezing it makes the ice clear?',\n",
       " 'ELI5: Do we have biodegradable material that is cheap and easy to produce , and thus able to replace plastic, in order to damage the environment less? if not, how close are we to making one?',\n",
       " 'ELI5: Why does cold chocolate not taste as chocolatey?',\n",
       " 'ELI5: Why do elements turn into oxides if left exposed to air for a long period of time instead of nitrate, as nitrogen is more abundant in the air?',\n",
       " 'ELI5: How does sugar, ice, dish soap and water clean stains from Tupperware?',\n",
       " 'ELI5 why does cheese taste so different when it’s melted?',\n",
       " 'ELI5: Why does soap not work without water?',\n",
       " 'ELI5: Why is store brought ice clear but when you make it at home it goes cloudy?',\n",
       " 'ELI5: Why do the paper cups that places like fast food restaurants not get soggy and weak like paper straws do?',\n",
       " 'ELI5 why should i salt water before i make pasta in it?',\n",
       " 'ELI5: Why do some waves create more foam more than others?',\n",
       " 'ELI5 What causes freezer burn and why does it make food taste so horrible?',\n",
       " 'ELI5: How is peach flavoring so easily captured in gummies, water, etc, when so many other flavors taste obviously fake?',\n",
       " 'ELI5: can anyone explain why salt accelerates corrosion',\n",
       " 'ELI5: how do they craft a perfume, and then how do they decide whether its for men or women? Whats the chemistry behind it?',\n",
       " 'ELI5: Why do Bottles of carbonated Drinks get \"harder\" when shaken?',\n",
       " \"ELI5: Why is Venus the hottest planet in our solar system, when it's not closest to the sun?\",\n",
       " 'ELI5: why does water need to be boiling to cook noodles?',\n",
       " 'ELI5: Why is Zinc Oxide and Titanium Dioxide used in sunscreens?',\n",
       " 'ELI5 How is acid capable of corroding materials? What enables it to have this property?',\n",
       " 'ELI5: What is a surfactant and why is it useful?',\n",
       " 'ELI5: Whats the difference between sugar in fruits, sugar in sweets, sugar in normal food (like potatoes, meat) and raw white sugar that I buy in supermarket? Which one is worse for my health?',\n",
       " 'ELI5: Why does it usually take about a week for anti-anxiety meds/antidepressants to kick in?',\n",
       " 'ELI5: How does moisture sometimes generate more friction (aiding better grips then dry hands for example) but other times generate less friction (slippery floor for example)?',\n",
       " 'ELI5: Why do some aerosol products require that you shake the can before use, while others ask that you do not shake them?',\n",
       " 'ELI5: Why does saltwater not harm you?',\n",
       " 'ELI5: Tempering chocolate',\n",
       " 'ELI5, why is that that milk stays good in the fridge until the expired date, but if I make a recipe like soup and it has milk in it, the soup supposely go bad faster because of this ingredient and doesn’t even last a week in the fridge?',\n",
       " 'ELI5: What causes water and other liquids to stick to you and make you wet? Is it possible to swim in a liquid and be completely dry when you get out?',\n",
       " 'ELI5: What difference does the boiling point for water do?',\n",
       " \"ELI5: how do batteries (like AA and AAA) supply constant voltage as they're getting used up. doesn't the potential difference between their terminals decrease as they're used?\",\n",
       " 'ELI5 the triple point of water',\n",
       " 'ELI5: Why is nitrogen present in tanks of scuba divers?',\n",
       " 'ELI5: How do things know how to mix/spread evenly?',\n",
       " 'ELI5: Why do whiteboard markers become permanent over time despite being \"quick dry\"',\n",
       " 'Eli5: What is the difference between shampoo, shower gel, 2in1 and conditioner?',\n",
       " 'ELI5: Why does water make a grease fire bigger',\n",
       " 'ELI5: Why do alcohols have such low freezing points?',\n",
       " 'ELI5 do UV rays damage plants if so, what do they damage',\n",
       " 'ELI5: Why do some glues require you to apply onto both pieces and wait hours till dry before sticking them together?',\n",
       " \"ELI5: Why or why can't we use cloud seeding to fight forest fires?\",\n",
       " 'ELI5: How does seltzer water have a taste when it has no calories/sweeteners?',\n",
       " 'ELI5: Are there any differences in the effectiveness of skincare products that have the same active ingredient?',\n",
       " 'ELI5: How can napkins/paper towels absorb water upwards into the paper towel against the force of gravity, i.e into sections of the towel that are above the water line?',\n",
       " 'ELI5: What’s so special about Lead that it’s used so extensively when working with radioactive substances?',\n",
       " 'Eli5: cold vs warm soda',\n",
       " 'ELI5: White vs Clear Glue',\n",
       " \"ELI5: In theory, is it possible to reverse a combustion reaction with added energy? If that's the case, how would a specific reactant like methane be made?\",\n",
       " 'ELI5: Why can flood waters get 20-30 feet high on flat land, when water will fill it\\'s given space, wouldn\\'t the water \"just flow away?\"',\n",
       " 'ELI5: What makes adhesive tape actually stick?',\n",
       " 'ELI5: What are the differences between soap types?',\n",
       " 'ELI5: Why is the salinity higher in some parts of the oceans than others?',\n",
       " 'ELI5: how does a shaken can of soda lose its pressure over time, if its sealed?',\n",
       " 'ELI5: why do diamond drills wear out?',\n",
       " 'ELI5 Why is the chemical GenX considered safe in Telflon pans despite having the similar carcinogenic implications as it’s precursor?',\n",
       " 'ELI5: Why do bales of hay catch fire if they don’t dry before?',\n",
       " 'ELI5:What happens to medicine when it’s near it’s expiry date or lets say 6months after?',\n",
       " 'ELI5 How does glue in bottles stay wet?',\n",
       " 'ELI5: How are molecules in a liquid organized (eg h2o in liquid water)? Are they all connected (as in solids like ice) or is there more empty space between them?',\n",
       " 'ELI5: How is the electricity for electric cars made, and does it negatively affect the planet?',\n",
       " 'ELI5: How are wild and sometimes dangerous animals in documentaries filmed so close and at so many different angles without noticing the camera operator?',\n",
       " 'ELI5: Why is it that spicy food always seems so much spicier when hot (temperature)?',\n",
       " 'ELI5: Why is Australia so overwhelmingly dry when nearby places like Papua New Guinea, New Zealand, Indonesia, and Tasmania are all so wet and lush?',\n",
       " 'ELI5: What is the purpose of labels in the music industry and why do they hold so much power as well making more money than the artists signed?',\n",
       " \"ELI5: How does plastic window wrap do such a good job at insulating windows? It's just a thin layer of tight plastic\",\n",
       " 'ELI5: How did old forts actually \"protect\" a strategic area? Couldn\\'t the enemy just go around them or stay out of range?',\n",
       " 'ELI5: If Pluto is not a planet because it \"has not cleared its neighboring region of other objects”, how can Earth, Juptier, Saturn, etc be considered a planet?',\n",
       " 'ELI5: Why does putting clear (scotch/packing) tape on a frosted window let you see through it?',\n",
       " 'ELI5: What’s a “war crime”? I hear people throw this word around so much it’s confusing.',\n",
       " \"ELI5: Is there a particular reason why most prison doors' bars are vertical?\",\n",
       " 'ELI5: Video games: What are \"particle effects\" and \"ray tracing\"?',\n",
       " 'ELI5: What does misspelling look like in Chinese and how do you tell someone how it’s supposed to be spelled?',\n",
       " 'ELI5: When and How Was Earth Discovered to be Round?',\n",
       " 'ELI5 Before the invention of glasses, were people with bad vision just doomed to a miserable existence?',\n",
       " 'ELI5: How is water “wasted”?',\n",
       " \"ELI5 How can hackers crack a password through brute force if there's a limit of attempts?\",\n",
       " 'ELI5: How do recycling factories deal with the problem of people putting things in the wrong bins?',\n",
       " 'ELI5 Why are certain medications for minor problems such as dandruff only available with a prescription?',\n",
       " 'ELI5: why do harmonicas come in different keys? Does this mean that to be able to play any song which you like , you need to purchase a set of harmonicas? If no, does a chromatic harmonica capable of playing any song?',\n",
       " 'ELI5: Why when talking about money is the currency sign put before the amount, e.g. $86 when it\\'s said \"86 dollars\"',\n",
       " 'ELI5 how do scientists find the weight of planets?',\n",
       " 'ELI5: Why is a repetitive sound \"annoying\", but an irregular one isn\\'t?',\n",
       " \"ELI5: When and why did the 'dozen' become a standard(ish?) quantity?\",\n",
       " 'ELI5: Why are people able to declare personal bankruptcy despite having substantial assets?',\n",
       " 'ELI5: What mesures are taken in place to prevent foreign governments from intercepting/tampering with submarine fiber cables ?',\n",
       " \"ELI5: Why can't we use the ocean to dump onto fires?\",\n",
       " 'ELI5: How come when someone is trying to remember a word or a name, they can pinpoint odd details like what letter it starts with or how many syllables it has, all without remembering the actual word?',\n",
       " \"ELI5: Why do all vitamin supplements say that their claimed benefits aren't verified. Do we really not have any confirmation of what vitamins do?\",\n",
       " 'ELI5: Why do two things that taste great on their own (such as chocolate or cheese), taste horrible when you combine the two?',\n",
       " \"ELI5: If Mandarin Chinese is a tonal language, meaning that the inflection of one's voice changes the meaning of the word, then how is it properly understood when being sung?\",\n",
       " 'ELI5: How do paleontologists know how dinosaur skin was patterned?',\n",
       " 'Eli5: Why were a significant amount of scientific breakthroughs brought about by wealthy men?',\n",
       " \"ELI5: What is the purpose of the blue tape at the top of your windshield after it's been replaced and why does it need to be there for 24 hours?\",\n",
       " 'ELI5: Why did humans domesticate celery when it has very little nutritional value?',\n",
       " 'ELI5: Why do soldiers still learn to march even though that it’s not practical in actual combat',\n",
       " 'ELI5 what are cyclone bombs? How are they different from regular cyclones and other storms?',\n",
       " 'ELI5: How do you make the fire hotter? I mean fe something melts in 3000°C and what do you do to make the fire achieve a higher temperature and how does it work?',\n",
       " 'ELI5 what are the differences between an sheriff, cop, detective and city guard ?',\n",
       " 'ELI5: What does it mean when a politician “creates jobs”?',\n",
       " 'ELI5: Why is drinking alcohol common in some Buddhist countries?',\n",
       " 'ELI5: Why are smoother and less complex food (ex. no chunks or crunchy bits in a sauce) more appealing when your young?',\n",
       " 'ELI5: Why are helicopters/ airplanes allowed to fly over dense cities like NYC with he risk of crashing.',\n",
       " 'ELI5: Why does analog clock has only 12 hrs in it?',\n",
       " 'ELI5 : How does the scoring system work in bowling?',\n",
       " \"ELI5: What do DJ's actually do when preforming?\",\n",
       " 'ELI5: Who verifies all these \"world leading\" or \"best\" companies?',\n",
       " 'ELI5:Is the 5 second rule a real thing? Do other countries have this saying?',\n",
       " 'ELI5: Whats the difference between sarcasm and satire?',\n",
       " 'ELI5 how can bread be both \"whole wheat\" and \"gluten-free\"?',\n",
       " 'ELI5 When you add someone as a beneficiary, how do they know who it is just by name and birthday.',\n",
       " 'ELI5: What the scientific explanation as to why you are not supposed to put kitchen knives in a dishwasher? how is this any different than hand washing them?',\n",
       " 'ELI5: Why, when talking about weight gain and loss, do we count in calories and not the actual mass of what we eat?',\n",
       " 'ELI5: Why are perfectly cut screams so funny to us? What about prematurely cutting off a scream (or just about anything else) makes it so funny to us?',\n",
       " 'ELI5: How come everything looks grainy or static-y in low light?',\n",
       " 'ELI5: Why does adding salt while/before cooking not make a dish salty like adding in the salt after cooking does?',\n",
       " 'ELI5: Why are \"Say this 5 times fast\" phrases so hard to say?',\n",
       " 'ELI5: How do people in super tall buildings escape when there is a fire on a floor below?',\n",
       " 'ELI5 Can you change the flavour of meat by changing the diet of the animal?',\n",
       " 'ELI5 Why do they send fire trucks with ambulances when there’s no fire?',\n",
       " 'ELI5: what is the difference between a regular full barrel shotgun and a sawed-off or short barrel shotgun And the changes in lethality with its shortening?',\n",
       " 'ELI5: When you stop paying for a grave at a cemetery, what happens to the casket?',\n",
       " 'ELI5: What is Scientific Materialism?',\n",
       " 'ELI5: Why is „saving“ water good for the environment?',\n",
       " \"ELI5: How does therapy actually work, how do you find a good one, and what's the difference between counseling/therapy/psychiatrists/psychologists/etc.?\",\n",
       " 'ELI5: Why does it feel natural to take two steps at a time climbing up stairs sometimes but not while going down?',\n",
       " 'ELI5 : Today’s smartphones have more megapixels than some of the dslr cameras. Can they be better if not how so?',\n",
       " 'ELI5 Why can’t we just burn all our trash?',\n",
       " 'ELI5: Why do musicians that play in an orchestra have to use sheet music to assist them when other musicians that play other genres of music such as pop and rock etc don’t?',\n",
       " \"ELI5: Why do baseball games regularly get rained out, but football games do not? They're both outdoor sports, so why the double standard?\",\n",
       " 'ELI5: Claiming on sales tax',\n",
       " 'ELI5 How are composite sketches done in police work?',\n",
       " 'ELI5: how does content get leaked? Do people get in trouble and/or exposed?',\n",
       " 'ELI5: Why are baseball/hockey fights considered normal, but basketball fights considered catastrophic?',\n",
       " 'ELI5: How do people who suffer from epilepsy safely drive?',\n",
       " 'ELI5 - Songwriters, how does a spoken language impact the formation of the lyrics of a song?',\n",
       " 'ELI5: What pain, besides having no oxygen, is a fish feeling when they’re out of the water?',\n",
       " 'ELI5: What is the overall idea of “Simulation Theory”? We are living in a simulation that was created by another creature?',\n",
       " 'ELI5; What causes the \"grain effect\" in cameras and eyes when trying to look in very low light conditions?',\n",
       " 'ELI5: Why are most heartburn pills packed in three tiny bottles while every other OTC pill is in one single bottle?',\n",
       " \"ELI5: there's been a lot of talk about internal monologues recently, what exactly does it mean? and how can i tell if i have one?\",\n",
       " 'ELI5 What are these weird circles in the desert in Nevada?',\n",
       " 'ELI5: How is Michelob ultra turning farm land “organic”?',\n",
       " 'ELI5 I’ve heard that the reason most Indian food is spicy is to prevent it from spoiling, how does that work?',\n",
       " 'ELI5: what are the black squiggles in banana bread?',\n",
       " 'ELI5: Why are condoms only 97% effective?',\n",
       " 'ELI5: sleeping is supposed to restore your energy so we sleep when tired, why you still feeling tired after waking up? Your energy is supposed to be restored (depending on how long you slept at last)',\n",
       " 'ELI5: Are there notes in-between the half steps of a piano?',\n",
       " 'ELI5: How do farmers survive throught the whole year on just their own crops/livestock',\n",
       " 'ELI5: what is “theory”',\n",
       " 'ELI5: Why do some rocks, such as jade stone, feel cool to touch?',\n",
       " \"ELI5: Why does hot water feel hotter when you move your hand or body through it than when you're still?\",\n",
       " 'ELI5 What does the \"acidity\" in coffee mean? How do we differentiate it?',\n",
       " 'ELI5: Since, the notes in music theory (A-G) are cyclic, how do tell which key is higher and which one lower?',\n",
       " 'ELI5 Are artificial sweeteners worse for you than sugar?',\n",
       " 'ELI5 What is the difference between “serious but not life threatening” and “critical but stable” condition??',\n",
       " 'ELI5: What are half steps and whole steps on piano?',\n",
       " 'ELI5 Psychoanalysis',\n",
       " 'ELI5: why does a photograph\\'s \"temperature\" level go from orange to blue with white in the middle, whereas a flame\\'s temperature scale goes from orange to white with blue in the middle?',\n",
       " \"ELI5: How do public speaking instructors tell that you're not making eye contact with the audience even when you try to make it look like you are?\",\n",
       " 'ELI5: What’s happening in your brain when you sleep walk/talk?',\n",
       " 'ELI5 How do direction work in space because north,east,west and south are bonded to earth? How does a spacecraft guide itself in the unending space?',\n",
       " 'ELI5: Why does sleeping in a car feel different than normal sleep?',\n",
       " 'ELI5: Why is it, when you try to wipe away drops of blood off of a surface, it leaves a behind a thin ring around it which is harder to clean?',\n",
       " 'ELI5: If the notion that electrons orbit around a nucleus is a misconception, what type of motion do electrons have? Do they just float in one position?',\n",
       " \"ELI5: Radiocarbon dating is based on the half-life of C14 but how are scientists so sure that the half life of any particular radio isotope doesn't change over long periods of time (hundreds of thousands to millions of years)?\",\n",
       " 'ELI5: Why do vocal harmonies of older songs sound have that rich, \"airy\" quality that doesn\\'t seem to appear in modern music? (Crosby Stills and Nash, Simon and Garfunkel, et Al)',\n",
       " 'ELI5: is there a difference in hitting an object at the same speed head on, say at 50 mph, and hitting a fixed, immovable object at 100 mph? Why?',\n",
       " 'ELI5: Why did cyan and magenta replace blue and red as the standard primaries in color pigments? What exactly makes CMY(K) superior to the RYB model? And why did yellow stay the same when the other two were updated?',\n",
       " 'ELI5: Why is trying to pull a sock onto a wet foot so difficult, generating so much more friction than putting it on a dry foot?',\n",
       " 'ELI5: Howcome we can see a campfire from miles away but it only illuminates such a small area?',\n",
       " 'ELI5: why do you steer into the skid?',\n",
       " 'ELI5: Why do things turn dark when wet?',\n",
       " 'ELI5: How does the scissor glide when you cut a paper and why does it glide only after you’ve cut a little bit?',\n",
       " 'ELIF: how is time relative?',\n",
       " \"ELI5: When you push an object (but don't push hard enough to move it!) you use up energy but don't get any work done. Where does this energy go?\",\n",
       " 'ELI5: Why do smooth, glossy surfaces feel sticky to the touch but a slightly textured surface does not?',\n",
       " 'ELI5: When launching a deep-space craft, how do the rotation and orbit speeds of the Earth and direction (relative to the prior) impact the travel time and actual velocity of the space craft?',\n",
       " 'ELI5: What creates the mushroom cloud when an atomic bomb blows up?',\n",
       " 'ELI5: Christina Koch returned from a 328 mission aboard the ISS. In college we learned that she would not experience time the same as us on earth over the 328 days. How can this be true and by how much younger would she be than you or I?',\n",
       " 'ELI5: Why does the magnetic north pole move?',\n",
       " 'ELI5:Why is the human body not sensitive to radio waves?',\n",
       " 'ELI5: Why are the gas giants so intensely radioactive?',\n",
       " 'ELI5: How do crickets make such a loud noise with their tiny legs?',\n",
       " 'ELI5 Why radio waves can penetrate thick walls that even visible light with significantly higher frequencies cannot pass through.',\n",
       " \"ELI5: How can astronomers tell how 'old' light is? In other words, how can they tell if they are looking at an object 10 light years away or 1009 light years?\",\n",
       " 'ELI5: How does mass have anything to do with gravity?',\n",
       " 'ELI5: Does letting helium out of a balloon (without refilling the space) make it get heavier or lighter?',\n",
       " \"ELI5 Atoms' nuclei are depicted as being orbited by electrons from all directions. However, solar systems are depicted as the planets laying on a flat plane orbiting the sun. (Image links below in case my explanation wasn't clear). Why do the two orbit systems behave differently?\",\n",
       " 'ELI5: How do clothes get dry from being outside or on radiators?',\n",
       " 'ELI5: What exactly are re-entry \"windows\" for astronauts to re-enter through?',\n",
       " 'ELI5; Why does running allow us to jump higher?',\n",
       " 'ELI5: What exactly is space?',\n",
       " \"ELI5: How exactly does Newton's third law work?\",\n",
       " 'ELI5: How can the observable universe be over 90 billion light-years across when the universe is only 14 billion years old?',\n",
       " 'ELI5, what is electrical resistance?',\n",
       " 'ELI5: How do planes not become covered in ice when flying in -70F temperatures?',\n",
       " 'ELI5: If warm air rises and cooler air falls, why is it colder at high altitudes?',\n",
       " \"ELI5 Why do some metals ring when struck while others don't?\",\n",
       " 'ELI5: Why do you get tired from holding a heavy object?',\n",
       " 'ELI5: Why do helicopters crash so much more often than other aircraft?',\n",
       " 'ELI5: What are the reasons we think we can only move in one direction in time?',\n",
       " 'ELI5 How do salts make us more buoyant in water?',\n",
       " 'ELI5: Why are shorter EM radiation wavelengths (UV, Gamma) harder to produce compared to longer ones (IR light, radio waves)?',\n",
       " 'ELI5: How is it theoretically possible for gravity to have infinite range throughout the universe?',\n",
       " 'ELI5: Why are stable orbits not considered to be perpetual motion machines?',\n",
       " \"ELI5: Why isn't the night sky just one big light?\",\n",
       " 'ELI5: How does CO2 warm the Earth? How is energy directed by CO2 back towards the Earth instead of away?',\n",
       " 'ELI5: What makes a bouncing ball bouncy?',\n",
       " 'ELI5 Can a man survive to a fall from 200m in water, why?',\n",
       " 'ELI5: How is new space created as the universe expands? Einstein discovered that empty space is not nothing, so what is responsible for new space appearing into existence, when energy and matter cannot?',\n",
       " 'ELI5: Why does a tennis ball travel faster when the outside temperature is higher',\n",
       " 'ELI5: What does it mean when a scientist says ‘per second per second’?',\n",
       " 'ELI5: How can matter collapse in itself? Is there a limit in size to this?',\n",
       " 'ELI5: Why are rocket exhaust ports increasing in diameter, while jet engine exhaust ports are decreasing?',\n",
       " 'ELI5: Why is it that when you throw something in a car moving at 60km/hr, the object doesn’t come flying back to you at that same speed?',\n",
       " 'ELI5: From my 5 yo, why is everything in space round?',\n",
       " 'ELI5: How big are clouds? Like, how much geographical space could they cover? A town? A city?',\n",
       " \"ELI5: When I'm driving and I look far enough down the road, why does the road reflect like a mirror?\",\n",
       " 'ELI5: How are heat and cold „stored“ in the air?',\n",
       " 'ELI5: How does a nuclear reactor work, and what makes it different than a bomb?',\n",
       " 'ELI5: If at the end of a star’s lifespan gravity becomes greater than its energy released by fusion, why does the star get bigger instead of smaller?',\n",
       " 'ELI5: Where will energy go when the universe goes through proton decay?',\n",
       " 'ELI5: Knowing that mass and weight are different, how would we find mass in a vacuum?',\n",
       " 'ELI5: Why does a charged particle moving through space create a magnetic field?',\n",
       " \"ELI5: With Jupiter's dozens of moons, how is it that they don't collide with each other?\",\n",
       " 'ELI5: Why is light so bouncy?',\n",
       " 'ELI5: Why do electrical charges cause electricity?',\n",
       " 'ELI5: Why are neodymium magnets so strong when neodymium is not a magnetic element?',\n",
       " 'ELI5: How the universe is 13.5 billion years old but we can see 45 billion light years away?',\n",
       " 'ELIF: Why does putting a heavy book on a a crumbled piece of paper make it flatten out and why does it take 10-15 mins for it to happen; not instantaneously?',\n",
       " 'ELI5 How can we know the shape of our galaxy?',\n",
       " '[ELI5] Why does applying a torque on an unthreaded cap map it easier to pull off?',\n",
       " 'ELI5 how drafting behind another car makes it easier to overtake.',\n",
       " 'ELI5: What makes a solar flare so dangerous?',\n",
       " 'ELI5: How do continents “move”, where’s the space to knock about everywhere coming from?',\n",
       " 'ELI5: cherenkov radiation?',\n",
       " 'ELI5: Why does a zipper sound different during opening from during closing?',\n",
       " 'ELI5: what’s a wavefront?',\n",
       " 'ELI5: How do you increase water pressure? (A brief explanation of the physics would be appreciated)',\n",
       " 'ELI5: why jumping on top of a moving train is not like jumping inside it?',\n",
       " 'ELI5: If you drive down the road and you roll two back windows down about 30% of the way, it creates a sound that shakes your eardrums. What/how is that happening?',\n",
       " 'ELI5: why do giants in shows and movies always look like they’re moving so slow?',\n",
       " 'ELI5 Putting a spoon or fork into an open bottle of champagne - does it really help keeping it fresh? If so, why?',\n",
       " 'ELI5: How come ice cubes melt when added to water instead of freezing the surrounding water?',\n",
       " \"ELI5: Does cold radiate outwards? What's the process by which a hot object becomes cold?\",\n",
       " 'ELI5: Why Don’t High Wind Speeds Kill You?',\n",
       " 'ELI5: Why is it harder to open a door handle closer to the lock?',\n",
       " 'ELI5: If magnetic fields are continuous, why do iron filings around a magnet arrange themselves in neat lines as a series of concentric circles?',\n",
       " 'ELI5: why do mountains in the distance look blue?',\n",
       " 'ELI5: What causes the low white noise sound you hear when you cup your hand around your ear?',\n",
       " 'ELI5: How does the Nike Vaporfly make runners faster?',\n",
       " 'ELI5: Why it easier to drive on fresh snow vs snow that has already been driven over?',\n",
       " 'ELIF: why is there a force acted on our bodies after a vehicle stops?',\n",
       " \"ELI5 how does a ship anchor sink but the ship itself doesn't when the anchor is on the ship\",\n",
       " 'ELI5: Why do snowboarders go side to side when going down a mountain or hillside?',\n",
       " 'ELI5: How do counterweights on construction cranes not tip the crane before loads are hoisted?',\n",
       " 'ELI5: How does radiation work? Why is it good (why does it exist)? Why is it bad?',\n",
       " 'ELI5: What does „Star collapses under its own gravity” really mean when Star dies?',\n",
       " 'ELI5: Is the universe actually expanding and getting bigger? Or is light from farther away just now reaching us and allowing us to see what was already there? And how would we tell the difference?',\n",
       " 'ELI5: How does the end of a whip travel faster than sound when the person’s are doesn’t go anywhere near that fast?']"
      ]
     },
     "execution_count": 19,
     "metadata": {},
     "output_type": "execute_result"
    }
   ],
   "source": [
    "eli5df['question'].tolist()"
   ]
  },
  {
   "cell_type": "markdown",
   "metadata": {},
   "source": [
    "**Extracting multiple columns**"
   ]
  },
  {
   "cell_type": "code",
   "execution_count": 20,
   "metadata": {},
   "outputs": [
    {
     "data": {
      "text/html": [
       "<div>\n",
       "<style scoped>\n",
       "    .dataframe tbody tr th:only-of-type {\n",
       "        vertical-align: middle;\n",
       "    }\n",
       "\n",
       "    .dataframe tbody tr th {\n",
       "        vertical-align: top;\n",
       "    }\n",
       "\n",
       "    .dataframe thead th {\n",
       "        text-align: right;\n",
       "    }\n",
       "</style>\n",
       "<table border=\"1\" class=\"dataframe\">\n",
       "  <thead>\n",
       "    <tr style=\"text-align: right;\">\n",
       "      <th></th>\n",
       "      <th>question</th>\n",
       "      <th>author_name</th>\n",
       "    </tr>\n",
       "  </thead>\n",
       "  <tbody>\n",
       "    <tr>\n",
       "      <th>0</th>\n",
       "      <td>ELI5: They said \"the water doesn't have an exp...</td>\n",
       "      <td>natefigs1</td>\n",
       "    </tr>\n",
       "    <tr>\n",
       "      <th>1</th>\n",
       "      <td>ELI5: Can a soap be dirty? In a sense that the...</td>\n",
       "      <td>RetardedmammalGG</td>\n",
       "    </tr>\n",
       "    <tr>\n",
       "      <th>2</th>\n",
       "      <td>ELI5 Why is it that Oreos get soggy in regular...</td>\n",
       "      <td>barefootess</td>\n",
       "    </tr>\n",
       "    <tr>\n",
       "      <th>3</th>\n",
       "      <td>ELI5: How is that Alcohol 70% is better than A...</td>\n",
       "      <td>pixie_laluna</td>\n",
       "    </tr>\n",
       "    <tr>\n",
       "      <th>4</th>\n",
       "      <td>ELI5: How do whipped cream containers work?</td>\n",
       "      <td>BananaBob55</td>\n",
       "    </tr>\n",
       "  </tbody>\n",
       "</table>\n",
       "</div>"
      ],
      "text/plain": [
       "                                            question       author_name\n",
       "0  ELI5: They said \"the water doesn't have an exp...         natefigs1\n",
       "1  ELI5: Can a soap be dirty? In a sense that the...  RetardedmammalGG\n",
       "2  ELI5 Why is it that Oreos get soggy in regular...       barefootess\n",
       "3  ELI5: How is that Alcohol 70% is better than A...      pixie_laluna\n",
       "4        ELI5: How do whipped cream containers work?       BananaBob55"
      ]
     },
     "execution_count": 20,
     "metadata": {},
     "output_type": "execute_result"
    }
   ],
   "source": [
    "# Retrieve multiple columns (\n",
    "eli5df[['question','author_name']].head()"
   ]
  },
  {
   "cell_type": "markdown",
   "metadata": {},
   "source": [
    "**Extracting a row**"
   ]
  },
  {
   "cell_type": "code",
   "execution_count": 21,
   "metadata": {},
   "outputs": [
    {
     "data": {
      "text/plain": [
       "question       ELI5: Can a soap be dirty? In a sense that the...\n",
       "author_name                                     RetardedmammalGG\n",
       "date                                         2020-02-23 00:00:00\n",
       "flair                                                  Chemistry\n",
       "answers        [{'date': '16/02/20', 'score': 9600, 'text': '...\n",
       "Name: 1, dtype: object"
      ]
     },
     "execution_count": 21,
     "metadata": {},
     "output_type": "execute_result"
    }
   ],
   "source": [
    "# Retrieve rowœœ\n",
    "\n",
    "eli5df.loc[1]"
   ]
  },
  {
   "cell_type": "markdown",
   "metadata": {},
   "source": [
    "**Extracting multiple rows**"
   ]
  },
  {
   "cell_type": "code",
   "execution_count": 22,
   "metadata": {},
   "outputs": [
    {
     "data": {
      "text/html": [
       "<div>\n",
       "<style scoped>\n",
       "    .dataframe tbody tr th:only-of-type {\n",
       "        vertical-align: middle;\n",
       "    }\n",
       "\n",
       "    .dataframe tbody tr th {\n",
       "        vertical-align: top;\n",
       "    }\n",
       "\n",
       "    .dataframe thead th {\n",
       "        text-align: right;\n",
       "    }\n",
       "</style>\n",
       "<table border=\"1\" class=\"dataframe\">\n",
       "  <thead>\n",
       "    <tr style=\"text-align: right;\">\n",
       "      <th></th>\n",
       "      <th>question</th>\n",
       "      <th>author_name</th>\n",
       "      <th>date</th>\n",
       "      <th>flair</th>\n",
       "      <th>answers</th>\n",
       "    </tr>\n",
       "  </thead>\n",
       "  <tbody>\n",
       "    <tr>\n",
       "      <th>1</th>\n",
       "      <td>ELI5: Can a soap be dirty? In a sense that the...</td>\n",
       "      <td>RetardedmammalGG</td>\n",
       "      <td>2020-02-23</td>\n",
       "      <td>Chemistry</td>\n",
       "      <td>[{'date': '16/02/20', 'score': 9600, 'text': '...</td>\n",
       "    </tr>\n",
       "    <tr>\n",
       "      <th>2</th>\n",
       "      <td>ELI5 Why is it that Oreos get soggy in regular...</td>\n",
       "      <td>barefootess</td>\n",
       "      <td>2020-02-23</td>\n",
       "      <td>Chemistry</td>\n",
       "      <td>[{'date': '04/02/20', 'score': 6900, 'text': '...</td>\n",
       "    </tr>\n",
       "  </tbody>\n",
       "</table>\n",
       "</div>"
      ],
      "text/plain": [
       "                                            question       author_name  \\\n",
       "1  ELI5: Can a soap be dirty? In a sense that the...  RetardedmammalGG   \n",
       "2  ELI5 Why is it that Oreos get soggy in regular...       barefootess   \n",
       "\n",
       "        date      flair                                            answers  \n",
       "1 2020-02-23  Chemistry  [{'date': '16/02/20', 'score': 9600, 'text': '...  \n",
       "2 2020-02-23  Chemistry  [{'date': '04/02/20', 'score': 6900, 'text': '...  "
      ]
     },
     "execution_count": 22,
     "metadata": {},
     "output_type": "execute_result"
    }
   ],
   "source": [
    "# Retrieve multiple rows\n",
    "eli5df.loc[1:2]"
   ]
  },
  {
   "cell_type": "markdown",
   "metadata": {},
   "source": [
    "**Dropping some columns**"
   ]
  },
  {
   "cell_type": "code",
   "execution_count": 23,
   "metadata": {},
   "outputs": [
    {
     "data": {
      "text/html": [
       "<div>\n",
       "<style scoped>\n",
       "    .dataframe tbody tr th:only-of-type {\n",
       "        vertical-align: middle;\n",
       "    }\n",
       "\n",
       "    .dataframe tbody tr th {\n",
       "        vertical-align: top;\n",
       "    }\n",
       "\n",
       "    .dataframe thead th {\n",
       "        text-align: right;\n",
       "    }\n",
       "</style>\n",
       "<table border=\"1\" class=\"dataframe\">\n",
       "  <thead>\n",
       "    <tr style=\"text-align: right;\">\n",
       "      <th></th>\n",
       "      <th>date</th>\n",
       "      <th>flair</th>\n",
       "      <th>answers</th>\n",
       "    </tr>\n",
       "  </thead>\n",
       "  <tbody>\n",
       "    <tr>\n",
       "      <th>0</th>\n",
       "      <td>2020-02-23</td>\n",
       "      <td>Chemistry</td>\n",
       "      <td>[{'date': '19/02/20', 'score': 14100, 'text': ...</td>\n",
       "    </tr>\n",
       "    <tr>\n",
       "      <th>1</th>\n",
       "      <td>2020-02-23</td>\n",
       "      <td>Chemistry</td>\n",
       "      <td>[{'date': '16/02/20', 'score': 9600, 'text': '...</td>\n",
       "    </tr>\n",
       "    <tr>\n",
       "      <th>2</th>\n",
       "      <td>2020-02-23</td>\n",
       "      <td>Chemistry</td>\n",
       "      <td>[{'date': '04/02/20', 'score': 6900, 'text': '...</td>\n",
       "    </tr>\n",
       "    <tr>\n",
       "      <th>3</th>\n",
       "      <td>2020-02-23</td>\n",
       "      <td>Chemistry</td>\n",
       "      <td>[{'date': '24/01/20', 'score': 18100, 'text': ...</td>\n",
       "    </tr>\n",
       "    <tr>\n",
       "      <th>4</th>\n",
       "      <td>2020-02-23</td>\n",
       "      <td>Chemistry</td>\n",
       "      <td>[{'date': '24/01/20', 'score': 4000, 'text': '...</td>\n",
       "    </tr>\n",
       "  </tbody>\n",
       "</table>\n",
       "</div>"
      ],
      "text/plain": [
       "        date      flair                                            answers\n",
       "0 2020-02-23  Chemistry  [{'date': '19/02/20', 'score': 14100, 'text': ...\n",
       "1 2020-02-23  Chemistry  [{'date': '16/02/20', 'score': 9600, 'text': '...\n",
       "2 2020-02-23  Chemistry  [{'date': '04/02/20', 'score': 6900, 'text': '...\n",
       "3 2020-02-23  Chemistry  [{'date': '24/01/20', 'score': 18100, 'text': ...\n",
       "4 2020-02-23  Chemistry  [{'date': '24/01/20', 'score': 4000, 'text': '..."
      ]
     },
     "execution_count": 23,
     "metadata": {},
     "output_type": "execute_result"
    }
   ],
   "source": [
    "# Creating a new frame by dropping some columns\n",
    "X = eli5df.drop(['question','author_name'], axis = 1)\n",
    "X.head()"
   ]
  },
  {
   "cell_type": "markdown",
   "metadata": {},
   "source": [
    "## 4. Modifying  a dataframe"
   ]
  },
  {
   "cell_type": "markdown",
   "metadata": {},
   "source": [
    "**Retrieve a subframe that satisfies a condition**"
   ]
  },
  {
   "cell_type": "code",
   "execution_count": 24,
   "metadata": {},
   "outputs": [
    {
     "data": {
      "text/html": [
       "<div>\n",
       "<style scoped>\n",
       "    .dataframe tbody tr th:only-of-type {\n",
       "        vertical-align: middle;\n",
       "    }\n",
       "\n",
       "    .dataframe tbody tr th {\n",
       "        vertical-align: top;\n",
       "    }\n",
       "\n",
       "    .dataframe thead th {\n",
       "        text-align: right;\n",
       "    }\n",
       "</style>\n",
       "<table border=\"1\" class=\"dataframe\">\n",
       "  <thead>\n",
       "    <tr style=\"text-align: right;\">\n",
       "      <th></th>\n",
       "      <th>question</th>\n",
       "      <th>author_name</th>\n",
       "      <th>date</th>\n",
       "      <th>flair</th>\n",
       "      <th>answers</th>\n",
       "    </tr>\n",
       "  </thead>\n",
       "  <tbody>\n",
       "    <tr>\n",
       "      <th>200</th>\n",
       "      <td>ELI5 How do direction work in space because no...</td>\n",
       "      <td>yashpatil__</td>\n",
       "      <td>2020-02-23</td>\n",
       "      <td>Physics</td>\n",
       "      <td>[{'date': '23/02/20', 'score': None, 'text': '...</td>\n",
       "    </tr>\n",
       "    <tr>\n",
       "      <th>201</th>\n",
       "      <td>ELI5: Why does sleeping in a car feel differen...</td>\n",
       "      <td>lmaoyeahh2</td>\n",
       "      <td>2020-02-23</td>\n",
       "      <td>Physics</td>\n",
       "      <td>[{'date': '19/02/20', 'score': None, 'text': '...</td>\n",
       "    </tr>\n",
       "    <tr>\n",
       "      <th>202</th>\n",
       "      <td>ELI5: Why is it, when you try to wipe away dro...</td>\n",
       "      <td>alloftheabove12</td>\n",
       "      <td>2020-02-23</td>\n",
       "      <td>Physics</td>\n",
       "      <td>[{'date': '14/02/20', 'score': None, 'text': N...</td>\n",
       "    </tr>\n",
       "    <tr>\n",
       "      <th>203</th>\n",
       "      <td>ELI5: If the notion that electrons orbit aroun...</td>\n",
       "      <td>DUIofPussy</td>\n",
       "      <td>2020-02-23</td>\n",
       "      <td>Physics</td>\n",
       "      <td>[{'date': '24/01/20', 'score': 4500, 'text': '...</td>\n",
       "    </tr>\n",
       "    <tr>\n",
       "      <th>204</th>\n",
       "      <td>ELI5: Radiocarbon dating is based on the half-...</td>\n",
       "      <td>KevinMcAlisterAtHome</td>\n",
       "      <td>2020-02-23</td>\n",
       "      <td>Physics</td>\n",
       "      <td>[{'date': '24/01/20', 'score': 2200, 'text': '...</td>\n",
       "    </tr>\n",
       "    <tr>\n",
       "      <th>...</th>\n",
       "      <td>...</td>\n",
       "      <td>...</td>\n",
       "      <td>...</td>\n",
       "      <td>...</td>\n",
       "      <td>...</td>\n",
       "    </tr>\n",
       "    <tr>\n",
       "      <th>295</th>\n",
       "      <td>ELI5: How do counterweights on construction cr...</td>\n",
       "      <td>PDWAMMO</td>\n",
       "      <td>2020-02-23</td>\n",
       "      <td>Physics</td>\n",
       "      <td>[{'date': '02/02/20', 'score': 8, 'text': 'Som...</td>\n",
       "    </tr>\n",
       "    <tr>\n",
       "      <th>296</th>\n",
       "      <td>ELI5: How does radiation work? Why is it good ...</td>\n",
       "      <td>curiousfrosty</td>\n",
       "      <td>2020-02-23</td>\n",
       "      <td>Physics</td>\n",
       "      <td>[{'date': '13/02/20', 'score': 8, 'text': 'Rad...</td>\n",
       "    </tr>\n",
       "    <tr>\n",
       "      <th>297</th>\n",
       "      <td>ELI5: What does „Star collapses under its own ...</td>\n",
       "      <td>Copywithoutexample</td>\n",
       "      <td>2020-02-23</td>\n",
       "      <td>Physics</td>\n",
       "      <td>[{'date': '19/02/20', 'score': 6, 'text': 'The...</td>\n",
       "    </tr>\n",
       "    <tr>\n",
       "      <th>298</th>\n",
       "      <td>ELI5: Is the universe actually expanding and g...</td>\n",
       "      <td>phyllislis</td>\n",
       "      <td>2020-02-23</td>\n",
       "      <td>Physics</td>\n",
       "      <td>[{'date': '24/01/20', 'score': 13, 'text': 'Th...</td>\n",
       "    </tr>\n",
       "    <tr>\n",
       "      <th>299</th>\n",
       "      <td>ELI5: How does the end of a whip travel faster...</td>\n",
       "      <td>BigRedCowboy</td>\n",
       "      <td>2020-02-23</td>\n",
       "      <td>Physics</td>\n",
       "      <td>[{'date': '05/02/20', 'score': 12, 'text': 'So...</td>\n",
       "    </tr>\n",
       "  </tbody>\n",
       "</table>\n",
       "<p>100 rows × 5 columns</p>\n",
       "</div>"
      ],
      "text/plain": [
       "                                              question           author_name  \\\n",
       "200  ELI5 How do direction work in space because no...           yashpatil__   \n",
       "201  ELI5: Why does sleeping in a car feel differen...            lmaoyeahh2   \n",
       "202  ELI5: Why is it, when you try to wipe away dro...       alloftheabove12   \n",
       "203  ELI5: If the notion that electrons orbit aroun...            DUIofPussy   \n",
       "204  ELI5: Radiocarbon dating is based on the half-...  KevinMcAlisterAtHome   \n",
       "..                                                 ...                   ...   \n",
       "295  ELI5: How do counterweights on construction cr...               PDWAMMO   \n",
       "296  ELI5: How does radiation work? Why is it good ...         curiousfrosty   \n",
       "297  ELI5: What does „Star collapses under its own ...    Copywithoutexample   \n",
       "298  ELI5: Is the universe actually expanding and g...            phyllislis   \n",
       "299  ELI5: How does the end of a whip travel faster...          BigRedCowboy   \n",
       "\n",
       "          date    flair                                            answers  \n",
       "200 2020-02-23  Physics  [{'date': '23/02/20', 'score': None, 'text': '...  \n",
       "201 2020-02-23  Physics  [{'date': '19/02/20', 'score': None, 'text': '...  \n",
       "202 2020-02-23  Physics  [{'date': '14/02/20', 'score': None, 'text': N...  \n",
       "203 2020-02-23  Physics  [{'date': '24/01/20', 'score': 4500, 'text': '...  \n",
       "204 2020-02-23  Physics  [{'date': '24/01/20', 'score': 2200, 'text': '...  \n",
       "..         ...      ...                                                ...  \n",
       "295 2020-02-23  Physics  [{'date': '02/02/20', 'score': 8, 'text': 'Som...  \n",
       "296 2020-02-23  Physics  [{'date': '13/02/20', 'score': 8, 'text': 'Rad...  \n",
       "297 2020-02-23  Physics  [{'date': '19/02/20', 'score': 6, 'text': 'The...  \n",
       "298 2020-02-23  Physics  [{'date': '24/01/20', 'score': 13, 'text': 'Th...  \n",
       "299 2020-02-23  Physics  [{'date': '05/02/20', 'score': 12, 'text': 'So...  \n",
       "\n",
       "[100 rows x 5 columns]"
      ]
     },
     "execution_count": 24,
     "metadata": {},
     "output_type": "execute_result"
    }
   ],
   "source": [
    "# Retrieve a subframe that satisfies a condition\n",
    "eli5df.head()\n",
    "eli5df[eli5df[\"flair\"] == \"Physics\"]"
   ]
  },
  {
   "cell_type": "markdown",
   "metadata": {},
   "source": [
    "**Shuffling a pandas frame**"
   ]
  },
  {
   "cell_type": "code",
   "execution_count": 25,
   "metadata": {},
   "outputs": [
    {
     "data": {
      "text/html": [
       "<div>\n",
       "<style scoped>\n",
       "    .dataframe tbody tr th:only-of-type {\n",
       "        vertical-align: middle;\n",
       "    }\n",
       "\n",
       "    .dataframe tbody tr th {\n",
       "        vertical-align: top;\n",
       "    }\n",
       "\n",
       "    .dataframe thead th {\n",
       "        text-align: right;\n",
       "    }\n",
       "</style>\n",
       "<table border=\"1\" class=\"dataframe\">\n",
       "  <thead>\n",
       "    <tr style=\"text-align: right;\">\n",
       "      <th></th>\n",
       "      <th>question</th>\n",
       "      <th>author_name</th>\n",
       "      <th>date</th>\n",
       "      <th>flair</th>\n",
       "      <th>answers</th>\n",
       "    </tr>\n",
       "  </thead>\n",
       "  <tbody>\n",
       "    <tr>\n",
       "      <th>0</th>\n",
       "      <td>ELI5: They said \"the water doesn't have an exp...</td>\n",
       "      <td>natefigs1</td>\n",
       "      <td>2020-02-23</td>\n",
       "      <td>Chemistry</td>\n",
       "      <td>[{'date': '19/02/20', 'score': 14100, 'text': ...</td>\n",
       "    </tr>\n",
       "    <tr>\n",
       "      <th>1</th>\n",
       "      <td>ELI5: Can a soap be dirty? In a sense that the...</td>\n",
       "      <td>RetardedmammalGG</td>\n",
       "      <td>2020-02-23</td>\n",
       "      <td>Chemistry</td>\n",
       "      <td>[{'date': '16/02/20', 'score': 9600, 'text': '...</td>\n",
       "    </tr>\n",
       "    <tr>\n",
       "      <th>2</th>\n",
       "      <td>ELI5 Why is it that Oreos get soggy in regular...</td>\n",
       "      <td>barefootess</td>\n",
       "      <td>2020-02-23</td>\n",
       "      <td>Chemistry</td>\n",
       "      <td>[{'date': '04/02/20', 'score': 6900, 'text': '...</td>\n",
       "    </tr>\n",
       "    <tr>\n",
       "      <th>3</th>\n",
       "      <td>ELI5: How is that Alcohol 70% is better than A...</td>\n",
       "      <td>pixie_laluna</td>\n",
       "      <td>2020-02-23</td>\n",
       "      <td>Chemistry</td>\n",
       "      <td>[{'date': '24/01/20', 'score': 18100, 'text': ...</td>\n",
       "    </tr>\n",
       "    <tr>\n",
       "      <th>4</th>\n",
       "      <td>ELI5: How do whipped cream containers work?</td>\n",
       "      <td>BananaBob55</td>\n",
       "      <td>2020-02-23</td>\n",
       "      <td>Chemistry</td>\n",
       "      <td>[{'date': '24/01/20', 'score': 4000, 'text': '...</td>\n",
       "    </tr>\n",
       "    <tr>\n",
       "      <th>...</th>\n",
       "      <td>...</td>\n",
       "      <td>...</td>\n",
       "      <td>...</td>\n",
       "      <td>...</td>\n",
       "      <td>...</td>\n",
       "    </tr>\n",
       "    <tr>\n",
       "      <th>295</th>\n",
       "      <td>ELI5: How do counterweights on construction cr...</td>\n",
       "      <td>PDWAMMO</td>\n",
       "      <td>2020-02-23</td>\n",
       "      <td>Physics</td>\n",
       "      <td>[{'date': '02/02/20', 'score': 8, 'text': 'Som...</td>\n",
       "    </tr>\n",
       "    <tr>\n",
       "      <th>296</th>\n",
       "      <td>ELI5: How does radiation work? Why is it good ...</td>\n",
       "      <td>curiousfrosty</td>\n",
       "      <td>2020-02-23</td>\n",
       "      <td>Physics</td>\n",
       "      <td>[{'date': '13/02/20', 'score': 8, 'text': 'Rad...</td>\n",
       "    </tr>\n",
       "    <tr>\n",
       "      <th>297</th>\n",
       "      <td>ELI5: What does „Star collapses under its own ...</td>\n",
       "      <td>Copywithoutexample</td>\n",
       "      <td>2020-02-23</td>\n",
       "      <td>Physics</td>\n",
       "      <td>[{'date': '19/02/20', 'score': 6, 'text': 'The...</td>\n",
       "    </tr>\n",
       "    <tr>\n",
       "      <th>298</th>\n",
       "      <td>ELI5: Is the universe actually expanding and g...</td>\n",
       "      <td>phyllislis</td>\n",
       "      <td>2020-02-23</td>\n",
       "      <td>Physics</td>\n",
       "      <td>[{'date': '24/01/20', 'score': 13, 'text': 'Th...</td>\n",
       "    </tr>\n",
       "    <tr>\n",
       "      <th>299</th>\n",
       "      <td>ELI5: How does the end of a whip travel faster...</td>\n",
       "      <td>BigRedCowboy</td>\n",
       "      <td>2020-02-23</td>\n",
       "      <td>Physics</td>\n",
       "      <td>[{'date': '05/02/20', 'score': 12, 'text': 'So...</td>\n",
       "    </tr>\n",
       "  </tbody>\n",
       "</table>\n",
       "<p>300 rows × 5 columns</p>\n",
       "</div>"
      ],
      "text/plain": [
       "                                              question         author_name  \\\n",
       "0    ELI5: They said \"the water doesn't have an exp...           natefigs1   \n",
       "1    ELI5: Can a soap be dirty? In a sense that the...    RetardedmammalGG   \n",
       "2    ELI5 Why is it that Oreos get soggy in regular...         barefootess   \n",
       "3    ELI5: How is that Alcohol 70% is better than A...        pixie_laluna   \n",
       "4          ELI5: How do whipped cream containers work?         BananaBob55   \n",
       "..                                                 ...                 ...   \n",
       "295  ELI5: How do counterweights on construction cr...             PDWAMMO   \n",
       "296  ELI5: How does radiation work? Why is it good ...       curiousfrosty   \n",
       "297  ELI5: What does „Star collapses under its own ...  Copywithoutexample   \n",
       "298  ELI5: Is the universe actually expanding and g...          phyllislis   \n",
       "299  ELI5: How does the end of a whip travel faster...        BigRedCowboy   \n",
       "\n",
       "          date      flair                                            answers  \n",
       "0   2020-02-23  Chemistry  [{'date': '19/02/20', 'score': 14100, 'text': ...  \n",
       "1   2020-02-23  Chemistry  [{'date': '16/02/20', 'score': 9600, 'text': '...  \n",
       "2   2020-02-23  Chemistry  [{'date': '04/02/20', 'score': 6900, 'text': '...  \n",
       "3   2020-02-23  Chemistry  [{'date': '24/01/20', 'score': 18100, 'text': ...  \n",
       "4   2020-02-23  Chemistry  [{'date': '24/01/20', 'score': 4000, 'text': '...  \n",
       "..         ...        ...                                                ...  \n",
       "295 2020-02-23    Physics  [{'date': '02/02/20', 'score': 8, 'text': 'Som...  \n",
       "296 2020-02-23    Physics  [{'date': '13/02/20', 'score': 8, 'text': 'Rad...  \n",
       "297 2020-02-23    Physics  [{'date': '19/02/20', 'score': 6, 'text': 'The...  \n",
       "298 2020-02-23    Physics  [{'date': '24/01/20', 'score': 13, 'text': 'Th...  \n",
       "299 2020-02-23    Physics  [{'date': '05/02/20', 'score': 12, 'text': 'So...  \n",
       "\n",
       "[300 rows x 5 columns]"
      ]
     },
     "execution_count": 25,
     "metadata": {},
     "output_type": "execute_result"
    }
   ],
   "source": [
    "eli5df"
   ]
  },
  {
   "cell_type": "code",
   "execution_count": 26,
   "metadata": {},
   "outputs": [
    {
     "ename": "ModuleNotFoundError",
     "evalue": "No module named 'sklearn'",
     "output_type": "error",
     "traceback": [
      "\u001b[0;31m---------------------------------------------------------------------------\u001b[0m",
      "\u001b[0;31mModuleNotFoundError\u001b[0m                       Traceback (most recent call last)",
      "Cell \u001b[0;32mIn[26], line 1\u001b[0m\n\u001b[0;32m----> 1\u001b[0m \u001b[38;5;28;01mfrom\u001b[39;00m \u001b[38;5;21;01msklearn\u001b[39;00m\u001b[38;5;21;01m.\u001b[39;00m\u001b[38;5;21;01mutils\u001b[39;00m \u001b[38;5;28;01mimport\u001b[39;00m shuffle\n\u001b[1;32m      2\u001b[0m df \u001b[38;5;241m=\u001b[39m shuffle(X)\n\u001b[1;32m      3\u001b[0m df\u001b[38;5;241m.\u001b[39mhead()\n",
      "\u001b[0;31mModuleNotFoundError\u001b[0m: No module named 'sklearn'"
     ]
    }
   ],
   "source": [
    "from sklearn.utils import shuffle\n",
    "df = shuffle(X)\n",
    "df.head()"
   ]
  },
  {
   "cell_type": "markdown",
   "metadata": {},
   "source": [
    "**Applying a function to a column**"
   ]
  },
  {
   "cell_type": "code",
   "execution_count": null,
   "metadata": {
    "scrolled": true
   },
   "outputs": [],
   "source": [
    "# Applying a function to a column\n",
    "def list_len(string):\n",
    "    return len(string.split(' '))\n",
    "    \n",
    "eli5df[\"question\"].apply(list_len).head()"
   ]
  },
  {
   "cell_type": "markdown",
   "metadata": {},
   "source": [
    "**Iterating over the rows of a column**"
   ]
  },
  {
   "cell_type": "code",
   "execution_count": null,
   "metadata": {},
   "outputs": [],
   "source": [
    "import pandas as pd\n",
    "\n",
    "data = {\n",
    "  \"firstname\": [\"Sally\", \"Mary\", \"John\"],\n",
    "  \"age\": [50, 40, 30]\n",
    "}\n",
    "\n",
    "df = pd.DataFrame(data)\n",
    "\n",
    "for index, row in df.iterrows():\n",
    "  print(row[\"firstname\"])"
   ]
  },
  {
   "cell_type": "markdown",
   "metadata": {},
   "source": [
    "**Getting the type of a column**"
   ]
  },
  {
   "cell_type": "code",
   "execution_count": null,
   "metadata": {},
   "outputs": [],
   "source": [
    "eli5df[\"question\"].dtypes"
   ]
  },
  {
   "cell_type": "markdown",
   "metadata": {},
   "source": [
    "**Concatenating two frames**"
   ]
  },
  {
   "cell_type": "code",
   "execution_count": null,
   "metadata": {},
   "outputs": [],
   "source": [
    "Q = eli5df[\"question\"]\n",
    "Qcounts = eli5df[\"question\"].apply(list_len)\n",
    "C = pd.Series(Qcounts,name=\"Headers\")\n",
    "newdf = pd.concat([Q,C],axis = 1)\n",
    "newdf"
   ]
  },
  {
   "cell_type": "markdown",
   "metadata": {},
   "source": [
    "**Extracting all text from a colum**"
   ]
  },
  {
   "cell_type": "code",
   "execution_count": null,
   "metadata": {},
   "outputs": [],
   "source": [
    "import pandas as pd\n",
    "data = {'Family_Name':[\"de la porte\", \"brown\", \"van de Berg\", \"Pater\",\"Caret\",\"Starlet\"]}\n",
    "\n",
    "# Create a pd DataFrame. \n",
    "df = pd.DataFrame(data) \n",
    "  \n",
    "# print the dataframe\n",
    "df\n",
    "df['Family_Name'].str.cat(sep=\" \")"
   ]
  },
  {
   "cell_type": "code",
   "execution_count": null,
   "metadata": {},
   "outputs": [],
   "source": [
    "df"
   ]
  },
  {
   "cell_type": "markdown",
   "metadata": {},
   "source": [
    "**Handling Columns with List values**"
   ]
  },
  {
   "cell_type": "code",
   "execution_count": null,
   "metadata": {},
   "outputs": [],
   "source": [
    "data = {'Marks':[99, 98, 95],\n",
    "        'Name':[['Tom', 'Jack'], ['nick'], ['juli','peter','paul']]}\n",
    "\n",
    "# Create a pd DataFrame. \n",
    "df = pd.DataFrame(data) \n",
    "df.head()"
   ]
  },
  {
   "cell_type": "code",
   "execution_count": null,
   "metadata": {},
   "outputs": [],
   "source": [
    "df.index\n",
    "l = []\n",
    "for i in range(df.shape[0]):\n",
    "    print(df[\"Name\"][i])\n",
    "    l = l+(df[\"Name\"][i])\n",
    "l\n"
   ]
  },
  {
   "cell_type": "markdown",
   "metadata": {},
   "source": [
    "**Get the size of each group**\n",
    "\n",
    "For each value in a  colum, get the number of rows having that value"
   ]
  },
  {
   "cell_type": "code",
   "execution_count": null,
   "metadata": {
    "scrolled": true
   },
   "outputs": [],
   "source": [
    "# size of each group\n",
    "print(df.groupby('Marks').size())"
   ]
  },
  {
   "cell_type": "markdown",
   "metadata": {},
   "source": [
    "#### Get unique values in column"
   ]
  },
  {
   "cell_type": "code",
   "execution_count": null,
   "metadata": {
    "scrolled": true
   },
   "outputs": [],
   "source": [
    "import pandas as pd\n",
    "import numpy as np\n",
    "technologies = {\n",
    "    'Courses':[\"Spark\",\"PySpark\",\"Python\",\"pandas\",\"Python\",\"Spark\",\"pandas\"],\n",
    "    'Fee' :[20000,25000,22000,30000,22000,20000,30000],\n",
    "    'Duration':['30days','40days','35days','50days','40days','30days','50days'],\n",
    "    'Discount':[1000,2300,1200,2000,2300,1000,2000]\n",
    "              }\n",
    "df = pd.DataFrame(technologies)\n",
    "print(df)"
   ]
  },
  {
   "cell_type": "code",
   "execution_count": null,
   "metadata": {},
   "outputs": [],
   "source": [
    "print(df['Courses'].unique())"
   ]
  },
  {
   "cell_type": "markdown",
   "metadata": {},
   "source": [
    "**Convert a dataframe to a dictionary**"
   ]
  },
  {
   "cell_type": "code",
   "execution_count": null,
   "metadata": {},
   "outputs": [],
   "source": [
    "import pandas as pd\n",
    "df = pd.DataFrame({'col1': [1, 2,2],\n",
    "                   'col2': [0.5, 0.75,0.5]},\n",
    "                  index=['row1', 'row2' ,'row3'])\n",
    "df"
   ]
  },
  {
   "cell_type": "code",
   "execution_count": null,
   "metadata": {
    "scrolled": true
   },
   "outputs": [],
   "source": [
    "df.to_dict()"
   ]
  },
  {
   "cell_type": "markdown",
   "metadata": {},
   "source": [
    "**Get the set of unique values in a given column**"
   ]
  },
  {
   "cell_type": "code",
   "execution_count": null,
   "metadata": {},
   "outputs": [],
   "source": [
    "df[\"col2\"].unique()"
   ]
  },
  {
   "cell_type": "code",
   "execution_count": null,
   "metadata": {},
   "outputs": [],
   "source": [
    "data = ['John','Darwin']\n",
    "df = pd.DataFrame(data)\n",
    "df"
   ]
  },
  {
   "cell_type": "code",
   "execution_count": null,
   "metadata": {},
   "outputs": [],
   "source": [
    "df.to_dict()"
   ]
  },
  {
   "cell_type": "markdown",
   "metadata": {},
   "source": [
    "#### Pandas eval"
   ]
  },
  {
   "cell_type": "code",
   "execution_count": null,
   "metadata": {},
   "outputs": [],
   "source": [
    "import pandas as pd\n",
    "df = pd.DataFrame({\"animal\": [\"dog\", \"pig\"], \"age\": [10, 20]})\n",
    "df"
   ]
  },
  {
   "cell_type": "code",
   "execution_count": null,
   "metadata": {},
   "outputs": [],
   "source": [
    "pd.eval(\"double_age = df.age * 2\", target=df)"
   ]
  },
  {
   "cell_type": "markdown",
   "metadata": {},
   "source": [
    "**Indexing a Dataframe using a variable**"
   ]
  },
  {
   "cell_type": "code",
   "execution_count": null,
   "metadata": {},
   "outputs": [],
   "source": [
    "for x in df.columns:\n",
    "    print(x,df[f\"{x}\"].shape)"
   ]
  },
  {
   "cell_type": "markdown",
   "metadata": {},
   "source": [
    "## 5. Exporting a dataframe to a file"
   ]
  },
  {
   "cell_type": "code",
   "execution_count": null,
   "metadata": {},
   "outputs": [],
   "source": [
    "# to a csv file\n",
    "df.to_csv('file_name.csv', encoding='utf-8')"
   ]
  },
  {
   "cell_type": "code",
   "execution_count": null,
   "metadata": {},
   "outputs": [],
   "source": [
    "# to an excel file\n",
    "# install with '''python -m pip install openpyxl'''\n",
    "df.to_excel('file_name.xlsx', encoding='utf-8')"
   ]
  },
  {
   "cell_type": "markdown",
   "metadata": {},
   "source": [
    "## Iterating over one or more columns"
   ]
  },
  {
   "cell_type": "code",
   "execution_count": null,
   "metadata": {},
   "outputs": [],
   "source": [
    "# Iterating over one column - `f` is some function that processes your data\n",
    "result = [f(x) for x in df['col']]\n",
    "# Iterating over two columns, use `zip`\n",
    "result = [f(x, y) for x, y in zip(df['col1'], df['col2'])]\n",
    "# Iterating over multiple columns - same data type\n",
    "result = [f(row[0], ..., row[n]) for row in df[['col1', ...,'coln']].to_numpy()]\n",
    "# Iterating over multiple columns - differing data type\n",
    "result = [f(row[0], ..., row[n]) for row in zip(df['col1'], ..., df['coln'])]\n"
   ]
  }
 ],
 "metadata": {
  "kernelspec": {
   "display_name": "aleenv",
   "language": "python",
   "name": "aleenv"
  },
  "language_info": {
   "codemirror_mode": {
    "name": "ipython",
    "version": 3
   },
   "file_extension": ".py",
   "mimetype": "text/x-python",
   "name": "python",
   "nbconvert_exporter": "python",
   "pygments_lexer": "ipython3",
   "version": "3.8.10"
  }
 },
 "nbformat": 4,
 "nbformat_minor": 4
}
