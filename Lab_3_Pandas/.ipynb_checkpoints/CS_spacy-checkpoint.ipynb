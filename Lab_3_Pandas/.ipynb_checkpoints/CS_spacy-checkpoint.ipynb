{
 "cells": [
  {
   "cell_type": "markdown",
   "metadata": {},
   "source": [
    "# SpaCY"
   ]
  },
  {
   "cell_type": "markdown",
   "metadata": {
    "collapsed": true
   },
   "source": [
    "Make sure to install SpaCy and to load the english model: https://spacy.io/usage"
   ]
  },
  {
   "cell_type": "markdown",
   "metadata": {},
   "source": [
    "### Segmenting a string into sentences"
   ]
  },
  {
   "cell_type": "code",
   "execution_count": 2,
   "metadata": {},
   "outputs": [
    {
     "name": "stdout",
     "output_type": "stream",
     "text": [
      "\n",
      " This is a sentence.\n",
      "\n",
      " This is another sentence\n"
     ]
    }
   ],
   "source": [
    "import spacy\n",
    "# Load English Model\n",
    "nlp = spacy.load('en_core_web_sm')\n",
    "text = 'This is a sentence. This is another sentence'\n",
    "# Run SPaCy pipeline\n",
    "sp_text = nlp(text)\n",
    "# Segment into sentences\n",
    "for sentence in sp_text.sents:\n",
    "   print(\"\\n\",sentence)"
   ]
  },
  {
   "cell_type": "code",
   "execution_count": 3,
   "metadata": {},
   "outputs": [
    {
     "name": "stdout",
     "output_type": "stream",
     "text": [
      "This 0\n",
      "is 5\n",
      "a 8\n",
      "sentence 10\n",
      ". 18\n",
      "This 20\n",
      "is 25\n",
      "another 28\n",
      "sentence 36\n"
     ]
    }
   ],
   "source": [
    "for tok in sp_text:\n",
    "    print(tok,tok.idx)"
   ]
  },
  {
   "cell_type": "markdown",
   "metadata": {},
   "source": [
    "**Printing Spacy output to a file**\n",
    "\n",
    "The `__repr__()` method is used to represent a class object (here: sentence) as a string"
   ]
  },
  {
   "cell_type": "code",
   "execution_count": 4,
   "metadata": {},
   "outputs": [],
   "source": [
    "f = open(\"out.txt\", \"w\")\n",
    "sentences = [sentence.__repr__() for sentence in sp_text.sents]\n",
    "print(\"SENTENCES\\n\\n\",\"\\n\".join(sentences), file=f)"
   ]
  },
  {
   "cell_type": "markdown",
   "metadata": {},
   "source": [
    "### Segmenting a string into tokens (Tokenizing)"
   ]
  },
  {
   "cell_type": "code",
   "execution_count": 5,
   "metadata": {},
   "outputs": [
    {
     "name": "stdout",
     "output_type": "stream",
     "text": [
      "Twenty\n",
      "-\n",
      "two\n",
      "years\n",
      "after\n",
      "the\n",
      "original\n",
      "Jurassic\n",
      "Park\n",
      "failed\n",
      ",\n",
      "the\n",
      "new\n",
      "park\n",
      ",\n",
      "also\n",
      "known\n",
      "as\n",
      "Jurassic\n",
      "World\n",
      ",\n",
      "is\n",
      "open\n",
      "for\n",
      "business\n",
      ".\n"
     ]
    }
   ],
   "source": [
    "import spacy\n",
    "# Load English Model\n",
    "nlp = spacy.load('en_core_web_sm')\n",
    "text = \"Twenty-two years after the original Jurassic Park failed, the new park, also known as Jurassic World, is open for business.\"\n",
    "# Run SpaCy pipeline\n",
    "sp_text = nlp(text)\n",
    "# Get tokens\n",
    "for tok in sp_text:\n",
    "   print(tok.text)"
   ]
  },
  {
   "cell_type": "code",
   "execution_count": 6,
   "metadata": {},
   "outputs": [],
   "source": [
    "from spacy.tokenizer import Tokenizer\n",
    "from spacy.lang.en import English\n",
    "nlp = English()\n",
    "# Create a Tokenizer with the default settings for English\n",
    "# including punctuation rules and exceptions\n",
    "tokenizer = nlp.tokenizer"
   ]
  },
  {
   "cell_type": "code",
   "execution_count": 7,
   "metadata": {},
   "outputs": [
    {
     "data": {
      "text/plain": [
       "Twenty-two years after the original Jurassic Park failed, the new park, also known as Jurassic World, is open for business."
      ]
     },
     "execution_count": 7,
     "metadata": {},
     "output_type": "execute_result"
    }
   ],
   "source": [
    "tokenizer(text)"
   ]
  },
  {
   "cell_type": "markdown",
   "metadata": {},
   "source": [
    "### Detecting stop words"
   ]
  },
  {
   "cell_type": "code",
   "execution_count": 8,
   "metadata": {},
   "outputs": [
    {
     "name": "stdout",
     "output_type": "stream",
     "text": [
      "two\n",
      "after\n",
      "the\n",
      "the\n",
      "also\n",
      "as\n",
      "is\n",
      "for\n"
     ]
    }
   ],
   "source": [
    "import spacy\n",
    "# Load English Model\n",
    "nlp = spacy.load('en_core_web_sm')\n",
    "text = \"Twenty-two years after the original Jurassic Park failed, the new park, also known as Jurassic World, is open for business.\"\n",
    "# Run SpaCy pipeline\n",
    "sp_text = nlp(text)\n",
    "for token in sp_text:\n",
    "   if token.is_stop == True:\n",
    "    print(token)"
   ]
  },
  {
   "cell_type": "markdown",
   "metadata": {},
   "source": [
    "### POS Tagging"
   ]
  },
  {
   "cell_type": "code",
   "execution_count": 9,
   "metadata": {},
   "outputs": [
    {
     "data": {
      "text/plain": [
       "[(Amélie, 'NNP', 'PROPN'),\n",
       " (is, 'VBZ', 'VERB'),\n",
       " (a, 'DT', 'DET'),\n",
       " (story, 'NN', 'NOUN'),\n",
       " (about, 'IN', 'ADP'),\n",
       " (a, 'DT', 'DET'),\n",
       " (girl, 'NN', 'NOUN'),\n",
       " (named, 'VBN', 'VERB'),\n",
       " (Amélie, 'NNP', 'PROPN'),\n",
       " (whose, 'WP$', 'ADJ'),\n",
       " (childhood, 'NN', 'NOUN'),\n",
       " (was, 'VBD', 'VERB'),\n",
       " (suppressed, 'VBN', 'VERB'),\n",
       " (by, 'IN', 'ADP'),\n",
       " (her, 'PRP$', 'ADJ'),\n",
       " (Father, 'NNP', 'PROPN'),\n",
       " ('s, 'POS', 'PART'),\n",
       " (mistaken, 'JJ', 'ADJ'),\n",
       " (concerns, 'NNS', 'NOUN'),\n",
       " (of, 'IN', 'ADP'),\n",
       " (a, 'DT', 'DET'),\n",
       " (heart, 'NN', 'NOUN'),\n",
       " (defect, 'NN', 'NOUN'),\n",
       " (., '.', 'PUNCT')]"
      ]
     },
     "execution_count": 9,
     "metadata": {},
     "output_type": "execute_result"
    }
   ],
   "source": [
    "import spacy\n",
    "# Load the SpaCy model for English\n",
    "nlp = spacy.load('en_core_web_sm')\n",
    "\n",
    "# Define test sentence\n",
    "sentence = \"Amélie is a story about a girl named Amélie whose childhood was suppressed by her Father's mistaken concerns of a heart defect.\"\n",
    "\n",
    "# Apply the SpaCy model to the text\n",
    "nlp_sentence = nlp(sentence)\n",
    "\n",
    "# For each token in the text, retrieve this token its tag and its part of speech\n",
    "spacy_pos_tagged = [(token, token.tag_, token.pos_) for token in nlp_sentence]\n",
    "spacy_pos_tagged"
   ]
  },
  {
   "cell_type": "markdown",
   "metadata": {},
   "source": [
    "### Lemmatizing"
   ]
  },
  {
   "cell_type": "code",
   "execution_count": 10,
   "metadata": {},
   "outputs": [
    {
     "data": {
      "text/plain": [
       "'suppress'"
      ]
     },
     "execution_count": 10,
     "metadata": {},
     "output_type": "execute_result"
    }
   ],
   "source": [
    "import spacy\n",
    "\n",
    "# Initialize spacy 'en' model, keeping only tagger component needed for lemmatization\n",
    "nlp = spacy.load('en_core_web_sm', disable=['parser','ner'])\n",
    "word_form = \"suppressed\"\n",
    "# Apply the SpaCy  model to the input\n",
    "# The result is a list\n",
    "token = nlp(word_form)\n",
    "\n",
    "# Extract the lemma for the first token in the list returned by the previous statement\n",
    "token[0].lemma_"
   ]
  },
  {
   "cell_type": "markdown",
   "metadata": {},
   "source": [
    "### Dependency Parsing"
   ]
  },
  {
   "cell_type": "code",
   "execution_count": 11,
   "metadata": {
    "scrolled": true
   },
   "outputs": [
    {
     "name": "stdout",
     "output_type": "stream",
     "text": [
      "Apple apple PROPN NNP nsubj bought\n",
      "bought buy VERB VBD ROOT bought\n",
      "U.K. u.k. PROPN NNP compound startup\n",
      "startup startup VERB VBG dobj bought\n",
      "for for ADP IN prep bought\n",
      "$ $ SYM $ quantmod billion\n",
      "1 1 NUM CD compound billion\n",
      "billion billion NUM CD pobj for\n"
     ]
    }
   ],
   "source": [
    "import spacy\n",
    "\n",
    "nlp = spacy.load(\"en_core_web_sm\")\n",
    "doc = nlp(\"Apple bought U.K. startup for $1 billion\")\n",
    "\n",
    "for token in doc:\n",
    "    print(token.text, token.lemma_, token.pos_, token.tag_, token.dep_, token.head)"
   ]
  },
  {
   "cell_type": "markdown",
   "metadata": {},
   "source": [
    "### Named Entity Recognition"
   ]
  },
  {
   "cell_type": "code",
   "execution_count": 12,
   "metadata": {},
   "outputs": [
    {
     "name": "stdout",
     "output_type": "stream",
     "text": [
      "NEs: [Amélie, Amélie]\n"
     ]
    },
    {
     "data": {
      "text/html": [
       "<div class=\"entities\" style=\"line-height: 2.5\">\n",
       "<mark class=\"entity\" style=\"background: #c887fb; padding: 0.45em 0.6em; margin: 0 0.25em; line-height: 1; border-radius: 0.35em; box-decoration-break: clone; -webkit-box-decoration-break: clone\">\n",
       "    Amélie\n",
       "    <span style=\"font-size: 0.8em; font-weight: bold; line-height: 1; border-radius: 0.35em; text-transform: uppercase; vertical-align: middle; margin-left: 0.5rem\">NORP</span>\n",
       "</mark>\n",
       " is a story about a girl named \n",
       "<mark class=\"entity\" style=\"background: #c887fb; padding: 0.45em 0.6em; margin: 0 0.25em; line-height: 1; border-radius: 0.35em; box-decoration-break: clone; -webkit-box-decoration-break: clone\">\n",
       "    Amélie\n",
       "    <span style=\"font-size: 0.8em; font-weight: bold; line-height: 1; border-radius: 0.35em; text-transform: uppercase; vertical-align: middle; margin-left: 0.5rem\">NORP</span>\n",
       "</mark>\n",
       " whose childhood was suppressed by her Father's mistaken concerns of a heart defect.</div>"
      ],
      "text/plain": [
       "<IPython.core.display.HTML object>"
      ]
     },
     "metadata": {},
     "output_type": "display_data"
    }
   ],
   "source": [
    "import spacy\n",
    "from spacy import displacy\n",
    "from pprint import pprint\n",
    "nlp = spacy.load('en_core_web_sm', entity=True)\n",
    "doc = nlp(\"Amélie is a story about a girl named Amélie whose childhood was suppressed by her Father's mistaken concerns of a heart defect.\")\n",
    "\n",
    "\n",
    "print(\"NEs:\", [ne for ne in doc.ents])\n",
    "displacy.render(doc, style='ent', jupyter=True)"
   ]
  }
 ],
 "metadata": {
  "kernelspec": {
   "display_name": "Python 3",
   "language": "python",
   "name": "python3"
  },
  "language_info": {
   "codemirror_mode": {
    "name": "ipython",
    "version": 3
   },
   "file_extension": ".py",
   "mimetype": "text/x-python",
   "name": "python",
   "nbconvert_exporter": "python",
   "pygments_lexer": "ipython3",
   "version": "3.8.5"
  }
 },
 "nbformat": 4,
 "nbformat_minor": 2
}
