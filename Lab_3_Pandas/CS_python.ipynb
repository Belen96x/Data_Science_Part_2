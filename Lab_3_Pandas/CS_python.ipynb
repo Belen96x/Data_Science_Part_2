{
 "cells": [
  {
   "cell_type": "markdown",
   "metadata": {},
   "source": [
    "# Python Basics "
   ]
  },
  {
   "cell_type": "markdown",
   "metadata": {},
   "source": [
    "## 1. Common String Operations"
   ]
  },
  {
   "cell_type": "markdown",
   "metadata": {},
   "source": [
    "**Convert a string to a list and a list to a string**"
   ]
  },
  {
   "cell_type": "code",
   "execution_count": 1,
   "metadata": {
    "scrolled": true
   },
   "outputs": [
    {
     "name": "stdout",
     "output_type": "stream",
     "text": [
      "STRING: John loves apples\n",
      "LIST: ['John', 'loves', 'apples']\n",
      "STRING: John loves apples\n"
     ]
    }
   ],
   "source": [
    "text = \"John loves apples\"\n",
    "print(\"STRING:\",text)\n",
    "\n",
    "# convert string to list\n",
    "tokens = text.split(' ')\n",
    "print(\"LIST:\",tokens)\n",
    "\n",
    "# convert list to string\n",
    "text_from_list = ' '.join(tokens)\n",
    "print(\"STRING:\",text_from_list)"
   ]
  },
  {
   "cell_type": "markdown",
   "metadata": {},
   "source": [
    "**Splitting a string**"
   ]
  },
  {
   "cell_type": "code",
   "execution_count": 2,
   "metadata": {},
   "outputs": [
    {
     "name": "stdout",
     "output_type": "stream",
     "text": [
      "['apple', 'banana', 'cherry', 'orange']\n"
     ]
    }
   ],
   "source": [
    "txt = \"apple#banana#cherry#orange\"\n",
    "\n",
    "x = txt.split(\"#\")\n",
    "\n",
    "print(x)"
   ]
  },
  {
   "cell_type": "markdown",
   "metadata": {},
   "source": [
    "**Check that the string only contains characters**"
   ]
  },
  {
   "cell_type": "code",
   "execution_count": 3,
   "metadata": {},
   "outputs": [
    {
     "data": {
      "text/plain": [
       "True"
      ]
     },
     "execution_count": 3,
     "metadata": {},
     "output_type": "execute_result"
    }
   ],
   "source": [
    "w1 = \"apple\"\n",
    "w1.isalpha()"
   ]
  },
  {
   "cell_type": "code",
   "execution_count": 4,
   "metadata": {},
   "outputs": [
    {
     "data": {
      "text/plain": [
       "False"
      ]
     },
     "execution_count": 4,
     "metadata": {},
     "output_type": "execute_result"
    }
   ],
   "source": [
    "w1 = \"apple5\"\n",
    "w1.isalpha()"
   ]
  },
  {
   "cell_type": "markdown",
   "metadata": {},
   "source": [
    "## 2. Common operations on files "
   ]
  },
  {
   "cell_type": "markdown",
   "metadata": {},
   "source": [
    "#### Duplicate all the files with extension *.txt to files with extension *.out"
   ]
  },
  {
   "cell_type": "code",
   "execution_count": 5,
   "metadata": {},
   "outputs": [],
   "source": [
    "# duplicate all the files with extension *.txt to files with extension *.out\n",
    "\n",
    "import glob\n",
    "\n",
    "list_of_files = glob.glob('./*.txt')           # create the list of file\n",
    "for file_name in list_of_files:\n",
    "  FI = open(file_name, 'r')\n",
    "  FO = open(file_name.replace('txt', 'out'), 'w') \n",
    "  for line in FI:\n",
    "    FO.write(line)\n",
    "\n",
    "  FI.close()\n",
    "  FO.close()"
   ]
  },
  {
   "cell_type": "markdown",
   "metadata": {},
   "source": [
    "**Printing out the names of the files contained in a directory**"
   ]
  },
  {
   "cell_type": "code",
   "execution_count": 7,
   "metadata": {
    "scrolled": true
   },
   "outputs": [
    {
     "name": "stdout",
     "output_type": "stream",
     "text": [
      "CS_pandas_visualisation.ipynb\n",
      ".ipynb_checkpoints\n",
      "CS_pandas.ipynb\n",
      "eli5.json\n",
      "CS_spacy.ipynb\n",
      "food.csv\n",
      "CS_python.ipynb\n",
      "08_X_pandas_stats_viz.ipynb\n",
      "CS_stanza.ipynb\n",
      "wkp\n"
     ]
    }
   ],
   "source": [
    "import os\n",
    "\n",
    "with os.scandir('.') as entries:\n",
    "    for entry in entries:\n",
    "        print(entry.name)"
   ]
  },
  {
   "cell_type": "markdown",
   "metadata": {},
   "source": [
    "**Open a file and store its input into a string**"
   ]
  },
  {
   "cell_type": "code",
   "execution_count": 9,
   "metadata": {},
   "outputs": [
    {
     "name": "stdout",
     "output_type": "stream",
     "text": [
      "STRING: Amélie (French: Le Fabuleux Destin d'Amélie Poulain, lit. 'The Fabulous Destiny of Amélie Poulain') is a 2001 French-language romantic comedy film directed by Jean-Pierre Jeunet. Written by Jeunet with Guillaume Laurant, the film is a whimsical depiction of contemporary Parisian life, set in Montmartre. It tells the story of a shy, introverted and quirky waitress, played by Audrey Tautou, who decides to change the lives of those around her for the better while dealing with her own isolation. The film features an ensemble cast of supporting roles, including Mathieu Kassovitz, Rufus, Lorella Cravotta, Serge Merlin, Jamel Debbouze, Claire Maurier, Clotilde Mollet, Isabelle Nanty, Dominique Pinon, Artus de Penguern, Yolande Moreau, Urbain Cancelier, and Maurice Bénichou.\n",
      "\n"
     ]
    }
   ],
   "source": [
    "# infile is a reference to a file object\n",
    "with open(\"ameliepoulain.txt\") as infile:\n",
    "    file_content = infile.read()\n",
    "    print(\"STRING:\", file_content)"
   ]
  },
  {
   "cell_type": "markdown",
   "metadata": {},
   "source": [
    "**Open a file and store its lines into a list**\n",
    "- The **readlines** method returns the contents of the entire file as a list of strings, where each item in the list represents one line of the file.\n",
    "- The **readline** method reads one line from the file and returns it as a string. The string returned by readline will contain the newline character at the end. "
   ]
  },
  {
   "cell_type": "code",
   "execution_count": 46,
   "metadata": {},
   "outputs": [
    {
     "name": "stdout",
     "output_type": "stream",
     "text": [
      "LIST ITEM: Amélie (French: Le Fabuleux Destin d'Amélie Poulain, lit. 'The Fabulous Destiny of Amélie Poulain') is a 2001 French-language romantic comedy film directed by Jean-Pierre Jeunet.\n",
      "\n",
      "LIST ITEM: Written by Jeunet with Guillaume Laurant, the film is a whimsical depiction of contemporary Parisian life, set in Montmartre.\n",
      "\n",
      "LIST ITEM: It tells the story of a shy, introverted and quirky waitress, played by Audrey Tautou, who decides to change the lives of those around her for the better while dealing with her own isolation.\n",
      "\n",
      "LIST ITEM: The film features an ensemble cast of supporting roles, including Mathieu Kassovitz, Rufus, Lorella Cravotta, Serge Merlin, Jamel Debbouze, Claire Maurier, Clotilde Mollet, Isabelle Nanty, Dominique Pinon, Artus de Penguern, Yolande Moreau, Urbain Cancelier, and Maurice Bénichou.\n",
      "\n"
     ]
    }
   ],
   "source": [
    "with open(\"amelie-with-lines.txt\") as f:\n",
    "        lines = f.readlines()\n",
    "        for l in lines:\n",
    "            print(\"LIST ITEM:\", l)\n",
    "        "
   ]
  },
  {
   "cell_type": "code",
   "execution_count": 47,
   "metadata": {},
   "outputs": [
    {
     "name": "stdout",
     "output_type": "stream",
     "text": [
      "LIST ITEM: Amélie (French: Le Fabuleux Destin d'Amélie Poulain, lit. 'The Fabulous Destiny of Amélie Poulain') is a 2001 French-language romantic comedy film directed by Jean-Pierre Jeunet.\n",
      "\n"
     ]
    }
   ],
   "source": [
    "with open(\"amelie-with-lines.txt\") as f:\n",
    "        l = f.readline()\n",
    "        print(\"LIST ITEM:\", l)\n",
    "        "
   ]
  },
  {
   "cell_type": "markdown",
   "metadata": {},
   "source": [
    "**Writing to a file**\n",
    "\n",
    "https://www.w3schools.com/python/python_file_write.asp"
   ]
  },
  {
   "cell_type": "code",
   "execution_count": 12,
   "metadata": {},
   "outputs": [
    {
     "name": "stdout",
     "output_type": "stream",
     "text": [
      "Now the file has more content!\n"
     ]
    }
   ],
   "source": [
    "# write to file\n",
    "f = open(\"demofile2.txt\", \"w\")\n",
    "f.write(\"Now the file has more content!\")\n",
    "f.close()\n",
    "\n",
    "#open and read the file after writing\n",
    "f = open(\"demofile2.txt\", \"r\")\n",
    "print(f.read())"
   ]
  },
  {
   "cell_type": "markdown",
   "metadata": {},
   "source": [
    "## Common operations on texts"
   ]
  },
  {
   "cell_type": "markdown",
   "metadata": {},
   "source": [
    "**Removing punctuation** "
   ]
  },
  {
   "cell_type": "code",
   "execution_count": 13,
   "metadata": {},
   "outputs": [
    {
     "data": {
      "text/plain": [
       "'string with punctuation inside of it Does this work I hope so'"
      ]
     },
     "execution_count": 13,
     "metadata": {},
     "output_type": "execute_result"
    }
   ],
   "source": [
    "# Define a translation table that maps each punctuation sign to the empty string\n",
    "# i.e., that deletes punctuation signs\n",
    "import string\n",
    "translator = str.maketrans('', '', string.punctuation)\n",
    "\n",
    "text = 'string with \"punctuation\" inside of it! Does this work? I hope so.'\n",
    "\n",
    "# Apply the translation table to a string\n",
    "# This deletes all punctuation signs in that string\n",
    "text.translate(translator)"
   ]
  },
  {
   "cell_type": "markdown",
   "metadata": {},
   "source": [
    "**Lowercasing a token**"
   ]
  },
  {
   "cell_type": "code",
   "execution_count": 14,
   "metadata": {},
   "outputs": [
    {
     "name": "stdout",
     "output_type": "stream",
     "text": [
      "amelie\n"
     ]
    }
   ],
   "source": [
    "token = \"Amelie\"\n",
    "print(token.lower())"
   ]
  },
  {
   "cell_type": "markdown",
   "metadata": {},
   "source": [
    "**Pretty printing**\n",
    "\n",
    "A formatted string literal or f-string is a string literal that is prefixed with 'f' or 'F'. These strings may contain replacement fields, which are expressions delimited by curly braces {}. While other string literals always have a constant value, formatted strings are really expressions evaluated at run time.\n",
    "\n",
    "Some examples of formatted string literals:\n"
   ]
  },
  {
   "cell_type": "code",
   "execution_count": 15,
   "metadata": {},
   "outputs": [
    {
     "name": "stdout",
     "output_type": "stream",
     "text": [
      "He said his name is Fred.\n"
     ]
    }
   ],
   "source": [
    "name = \"Fred\"\n",
    "print(f\"He said his name is {name}.\")"
   ]
  },
  {
   "cell_type": "markdown",
   "metadata": {},
   "source": [
    "## Common operations on dictionaries"
   ]
  },
  {
   "cell_type": "markdown",
   "metadata": {},
   "source": [
    "#### Sorting a dictionnary by values"
   ]
  },
  {
   "cell_type": "code",
   "execution_count": 16,
   "metadata": {},
   "outputs": [
    {
     "name": "stdout",
     "output_type": "stream",
     "text": [
      "{'Kane': 43, 'Tina': 54, 'Tom': 67, 'Divya': 73, 'Akbar': 87}\n"
     ]
    }
   ],
   "source": [
    "d = {\"Tom\":67, \"Tina\": 54, \"Akbar\": 87, \"Kane\": 43, \"Divya\":73}\n",
    "# create a list sorted by values\n",
    "l =sorted((value, key) for (key,value) in d.items())\n",
    "# create a sorted dictionary from the sorted list\n",
    "sortdict=dict([(k,v) for v,k in l])\n",
    "print(sortdict)"
   ]
  },
  {
   "cell_type": "markdown",
   "metadata": {},
   "source": [
    "**Creating a dictionary from a list of pairs**"
   ]
  },
  {
   "cell_type": "code",
   "execution_count": 17,
   "metadata": {},
   "outputs": [],
   "source": [
    "d = dict([(1,'a'),(3,'b')])"
   ]
  },
  {
   "cell_type": "markdown",
   "metadata": {},
   "source": [
    "#### Creating a dictionary from two lists"
   ]
  },
  {
   "cell_type": "code",
   "execution_count": 18,
   "metadata": {},
   "outputs": [
    {
     "data": {
      "text/plain": [
       "{'sravan': 23, 'ojaswi': 21, 'rohith': 32, 'gnanesh': 11, 'bobby': 23}"
      ]
     },
     "execution_count": 18,
     "metadata": {},
     "output_type": "execute_result"
    }
   ],
   "source": [
    "# create a list with student name\n",
    "name = ['sravan', 'ojaswi', 'rohith', 'gnanesh', 'bobby']\n",
    " \n",
    "# create a list with student age\n",
    "age = [23, 21, 32, 11, 23]\n",
    " \n",
    "# using dict method with zip()\n",
    "dict(zip(name, age))"
   ]
  },
  {
   "cell_type": "markdown",
   "metadata": {},
   "source": [
    "#### Creating a dictionary from a list of pairs"
   ]
  },
  {
   "cell_type": "code",
   "execution_count": 19,
   "metadata": {},
   "outputs": [
    {
     "data": {
      "text/plain": [
       "{'sravan': 23, 'ojaswi': 15, 'rohith': 8, 'gnanesh': 4, 'bobby': 20}"
      ]
     },
     "execution_count": 19,
     "metadata": {},
     "output_type": "execute_result"
    }
   ],
   "source": [
    "# create a list comprehension with student age\n",
    "data = [('sravan', 23), ('ojaswi', 15),\n",
    "\t\t('rohith', 8), ('gnanesh', 4), ('bobby', 20)]\n",
    "\n",
    "\n",
    "# display using iterable method\n",
    "{key: value for (key, value) in data}\n"
   ]
  },
  {
   "cell_type": "markdown",
   "metadata": {},
   "source": [
    "**Creating a dictionary using collections.defaultdic method**"
   ]
  },
  {
   "cell_type": "code",
   "execution_count": 20,
   "metadata": {},
   "outputs": [
    {
     "data": {
      "text/plain": [
       "dict_items([('The', 0), ('woman', 1), ('put', 2), ('the', 3), ('book', 4), ('on', 5), ('table', 6)])"
      ]
     },
     "execution_count": 20,
     "metadata": {},
     "output_type": "execute_result"
    }
   ],
   "source": [
    "import collections\n",
    "\n",
    "# Set the size of the default value that will be assigned to each token to the current size of the vocabulary\n",
    "token2int = collections.defaultdict(lambda: len(token2int)) \n",
    "\n",
    "# Create the dictionary from a list of tokens\n",
    "[token2int[token] for token in [\"The\",\"woman\", \"put\",\"the\",\"book\",\"on\",\"the\",\"table\"]]\n",
    "\n",
    "# Print it out\n",
    "token2int.items()"
   ]
  },
  {
   "cell_type": "markdown",
   "metadata": {},
   "source": [
    "**Getting the elements of a dictionary into a list**"
   ]
  },
  {
   "cell_type": "code",
   "execution_count": 21,
   "metadata": {},
   "outputs": [
    {
     "data": {
      "text/plain": [
       "dict_items([(1, 'a'), (3, 'b')])"
      ]
     },
     "execution_count": 21,
     "metadata": {},
     "output_type": "execute_result"
    }
   ],
   "source": [
    "d.items()"
   ]
  },
  {
   "cell_type": "markdown",
   "metadata": {},
   "source": [
    "**Getting the keys of a dictionary**"
   ]
  },
  {
   "cell_type": "code",
   "execution_count": 22,
   "metadata": {},
   "outputs": [
    {
     "data": {
      "text/plain": [
       "dict_keys([1, 3])"
      ]
     },
     "execution_count": 22,
     "metadata": {},
     "output_type": "execute_result"
    }
   ],
   "source": [
    "d.keys()"
   ]
  },
  {
   "cell_type": "markdown",
   "metadata": {},
   "source": [
    "**Inverting a dictionary**"
   ]
  },
  {
   "cell_type": "code",
   "execution_count": 23,
   "metadata": {},
   "outputs": [
    {
     "name": "stdout",
     "output_type": "stream",
     "text": [
      "token2int dict_items([('cat', 1), ('dog', 0)])\n",
      "int2tokens dict_items([(1, 'cat'), (0, 'dog')])\n"
     ]
    }
   ],
   "source": [
    "token2int = dict([('cat',1),('dog',0)])\n",
    "int2token = dict((i,t) for (t,i) in token2int.items())\n",
    "print('token2int',token2int.items())\n",
    "print('int2tokens',int2token.items())"
   ]
  },
  {
   "cell_type": "markdown",
   "metadata": {},
   "source": [
    "**Printing out the key-value pairs of a dictionary**"
   ]
  },
  {
   "cell_type": "code",
   "execution_count": 24,
   "metadata": {
    "scrolled": true
   },
   "outputs": [
    {
     "name": "stdout",
     "output_type": "stream",
     "text": [
      "cat : 1\n",
      "dog : 0\n"
     ]
    }
   ],
   "source": [
    "for key, value in token2int.items():\n",
    "    print( '{} : {}'.format( key, value ) )"
   ]
  },
  {
   "cell_type": "markdown",
   "metadata": {},
   "source": [
    "#### Create a frequency distribution from a list\n",
    "- each time a new key is found it is added to the dictionnary with value 0"
   ]
  },
  {
   "cell_type": "code",
   "execution_count": 25,
   "metadata": {},
   "outputs": [
    {
     "data": {
      "text/plain": [
       "defaultdict(int, {'m': 1, 'i': 4, 's': 4, 'p': 2})"
      ]
     },
     "execution_count": 25,
     "metadata": {},
     "output_type": "execute_result"
    }
   ],
   "source": [
    "from collections import defaultdict\n",
    "\n",
    "s = 'mississippi'\n",
    "d = defaultdict(int)\n",
    "for k in s:\n",
    "    d[k] += 1\n",
    "d"
   ]
  },
  {
   "cell_type": "markdown",
   "metadata": {},
   "source": [
    "## Common operations on tuples or lists"
   ]
  },
  {
   "cell_type": "markdown",
   "metadata": {},
   "source": [
    "**Zipping tuples or lists**\n",
    "\n",
    "The zip() function returns a zip object, which is an iterator of tuples where the first item in each passed iterator is paired together, and then the second item in each passed iterator are paired together etc.\n",
    "\n",
    "If the passed iterators have different lengths, the iterator with the least items decides the length of the new iterator."
   ]
  },
  {
   "cell_type": "code",
   "execution_count": 26,
   "metadata": {},
   "outputs": [
    {
     "data": {
      "text/plain": [
       "<zip at 0x7f67783895c0>"
      ]
     },
     "execution_count": 26,
     "metadata": {},
     "output_type": "execute_result"
    }
   ],
   "source": [
    "a = (\"John\", \"Charles\", \"Mike\")\n",
    "b = (\"Jenny\", \"Christy\", \"Monica\")\n",
    "\n",
    "zip(a, b)"
   ]
  },
  {
   "cell_type": "code",
   "execution_count": 27,
   "metadata": {},
   "outputs": [
    {
     "data": {
      "text/plain": [
       "[('John', 'Jenny'), ('Charles', 'Christy'), ('Mike', 'Monica')]"
      ]
     },
     "execution_count": 27,
     "metadata": {},
     "output_type": "execute_result"
    }
   ],
   "source": [
    "\n",
    "[x for x in list(zip(a,b))]"
   ]
  },
  {
   "cell_type": "code",
   "execution_count": 28,
   "metadata": {},
   "outputs": [
    {
     "data": {
      "text/plain": [
       "['John', 'Jenny']"
      ]
     },
     "execution_count": 28,
     "metadata": {},
     "output_type": "execute_result"
    }
   ],
   "source": [
    "[x for x in list(zip(a,b))[0]]"
   ]
  },
  {
   "cell_type": "code",
   "execution_count": 29,
   "metadata": {},
   "outputs": [
    {
     "data": {
      "text/plain": [
       "[(1, 'a'), (2, 'b'), (3, 'c')]"
      ]
     },
     "execution_count": 29,
     "metadata": {},
     "output_type": "execute_result"
    }
   ],
   "source": [
    "numbers = [1, 2, 3]\n",
    "letters = ['a', 'b', 'c']\n",
    "zipped = zip(numbers, letters)\n",
    "zipped  # Holds an iterator object\n",
    "# convert iterator to list\n",
    "list(zipped)"
   ]
  },
  {
   "cell_type": "code",
   "execution_count": 30,
   "metadata": {},
   "outputs": [
    {
     "name": "stdout",
     "output_type": "stream",
     "text": [
      "(1, 2, 3, 4, 5)\n"
     ]
    }
   ],
   "source": [
    "data = [(1,'sravan'),(2,'ojaswi'),\n",
    "        (3,'bobby'),(4,'rohith'),\n",
    "        (5,'gnanesh')]\n",
    "  \n",
    "# get first element using zip\n",
    "print(list(zip(*data))[0])"
   ]
  },
  {
   "cell_type": "code",
   "execution_count": 31,
   "metadata": {},
   "outputs": [
    {
     "name": "stdout",
     "output_type": "stream",
     "text": [
      "[1, 2, 3] None None\n"
     ]
    }
   ],
   "source": [
    "def foo(a, b=None, c=None):\n",
    "   print(a, b, c)\n",
    "\n",
    "foo([1, 2, 3])"
   ]
  },
  {
   "cell_type": "code",
   "execution_count": 32,
   "metadata": {},
   "outputs": [
    {
     "name": "stdout",
     "output_type": "stream",
     "text": [
      "1 2 3\n"
     ]
    }
   ],
   "source": [
    "foo(*[1, 2, 3])"
   ]
  },
  {
   "cell_type": "markdown",
   "metadata": {},
   "source": [
    "**Slicing lists**"
   ]
  },
  {
   "cell_type": "markdown",
   "metadata": {},
   "source": [
    "**Reverting a list**"
   ]
  },
  {
   "cell_type": "code",
   "execution_count": 33,
   "metadata": {},
   "outputs": [
    {
     "name": "stdout",
     "output_type": "stream",
     "text": [
      "[7 6 5 4 3 2 1]\n"
     ]
    }
   ],
   "source": [
    "import numpy as np\n",
    "\n",
    "arr = np.array([1, 2, 3, 4, 5, 6, 7])\n",
    "\n",
    "print(arr[::-1])\n"
   ]
  },
  {
   "cell_type": "markdown",
   "metadata": {},
   "source": [
    "**Creating a list of integers from 0 to 9**"
   ]
  },
  {
   "cell_type": "code",
   "execution_count": 34,
   "metadata": {},
   "outputs": [
    {
     "name": "stdout",
     "output_type": "stream",
     "text": [
      "[0, 1, 2, 3, 4, 5, 6, 7, 8, 9]\n"
     ]
    }
   ],
   "source": [
    "print(list(range(10)))"
   ]
  },
  {
   "cell_type": "markdown",
   "metadata": {},
   "source": [
    "**Using the enumerate method to create a (position, element) pairs from a list of elements**\n",
    "\n",
    "https://book.pythontips.com/en/latest/enumerate.html"
   ]
  },
  {
   "cell_type": "code",
   "execution_count": 35,
   "metadata": {},
   "outputs": [
    {
     "data": {
      "text/plain": [
       "{(0, 'a'), (1, 'b'), (2, 'c')}"
      ]
     },
     "execution_count": 35,
     "metadata": {},
     "output_type": "execute_result"
    }
   ],
   "source": [
    "l = [\"a\",\"b\",\"c\"]\n",
    "{(i, t) for i, t in enumerate(l)}"
   ]
  },
  {
   "cell_type": "markdown",
   "metadata": {},
   "source": [
    "### Printing"
   ]
  },
  {
   "cell_type": "markdown",
   "metadata": {},
   "source": [
    "**Format method**\n",
    "\n",
    "- The format() method formats the specified value(s) and insert them inside the string's placeholder.\n",
    "- The placeholder is defined using curly brackets: {}. Read more about the placeholders in the Placeholder section below.\n",
    "- The format() method returns the formatted string."
   ]
  },
  {
   "cell_type": "code",
   "execution_count": 36,
   "metadata": {},
   "outputs": [
    {
     "name": "stdout",
     "output_type": "stream",
     "text": [
      "My name is John, I'm 36\n",
      "My name is John, I'm 36\n",
      "My name is John, I'm 36\n"
     ]
    }
   ],
   "source": [
    "txt1 = \"My name is {fname}, I'm {age}\".format(fname = \"John\", age = 36)\n",
    "txt2 = \"My name is {0}, I'm {1}\".format(\"John\",36)\n",
    "txt3 = \"My name is {}, I'm {}\".format(\"John\",36)\n",
    "\n",
    "print(txt1)\n",
    "print(txt2)\n",
    "print(txt3)"
   ]
  },
  {
   "cell_type": "markdown",
   "metadata": {},
   "source": [
    "**Star operator**\n",
    "\n",
    "The print of * for a text is equal as printing print(text[0], text[1], ..., text[n]) and this is printing each part with a space between\n",
    "The asterisk passes all the items in list with a space between into the print functio, without us even needing to specify how many arguments are in the list.\n",
    "\n",
    "You can read more about it here: https://treyhunner.com/2018/10/asterisks-in-python-what-they-are-and-how-to-use-them/"
   ]
  },
  {
   "cell_type": "code",
   "execution_count": 37,
   "metadata": {},
   "outputs": [
    {
     "name": "stdout",
     "output_type": "stream",
     "text": [
      "jdoe is 42 years old\n"
     ]
    }
   ],
   "source": [
    "print(*['jdoe is', 42, 'years old'])"
   ]
  },
  {
   "cell_type": "markdown",
   "metadata": {},
   "source": [
    "### List comprehension"
   ]
  },
  {
   "cell_type": "code",
   "execution_count": 38,
   "metadata": {},
   "outputs": [
    {
     "data": {
      "text/plain": [
       "[4, 8, 4, 2, 28, 1, 12, 3, 6, 2]"
      ]
     },
     "execution_count": 38,
     "metadata": {},
     "output_type": "execute_result"
    }
   ],
   "source": [
    "list_of_lists = [['4', '8'], ['4', '2', '28'], ['1', '12'], ['3', '6', '2']]\n",
    "\n",
    "[int(i) for sublist in list_of_lists for i in sublist]"
   ]
  },
  {
   "cell_type": "code",
   "execution_count": 39,
   "metadata": {},
   "outputs": [
    {
     "data": {
      "text/plain": [
       "[[4, 8], [4, 2, 28], [1, 12], [3, 6, 2]]"
      ]
     },
     "execution_count": 39,
     "metadata": {},
     "output_type": "execute_result"
    }
   ],
   "source": [
    "[[int(j) for j in i] for i in list_of_lists]"
   ]
  },
  {
   "cell_type": "code",
   "execution_count": 40,
   "metadata": {},
   "outputs": [
    {
     "name": "stdout",
     "output_type": "stream",
     "text": [
      "[(2, 1), (2, 4), (2, 2), (6, 1), (6, 4), (6, 2), (7, 1), (7, 4), (7, 2), (3, 1), (3, 4), (3, 2)]\n"
     ]
    }
   ],
   "source": [
    "list_1 = [2, 6, 7, 3]\n",
    "list_2 = [1, 4, 2]\n",
    "\n",
    "list_3 = [ (x, y) for x in list_1 for y in list_2 ]\n",
    "\n",
    "print(list_3)"
   ]
  },
  {
   "cell_type": "markdown",
   "metadata": {},
   "source": [
    "### Ordered intersection of lists"
   ]
  },
  {
   "cell_type": "code",
   "execution_count": 41,
   "metadata": {},
   "outputs": [],
   "source": [
    "list_1 = [3,2,1,2]\n",
    "list_2 = [2,3,4,2]"
   ]
  },
  {
   "cell_type": "code",
   "execution_count": 42,
   "metadata": {},
   "outputs": [
    {
     "data": {
      "text/plain": [
       "[3, 2, 2]"
      ]
     },
     "execution_count": 42,
     "metadata": {},
     "output_type": "execute_result"
    }
   ],
   "source": [
    "set_2 = frozenset(list_2)\n",
    "intersection = [x for x in list_1 if x in set_2]\n",
    "intersection"
   ]
  },
  {
   "cell_type": "code",
   "execution_count": 43,
   "metadata": {},
   "outputs": [
    {
     "data": {
      "text/plain": [
       "frozenset({2, 3, 4})"
      ]
     },
     "execution_count": 43,
     "metadata": {},
     "output_type": "execute_result"
    }
   ],
   "source": [
    "set_2"
   ]
  },
  {
   "cell_type": "code",
   "execution_count": 44,
   "metadata": {},
   "outputs": [
    {
     "name": "stdout",
     "output_type": "stream",
     "text": [
      "(1, 1)\n",
      "(2, 2)\n",
      "(3, 3)\n"
     ]
    }
   ],
   "source": [
    "def align(a, b):\n",
    "  return(a,b)\n",
    "\n",
    "a = [1,2,3]\n",
    "b = [1]\n",
    "c=[1,2,3,4]\n",
    "x = map(align, a,c)\n",
    "for i,v in enumerate(x):\n",
    "    print(v)"
   ]
  }
 ],
 "metadata": {
  "kernelspec": {
   "display_name": "Python 3 (ipykernel)",
   "language": "python",
   "name": "python3"
  },
  "language_info": {
   "codemirror_mode": {
    "name": "ipython",
    "version": 3
   },
   "file_extension": ".py",
   "mimetype": "text/x-python",
   "name": "python",
   "nbconvert_exporter": "python",
   "pygments_lexer": "ipython3",
   "version": "3.11.6"
  }
 },
 "nbformat": 4,
 "nbformat_minor": 2
}
