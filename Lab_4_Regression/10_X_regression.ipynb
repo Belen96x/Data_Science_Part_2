{
 "cells": [
  {
   "cell_type": "markdown",
   "metadata": {},
   "source": [
    "# Exercise \"Lecture 8: Regression\"\n",
    "\n",
    "In this set of exercises, we will use regression to predict a baseball player's batting average based on previous results. \n",
    "\n",
    "The exercises cover the following points:\n",
    "* Storing the data into an pandas dataframe (Exercise 1)\n",
    "* Inspecting the data (Exercise 2-7)\n",
    "* Creating Train and Test data (Exercise 8)\n",
    "* Learning a Linear Regression model from the data (Exercise 9-11)\n",
    "* Inspecting the predictions of that model (Exercise 12-17)\n",
    "* Multiple Linear Regression: Adding features and observing the changes in predictions (PROVIDED)\n",
    "\n",
    "_**Useful Cheat sheets**_\n",
    "* pandas_cheat_sheet.ipynb\n",
    "* linear_regression_cheat_sheet.ipynb\n",
    "* stats_and_visu.ipynb"
   ]
  },
  {
   "cell_type": "markdown",
   "metadata": {},
   "source": [
    "### Storing the data into a dataframe\n",
    "\n",
    "**Exercise 1:** Create a pandas dataframe containing the  data\n",
    "\n",
    "* Download the data file \"baseball.csv\" from Arche and store it in a data directory placed where your current Jupyter notebook is\n",
    "* Use the pandas.read_csv  method to create the dataframe. \n",
    "* How many rows and columns ? Use  the pandas [df.shape](https://pandas.pydata.org/pandas-docs/stable/reference/api/pandas.DataFrame.shape.html) attribute to inspect the dataframe you just created\n",
    "\n",
    "**Help:** pandas_cheat_sheet.ipynb"
   ]
  },
  {
   "cell_type": "markdown",
   "metadata": {},
   "source": [
    "### Inspecting the data "
   ]
  },
  {
   "cell_type": "markdown",
   "metadata": {},
   "source": [
    "**Exercise 2:** Print out the headers"
   ]
  },
  {
   "cell_type": "markdown",
   "metadata": {},
   "source": [
    "**Exercise 3:** Print out the first 5 rows"
   ]
  },
  {
   "cell_type": "markdown",
   "metadata": {},
   "source": [
    "**Exercise 4:** Use pandas describe() method to get basic summary statistics for each of the columns."
   ]
  },
  {
   "cell_type": "markdown",
   "metadata": {},
   "source": [
    "**Exercise 5:** Using scatter plots to explore correlation\n",
    "\n",
    "Create two scatter plots:\n",
    "\n",
    "* One scatter plot showing the relation between BattingAverage and BattingAverageLAG1\n",
    "* One scatter plot showing the relation between BattingAverage and CumulativeAverageLAG1\n",
    "\n",
    "What kind of relationship do you see? e.g. positive, negative? linear? non-linear?   \n",
    "_**Hint:**_ \n",
    "Use matplotlib scatter, xlabel, ylabel ant title methods to create the plots (cf. stats_and_visu_cheat_sheet.ipynb)"
   ]
  },
  {
   "cell_type": "markdown",
   "metadata": {},
   "source": [
    "**Exercise 6:** Examining Correlations between features\n",
    "\n",
    "* Use pandas [corr](https://pandas.pydata.org/pandas-docs/stable/reference/api/pandas.DataFrame.corr.html?highlight=corr#pandas.DataFrame.corr) method to compute correlation between features (use pearson's r metrics)   \n",
    "Which feature is most strongly correlated with Batting Avg Scores ?"
   ]
  },
  {
   "cell_type": "markdown",
   "metadata": {},
   "source": [
    "**Exercise 7**\n",
    "\n",
    "* Use matplolib hist method to display the histogram of Batting average scores   \n",
    "Is the distribution normal or skewed ?"
   ]
  },
  {
   "cell_type": "markdown",
   "metadata": {},
   "source": [
    "### Creating Training and Test Data\n",
    "\n",
    "$Y$ = batting average score  (the dependent variable)   \n",
    "$X$ = all the other features (the independent variable)\n",
    "\n",
    "We use $X$ and $Y$ to learn a linear regression model and predict batting average scores. "
   ]
  },
  {
   "cell_type": "markdown",
   "metadata": {},
   "source": [
    "**Exercise 8:** Creating train and test data\n",
    "\n",
    "* Create two new dataframes, one called X from the BattingAverageLAG1 column and the other called Y from the BattingAverage column.\n",
    "* Reshape X to a list of lists using e.g., X.values.reshape(-1, 1).  \n",
    "When using a single feature for regression, you need to reshape your array as shown, else it will be rejected by \n",
    "the linear regression model. \n",
    "\n",
    "_**Cf. regression CS for an example.**_"
   ]
  },
  {
   "cell_type": "markdown",
   "metadata": {},
   "source": [
    "* Split the data into training and testing subsets.   \n",
    "Remember that the data must first be shuffled into a random order to remove any bias in the ordering of the dataset. An easy way to ensure this shuffling is to use the [train_test_split](https://scikit-learn.org/stable/modules/generated/sklearn.model_selection.train_test_split.html) method from sklearn.model_selection"
   ]
  },
  {
   "cell_type": "markdown",
   "metadata": {},
   "source": [
    "### Training and Testing a Linear Regression Model\n",
    "\n",
    "_**Cf. regression_cheat_sheet.ipynb**_ "
   ]
  },
  {
   "cell_type": "markdown",
   "metadata": {
    "slideshow": {
     "slide_type": ""
    }
   },
   "source": [
    "**Exercise 9:**  Create a LinearRegression object\n",
    "Use sklearn [LinearRegression()](https://scikit-learn.org/stable/auto_examples/linear_model/plot_ols.html) method "
   ]
  },
  {
   "cell_type": "markdown",
   "metadata": {},
   "source": [
    "**Exercise 10:** Fit the model\n",
    "\n",
    "* The fit() function estimates the coefficients the linear regression using least squares.\n",
    "* It learns a model"
   ]
  },
  {
   "cell_type": "markdown",
   "metadata": {},
   "source": [
    "**Exercise 11:** Compute the predictions\n",
    "\n",
    "* on the training data\n",
    "* on the test data"
   ]
  },
  {
   "cell_type": "markdown",
   "metadata": {},
   "source": [
    "### Inspecting the model predictions"
   ]
  },
  {
   "cell_type": "markdown",
   "metadata": {},
   "source": [
    "How well does the model fit the test data ? (PROVIDED: adapt it to the variable names you used)  \n",
    "\n",
    "* Create a scatter plot representing the test data: X are the input features and Y are the observed values. \n",
    "* Overlay it with a plot representing the model predictions:  X are the input features and Y are the values predicted for X by the model.     \n",
    "The closer the datapoints are to the blue line, the most accurate the model predictions are. "
   ]
  },
  {
   "cell_type": "code",
   "execution_count": null,
   "metadata": {},
   "outputs": [],
   "source": [
    "# Visualising the Test set results \n",
    "\n",
    "plt.scatter(X_test, Y_test, color = 'red') \n",
    "plt.plot(X_test, lm.predict(X_test), color = 'blue') \n",
    "plt.title('BattingAverageLAG1 vs BattingAverage (Test set)') \n",
    "plt.xlabel('BattingAverageLAG1') \n",
    "plt.ylabel('BattingAverage') \n",
    "plt.show()"
   ]
  },
  {
   "cell_type": "markdown",
   "metadata": {},
   "source": [
    "**Exercise 12:** Compute the mean squared error for both predictions.   \n",
    "Use the mean_squared_error method from sklearn.metrics "
   ]
  },
  {
   "cell_type": "markdown",
   "metadata": {},
   "source": [
    "**Exercise 13:** Print out the model score ($R^2$)\n",
    "\n",
    "* lm.score is the [coefficient of determination](https://en.wikipedia.org/wiki/Coefficient_of_determination)\n",
    "* It is the proportion of the variance in the dependent variable that is predictable from the independent variable(s).\n",
    "* a statistical measure of how well the regression predictions approximate the real data points\n",
    "* An $R^2$ of 1 indicates that the regression predictions perfectly fit the data."
   ]
  },
  {
   "cell_type": "markdown",
   "metadata": {},
   "source": [
    "**Exercise 14:** Inspect the feature weights\n",
    "\n",
    "* lm.coef_ = array of estimated coefficients\n",
    "* Use pandas DatFrame.from_items to create a dataframe whose columns are the features (X.columns) and the model coefficients (lm.coef_ )"
   ]
  },
  {
   "cell_type": "markdown",
   "metadata": {},
   "source": [
    "**Exercise 15:** Compare predicted and expected scores"
   ]
  },
  {
   "cell_type": "markdown",
   "metadata": {},
   "source": [
    "**Exercise 16:** Display the histogram of predicted scores\n",
    "\n",
    "* Use plt.hist method"
   ]
  },
  {
   "cell_type": "markdown",
   "metadata": {},
   "source": [
    "**Exercise 17:** Plot the histograms of the true scores compared to the predicted scores (side by side)"
   ]
  },
  {
   "cell_type": "markdown",
   "metadata": {},
   "source": [
    "### Multiple Linear Regression (PROVIDED)\n",
    "#### Using both features\n"
   ]
  },
  {
   "cell_type": "code",
   "execution_count": null,
   "metadata": {},
   "outputs": [],
   "source": [
    "# Get the features values (X) and the target values (Y)\n",
    "X = baseball_df[[\"BattingAverageLAG1\",\"CumulativeAverageLAG1\"]]\n",
    "Y = baseball_df[\"BattingAverage\"]"
   ]
  },
  {
   "cell_type": "markdown",
   "metadata": {
    "slideshow": {
     "slide_type": "fragment"
    }
   },
   "source": [
    "#### Training a new model \n",
    "\n",
    "Retrain to take into account the new features"
   ]
  },
  {
   "cell_type": "code",
   "execution_count": null,
   "metadata": {},
   "outputs": [],
   "source": [
    "# Import 'train_test_split'\n",
    "from sklearn.model_selection import train_test_split\n",
    "\n",
    "# Shuffle and split the data into training and testing subsets\n",
    "X_train, X_test, Y_train, Y_test  = train_test_split(X,Y, \n",
    "                                                     test_size=0.20, random_state=42)\n",
    "\n",
    "lm = LinearRegression()\n",
    "lm.fit(X_train, Y_train)\n",
    "\n",
    "LinearRegression(copy_X=True, fit_intercept=True, normalize=True)"
   ]
  },
  {
   "cell_type": "markdown",
   "metadata": {
    "slideshow": {
     "slide_type": "slide"
    }
   },
   "source": [
    "#### Inspecting the results\n",
    "\n",
    "Inspect the feature weight"
   ]
  },
  {
   "cell_type": "code",
   "execution_count": null,
   "metadata": {},
   "outputs": [],
   "source": [
    "L = {'Features':X_train.columns,'Coefficients':lm.coef_}\n",
    "pd.DataFrame(L)"
   ]
  },
  {
   "cell_type": "markdown",
   "metadata": {},
   "source": [
    "Compute the mean squared error"
   ]
  },
  {
   "cell_type": "code",
   "execution_count": null,
   "metadata": {},
   "outputs": [],
   "source": [
    "print(\"MSE on Y_train:\", np.mean((Y_train - lm.predict(X_train)) ** 2))\n",
    "print(\"MSE on X_test:\", np.mean((Y_test - lm.predict(X_test)) ** 2))"
   ]
  },
  {
   "cell_type": "markdown",
   "metadata": {},
   "source": [
    "Compute the score (coefficient of determination)"
   ]
  },
  {
   "cell_type": "code",
   "execution_count": null,
   "metadata": {},
   "outputs": [],
   "source": [
    "print(lm.score(X_train,Y_train))\n",
    "print(lm.score(X_test,Y_test))"
   ]
  }
 ],
 "metadata": {
  "kernelspec": {
   "display_name": "Python 3 (ipykernel)",
   "language": "python",
   "name": "python3"
  },
  "language_info": {
   "codemirror_mode": {
    "name": "ipython",
    "version": 3
   },
   "file_extension": ".py",
   "mimetype": "text/x-python",
   "name": "python",
   "nbconvert_exporter": "python",
   "pygments_lexer": "ipython3",
   "version": "3.11.7"
  }
 },
 "nbformat": 4,
 "nbformat_minor": 4
}
