{
 "cells": [
  {
   "cell_type": "markdown",
   "metadata": {},
   "source": [
    "# NLTK "
   ]
  },
  {
   "cell_type": "code",
   "execution_count": 2,
   "metadata": {},
   "outputs": [],
   "source": [
    "#  Summary for segmentation, POS tagging and tokenization\n",
    "import nltk\n",
    "rawtext=open(\"../07_linguistic_preprocessing/webnlg-test.txt\").read()\n",
    "sentences = nltk.sent_tokenize(rawtext) # NLTK default sentence  segmenter\n",
    "tokens = [nltk.word_tokenize(sent) for sent in sentences] # NLTK word tokenizer\n",
    "postags = [nltk.pos_tag(sent) for sent in sentences] # NLTK POS tagger\n"
   ]
  },
  {
   "cell_type": "markdown",
   "metadata": {},
   "source": [
    "#### Segmenting a string into sentences"
   ]
  },
  {
   "cell_type": "code",
   "execution_count": null,
   "metadata": {},
   "outputs": [],
   "source": [
    "import nltk\n",
    "text = \"John loves apples. He does'nt like pears.\"\n",
    "\n",
    "# text must be a string\n",
    "sentences = nltk.sent_tokenize(text)\n",
    "print(sentences)"
   ]
  },
  {
   "cell_type": "markdown",
   "metadata": {},
   "source": [
    "#### Segmenting a string into tokens "
   ]
  },
  {
   "cell_type": "code",
   "execution_count": null,
   "metadata": {},
   "outputs": [],
   "source": [
    "import nltk\n",
    "text = \"John loves apples\"\n",
    "\n",
    "# text must be a string \n",
    "tokens = nltk.word_tokenize(text)\n",
    "print(tokens)"
   ]
  },
  {
   "cell_type": "markdown",
   "metadata": {},
   "source": [
    "#### Retrieving NLTK Stop Words list"
   ]
  },
  {
   "cell_type": "code",
   "execution_count": null,
   "metadata": {},
   "outputs": [],
   "source": [
    "import nltk\n",
    "nltk.download('stopwords')\n",
    "from nltk.corpus import stopwords\n",
    "en_stopwords = stopwords.words('english')\n",
    "print(en_stopwords)\n"
   ]
  },
  {
   "cell_type": "markdown",
   "metadata": {},
   "source": [
    "#### POS Tagging"
   ]
  },
  {
   "cell_type": "code",
   "execution_count": null,
   "metadata": {},
   "outputs": [],
   "source": [
    "import nltk\n",
    "\n",
    "sentence = \"Amélie is a story about a girl named Amélie whose childhood was suppressed by her Father's mistaken concerns of a heart defect.\"\n",
    "\n",
    "# Tokenize and Pos-tag the sentence\n",
    "tokens = nltk.word_tokenize(sentence)\n",
    "tagged_tokens = nltk.pos_tag(tokens) \n",
    "tagged_tokens"
   ]
  },
  {
   "cell_type": "markdown",
   "metadata": {},
   "source": [
    "#### Lemmatizing\n",
    "\n",
    "Given a token and its POS tag, NLTK WordNet lemmatizer (nltk.stem.wordnet.WordNetLemmatizer) will return its lemma i.e., the word form which is usually found in dictionary entries. "
   ]
  },
  {
   "cell_type": "code",
   "execution_count": null,
   "metadata": {},
   "outputs": [],
   "source": [
    "# Instantiate a lemmatizer object\n",
    "lemmatizer = nltk.stem.wordnet.WordNetLemmatizer()\n",
    "      \n",
    "word_form = \"suppressed\"\n",
    "\n",
    "# For this lemmatizer, we need to indicate the POS of the word \n",
    "# (in this case, v for verb)\n",
    "lemma = lemmatizer.lemmatize(word_form, \"v\") \n",
    "print(word_form, lemma)"
   ]
  },
  {
   "cell_type": "markdown",
   "metadata": {},
   "source": [
    "#### Stemming"
   ]
  },
  {
   "cell_type": "code",
   "execution_count": null,
   "metadata": {},
   "outputs": [],
   "source": [
    "from nltk.stem.porter import PorterStemmer\n",
    "# Create a stemmer instance\n",
    "porter = PorterStemmer()\n",
    "sentence = \"Mr. and Mrs. Dursley, of number four, Privet Drive in Stansted, were proud to say that they were perfectly normal, thank you very much.\"\n",
    "# Tokenize\n",
    "tokens = nltk.word_tokenize(sentence)\n",
    "# Apply the stemmer and collect the stems\n",
    "porterlemmas = []\n",
    "for word in tokens:\n",
    "    porterlemmas.append(porter.stem(word))\n",
    "print(porterlemmas)"
   ]
  }
 ],
 "metadata": {
  "kernelspec": {
   "display_name": "Python 3",
   "language": "python",
   "name": "python3"
  },
  "language_info": {
   "codemirror_mode": {
    "name": "ipython",
    "version": 3
   },
   "file_extension": ".py",
   "mimetype": "text/x-python",
   "name": "python",
   "nbconvert_exporter": "python",
   "pygments_lexer": "ipython3",
   "version": "3.8.5"
  }
 },
 "nbformat": 4,
 "nbformat_minor": 2
}
