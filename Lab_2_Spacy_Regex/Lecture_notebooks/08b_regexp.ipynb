{
 "cells": [
  {
   "cell_type": "markdown",
   "metadata": {},
   "source": [
    "# Lecture 8: Python Regular Expressions (Regex)\n",
    "\n",
    "This lecture is about pattern matching in text using regular expressions. There are three main reasons for using regexes\n",
    "- to check whether a pattern exists within some text <code>match(), search() </code> \n",
    "- given a pattern, to extract all instances of that pattern which occur in the input text <code>findall()</code>\n",
    "- to modify your source data  through string splitting or pattern-based substitution <code>re.split()</code>, <code>re.sub(r\"RE1\", \"RE2\", target_str)</code>\n",
    "\n",
    "Tutorials\n",
    "https://regexone.com\n",
    "https://www.regular-expressions.info/\n",
    "\n",
    "Based on Coursera Applied-Data-Science-with-Python-Specialization course"
   ]
  },
  {
   "cell_type": "code",
   "execution_count": null,
   "metadata": {},
   "outputs": [],
   "source": [
    "#  Import python regular expression libraries.\n",
    "import re"
   ]
  },
  {
   "cell_type": "markdown",
   "metadata": {},
   "source": [
    "### Checking \n",
    "- to check whether a pattern exists within some text <code>match(), search() </code> "
   ]
  },
  {
   "cell_type": "code",
   "execution_count": null,
   "metadata": {},
   "outputs": [],
   "source": [
    "# match() checks for a match that is at the beginning of the string and returns a boolean. \n",
    "# search(), checks for a match anywhere in the string, and returns a boolean.\n",
    "\n",
    "text = \"This is a good day.\"\n",
    "\n",
    "if re.search(\"good\", text): # the first parameter here is the pattern\n",
    "    print(\"Wonderful!\")\n",
    "else:\n",
    "    print(\"Alas :(\")"
   ]
  },
  {
   "cell_type": "markdown",
   "metadata": {},
   "source": [
    "### Getting all instances of a pattern \n",
    "- given a pattern, to get all instances of that pattern which occur in some text <code>findall()</code>"
   ]
  },
  {
   "cell_type": "code",
   "execution_count": null,
   "metadata": {},
   "outputs": [],
   "source": [
    "import re\n",
    "text = \"Hans is a new student. Hans is from Norway. Hans's friend is from Sri Lanka.\"\n",
    "\n",
    "re.findall(\"Hans\", text)"
   ]
  },
  {
   "cell_type": "markdown",
   "metadata": {},
   "source": [
    "### Modifying text data\n",
    "\n",
    "<code>re.split()</code>\n"
   ]
  },
  {
   "cell_type": "code",
   "execution_count": null,
   "metadata": {},
   "outputs": [],
   "source": [
    "# Both the findall() and split() functions will parse the input string and return chunks.\n",
    "text = \"Hans is a new student. Hans is from Norway. Hans's friend is from Sri Lanka.\"\n",
    "# Split text on all instances of Hans\n",
    "re.split(\"Hans\", text)"
   ]
  },
  {
   "cell_type": "markdown",
   "metadata": {},
   "source": [
    "Replace RE1 by RE2 in string target_str\n",
    "\n",
    "<code>re.sub(r\"RE1\", \"RE2\", target_str)</code\n",
    "    "
   ]
  },
  {
   "cell_type": "code",
   "execution_count": null,
   "metadata": {},
   "outputs": [],
   "source": [
    "import re\n",
    "\n",
    "target_str = \"Jessa knows testing and machine learning\"\n",
    "\n",
    "# replace all whitespaces with underscore\n",
    "res_str = re.sub(r\"\\s\", \"_\", target_str)\n",
    "# String after replacement\n",
    "print(res_str)"
   ]
  },
  {
   "cell_type": "markdown",
   "metadata": {},
   "source": [
    "### Patterns, Python regex language\n",
    "\n",
    "https://docs.python.org/3/library/re.html\n",
    "\n",
    "Which patterns can we write ?\n",
    "The regex specification standard defines a language to describe patterns in text. \n",
    "\n",
    "- Anchors specify the start and/or the end of the string that you are trying to match\n",
    "- Metacharacters/character classes specify sets of characters\n",
    "- Operators specify disjunction or negation \n",
    "- Quantifiers specify number of repetitions, the number of times you want a pattern to occur in the input string in order for the match to be successful. \n",
    "- Groups: to match several patterns, called groups, at the same time\n",
    "- Compiling regex and Option flags"
   ]
  },
  {
   "cell_type": "markdown",
   "metadata": {},
   "source": [
    "#### Anchors\n",
    "- Anchors specify the start and/or the end of the string that you are trying to match. \n",
    "- The caret character ^ means start \n",
    "- The dollar sign character $ means end. \n",
    "\n",
    "If you put ^ before a string, it means that the text the regex processor retrieves must start with the string you specify. If you put the $ character after the string, it means that the text Regex retrieves must end with the string you specify.\n"
   ]
  },
  {
   "cell_type": "code",
   "execution_count": null,
   "metadata": {},
   "outputs": [],
   "source": [
    "text = \"Hans is a new student. Hans is from Norway. Hans's friend is from Sri Lanka.\"\n",
    "\n",
    "# Lets see if this begins with Hans\n",
    "match = re.search(\"^Hans\",text)\n",
    "match\n",
    "#match.span(0)"
   ]
  },
  {
   "cell_type": "code",
   "execution_count": null,
   "metadata": {},
   "outputs": [],
   "source": [
    "# Notice that re.search() actually returned to us a new object, called re.Match object. An re.Match object\n",
    "# always has a boolean value of True, as something was found, so you can always evaluate it in an if statement\n",
    "# The rendering of the match object also tells you what pattern was matched, in this case\n",
    "# the word Hans, and the location the match was in, as the span."
   ]
  },
  {
   "cell_type": "markdown",
   "metadata": {},
   "source": [
    "#### Set Operator\n",
    "- defines a set of matching values\n",
    "- [AB] matches either A or B"
   ]
  },
  {
   "cell_type": "code",
   "execution_count": null,
   "metadata": {},
   "outputs": [],
   "source": [
    "grades=\"DEDDDDEFEFEDD\"\n",
    "\n",
    "# How many B's?\n",
    "re.findall(\"D\",grades)"
   ]
  },
  {
   "cell_type": "code",
   "execution_count": null,
   "metadata": {},
   "outputs": [],
   "source": [
    "# How many A or B's?\n",
    "grades=\"DEDDDDEFEFEDD\"\n",
    "re.findall(\"[DE]\",grades)"
   ]
  },
  {
   "cell_type": "code",
   "execution_count": null,
   "metadata": {},
   "outputs": [],
   "source": [
    "# How many A followed by either B or C?\n",
    "grades=\"DEDDDDEFEFEDD\"\n",
    "re.findall(\"E[DF]\",grades)"
   ]
  },
  {
   "cell_type": "markdown",
   "metadata": {},
   "source": [
    "##### Disjunction Operator\n",
    "- defines a disjunction between  values\n",
    "- A|B matches either A or B"
   ]
  },
  {
   "cell_type": "code",
   "execution_count": null,
   "metadata": {},
   "outputs": [],
   "source": [
    "grades=\"DEDDDDEFEFEDD\"\n",
    "# All AB or AC\n",
    "re.findall(\"ED|EF\",grades)"
   ]
  },
  {
   "cell_type": "markdown",
   "metadata": {},
   "source": [
    "##### Negation Operator\n",
    "You can use the caret with the set operator to negate the results."
   ]
  },
  {
   "cell_type": "code",
   "execution_count": null,
   "metadata": {},
   "outputs": [],
   "source": [
    "grades=\"DEDDDDEFEFEDD\"\n",
    "# All non A grades\n",
    "re.findall(\"[^D]\",grades)"
   ]
  },
  {
   "cell_type": "code",
   "execution_count": null,
   "metadata": {},
   "outputs": [],
   "source": [
    "# Note this carefully - the caret was previously matched to the beginning of a string as an anchor point, but\n",
    "# inside of the set operator the caret, and the other special characters we will be talking about, lose their\n",
    "# meaning. This can be a bit confusing. What do you think the result would be of this?\n",
    "grades=\"DEDDDDEFEFEDD\"\n",
    "re.findall(\"^[^D]\",grades)"
   ]
  },
  {
   "cell_type": "code",
   "execution_count": null,
   "metadata": {},
   "outputs": [],
   "source": [
    "# It's an empty list, because the regex says that we want to match any value at the beginning of the string\n",
    "# which is not an A. Our string though starts with an A, so there is no match found. And remember when you are\n",
    "# using the set operator you are doing character-based matching. So you are matching individual characters in\n",
    "# an OR method."
   ]
  },
  {
   "cell_type": "markdown",
   "metadata": {},
   "source": [
    "##### Quantifiers"
   ]
  },
  {
   "cell_type": "code",
   "execution_count": null,
   "metadata": {},
   "outputs": [],
   "source": [
    "# Quantifiers are the number of times you want a pattern to be matched in order to match. The most basic\n",
    "# quantifier is expressed as e{m,n}, where e is the expression or character we are matching, m is the minimum\n",
    "# number of times you want it to matched, and n is the maximum number of times the item could be matched.\n",
    "\n",
    "grades=\"DEDDDDEFEFEDD\"\n",
    "# All sequences of A of size 2 to 10\n",
    "re.findall(\"A{2,10}\",grades) # we'll use 2 as our min, but ten as our max"
   ]
  },
  {
   "cell_type": "code",
   "execution_count": null,
   "metadata": {},
   "outputs": [],
   "source": [
    "grades=\"DEDDDDEFEFEDD\"\n",
    "re.findall(\"D{1,2}\",grades)"
   ]
  },
  {
   "cell_type": "code",
   "execution_count": null,
   "metadata": {},
   "outputs": [],
   "source": [
    "grades=\"DEDDDDEFEFEDD\"\n",
    "\n",
    "# if you don't include a quantifier then the default is {1,1}\n",
    "# All sequences of A of size 1\n",
    "re.findall(\"DD\",grades)"
   ]
  },
  {
   "cell_type": "code",
   "execution_count": null,
   "metadata": {},
   "outputs": [],
   "source": [
    "grades=\"DEDDDDEFEFEDD\"\n",
    "# if you just have one number in the braces, it's considered to be both m and n\n",
    "# All sequences of A of size 2\n",
    "re.findall(\"D{2}\",grades)"
   ]
  },
  {
   "cell_type": "code",
   "execution_count": null,
   "metadata": {},
   "outputs": [],
   "source": [
    "# grades=\"DEDDDDEFEFEDD\"\n",
    "# All sequences of A of size 1 to 10 followed by a sequence of B of size 1 to 10 followed by a sequence of C of size 1 to 10\n",
    "re.findall(\"D{1,10}E{1,10}F{1,10}\",grades)"
   ]
  },
  {
   "cell_type": "code",
   "execution_count": null,
   "metadata": {},
   "outputs": [],
   "source": [
    "# Lets look at a more complex example, and load some data scraped from wikipedia\n",
    "with open(\"edit-regex.txt\",\"r\") as file:\n",
    "    # we'll read that into a variable called wiki\n",
    "    wiki=file.read()\n",
    "wiki"
   ]
  },
  {
   "cell_type": "code",
   "execution_count": null,
   "metadata": {},
   "outputs": [],
   "source": [
    "# headers are followed by \"\"[edit]\\n\"\n",
    "# to get a list of all of the headers \n",
    "re.findall(\"[a-zA-Z]{1,100}\\[edit\\]\",wiki)"
   ]
  },
  {
   "cell_type": "code",
   "execution_count": null,
   "metadata": {},
   "outputs": [],
   "source": [
    "# Ok, that didn't quite work. It got all of the headers, but only the last word of the header\n",
    "# use \\w to match any letter, including digits and numbers.\n",
    "re.findall(\"[\\w]{1,100}\\[edit\\]\",wiki)"
   ]
  },
  {
   "cell_type": "code",
   "execution_count": null,
   "metadata": {},
   "outputs": [],
   "source": [
    "# Use asterix * to match 0 or more times.\n",
    "re.findall(\"[\\w]*\\[edit\\]\",wiki)"
   ]
  },
  {
   "cell_type": "code",
   "execution_count": null,
   "metadata": {},
   "outputs": [],
   "source": [
    " #We can add in a space\n",
    "re.findall(\"[\\w ]*\\[edit\\]\",wiki)"
   ]
  },
  {
   "cell_type": "code",
   "execution_count": null,
   "metadata": {},
   "outputs": [],
   "source": [
    "# Create a list of titles by iterating through this and applying another regex\n",
    "for title in re.findall(\"[\\w ]*\\[edit\\]\",wiki):\n",
    "    print(re.split(\"[\\[]\",title)[0])"
   ]
  },
  {
   "cell_type": "markdown",
   "metadata": {},
   "source": [
    "#### Groups\n",
    "- To  match several patterns, called groups, at the same time \n",
    "- To create group patterns, use parentheses. \n",
    "- The re module breaks out the result by groups\n",
    "\n",
    "<code>re.finditer(RE,text)</code> to get the result i.e., a list of matches\n",
    "\n",
    "<code>match.group(n)</code> to get the Nth item of each match"
   ]
  },
  {
   "cell_type": "code",
   "execution_count": null,
   "metadata": {},
   "outputs": [],
   "source": [
    "# Two groups: (i) any nb of letters or space (ii) [edit]\n",
    "re.findall(\"([\\w ]*)(\\[edit\\])\",wiki)"
   ]
  },
  {
   "cell_type": "code",
   "execution_count": null,
   "metadata": {},
   "outputs": [],
   "source": [
    "# Two groups: (i) any nb of letters or space (ii) [edit]\n",
    "m = re.finditer(\"([\\w ]*)(\\[edit\\])\",wiki)\n",
    "m"
   ]
  },
  {
   "cell_type": "code",
   "execution_count": null,
   "metadata": {},
   "outputs": [],
   "source": [
    "# findall() returns strings, and search() and match() return individual Match objects. \n",
    "# To get a list of Match objects use the function finditer()\n",
    "for item in re.finditer(\"([\\w ]*)(\\[edit\\])\",wiki):\n",
    "    print(item.groups())"
   ]
  },
  {
   "cell_type": "code",
   "execution_count": null,
   "metadata": {},
   "outputs": [],
   "source": [
    "# We can get an individual group using group(number), where group(0) is the whole match, and each other number \n",
    "# is the portion of the match we are interested in.\n",
    "for item in re.finditer(\"([\\w ]*)(\\[edit\\])\",wiki):\n",
    "    print(item.group(1))"
   ]
  },
  {
   "cell_type": "markdown",
   "metadata": {},
   "source": [
    "#### Named Groups\n",
    "- Groups can be named \n",
    "- Named group can be accessed thru the dictionary associated with the Match object\n",
    "<code>(?P\\<name\\>)</code> , where the parenthesis starts the group, the <code>?P</code> indicates that this is an extension to basic regexes, and <code>name</code> is the dictionary key we want to use."
   ]
  },
  {
   "cell_type": "code",
   "execution_count": null,
   "metadata": {},
   "outputs": [],
   "source": [
    "for item in re.finditer(\"(?P<title>[\\w ]*)(?P<edit_link>\\[edit\\])\",wiki):\n",
    "    # We can get the dictionary returned for the item with .groupdict()\n",
    "    print(item.groupdict()['title'])"
   ]
  },
  {
   "cell_type": "code",
   "execution_count": null,
   "metadata": {},
   "outputs": [],
   "source": [
    "# Printing out the whole dictionary\n",
    "for item in re.finditer(\"(?P<title>[\\w ]*)(?P<edit_link>\\[edit\\])\",wiki):\n",
    "    print(item.groupdict())"
   ]
  },
  {
   "cell_type": "markdown",
   "metadata": {},
   "source": [
    "#### Look-ahead and Look-behind\n",
    "<code>(?=RE)</code>\n",
    "- the pattern given to the regex engine is for text either before or after the text we are trying to isolate. "
   ]
  },
  {
   "cell_type": "code",
   "execution_count": null,
   "metadata": {},
   "outputs": [],
   "source": [
    "# isolate text which  comes before  [edit] \n",
    "for item in re.finditer(\"(?P<title>[\\w ]+)(?=\\[edit\\])\",wiki):\n",
    "    # the second group will be the characters [edit] but will not occur in the output match objects\n",
    "    print(item[1])\n"
   ]
  },
  {
   "cell_type": "markdown",
   "metadata": {},
   "source": [
    "# Compiling regex and regex modes \n",
    "\n",
    "The re functions take options to modify the behavior of the pattern match. The option flag is added as an extra argument to the search() or findall() etc., e.g. re.search(pat, str, re.IGNORECASE).\n",
    "\n",
    "- IGNORECASE -- ignore upper/lowercase differences for matching, so 'a' matches both 'a' and 'A'.\n",
    "- DOTALL -- allow dot (.) to match newline -- normally it matches anything but newline. This can trip you up as you think .* matches everything, but by default it does not go past the end of a line. Note that \\s (whitespace) includes newlines, so if you want to match a run of whitespace that may include a newline, you can just use \\s*\n",
    "- MULTILINE -- Within a string made of many lines, allow ^ and $ to match the start and end of each line. Normally ^/$ would just match the start and end of the whole string.\n",
    "- VERBOSE --  allows you to write multi-line regexes and increases readability. For this mode, we have to explicitly indicate all whitespace characters, either by prepending them with a \\ or by using the \\s special value. Comments can be added with #\n"
   ]
  },
  {
   "cell_type": "code",
   "execution_count": null,
   "metadata": {},
   "outputs": [],
   "source": [
    "# Regexp can be compiled for reuse\n",
    "regex = re.compile(\"(?P<title>[\\w ]+)(?=\\[edit\\])\")\n",
    "for item in re.finditer(regex,wiki):\n",
    "    # the second group will be the characters [edit] but will not occur in the output match objects\n",
    "    print(item[1])"
   ]
  },
  {
   "cell_type": "markdown",
   "metadata": {},
   "source": [
    "##### The verbose mode"
   ]
  },
  {
   "cell_type": "code",
   "execution_count": null,
   "metadata": {},
   "outputs": [],
   "source": [
    "# Let's look at some more wikipedia data. Here's some data on universities in the US which are buddhist-based\n",
    "with open(\"buddhist.txt\",\"r\") as file:\n",
    "    # we'll read that into a variable called wiki\n",
    "    wiki=file.read()\n",
    "# and lets print that variable out to the screen\n",
    "wiki"
   ]
  },
  {
   "cell_type": "code",
   "execution_count": null,
   "metadata": {},
   "outputs": [],
   "source": [
    "# All universities \n",
    "pattern=\"\"\"\n",
    "(?P<title>.*)        #the university title\n",
    "(–\\ located\\ in\\ )   #an indicator of the location\n",
    "(?P<city>\\w*)        #city the university is in\n",
    "(,\\ )                #separator for the state\n",
    "(?P<state>\\w*)       #the state the city is located in\"\"\"\n",
    "\n",
    "# Now when we call finditer() we just pass the re.VERBOSE flag as the last parameter, this makes it much\n",
    "# easier to understand large regexes!\n",
    "for item in re.finditer(pattern,wiki,re.VERBOSE):\n",
    "    # We can get the dictionary returned for the item with .groupdict()\n",
    "    print(item.groupdict())"
   ]
  },
  {
   "cell_type": "markdown",
   "metadata": {},
   "source": [
    "## Some Examples"
   ]
  },
  {
   "cell_type": "code",
   "execution_count": null,
   "metadata": {},
   "outputs": [],
   "source": [
    "### Extracting all domain names (the url part which occur after //)\n",
    "\n",
    "import re\n",
    "text = 'I refer to https://google.com and I never refer http://www.baidu.com, if I have to search anything'\n",
    "for item in re.findall(\"(?<=:\\/\\/)([A-Za-z0-9.]*)\",text):\n",
    "     print(item)\n",
    "     \n"
   ]
  },
  {
   "cell_type": "code",
   "execution_count": null,
   "metadata": {},
   "outputs": [],
   "source": [
    "import re\n",
    "text = 'I refer to https://google.com and I never refer http://www.baidu.com if I have to search anything'\n",
    "for item in re.finditer(\"(?<=[https]:\\/\\/)([A-Za-z0-9.]*)\",text):\n",
    "    #\"(?P<title>[\\w ]+)(?=\\[edit\\])\":\n",
    "     print(item.group(1))\n"
   ]
  },
  {
   "cell_type": "code",
   "execution_count": null,
   "metadata": {},
   "outputs": [],
   "source": [
    "import re\n",
    "# All names \n",
    "simple_string = \"\"\"Hans is 5 years old, and her sister Mary is 2 years old. Ruth and Peter, their parents, have 3 kids.\"\"\"\n",
    "re.findall(\"[A-Z][\\w,]+\\s\", simple_string)\n",
    "    "
   ]
  },
  {
   "cell_type": "code",
   "execution_count": null,
   "metadata": {},
   "outputs": [],
   "source": [
    "s = '146.204.224.152 - feest6811 [21/Jun/2019:15:45:24 -0700] \"POST /incentivize HTTP/1.1\" \\\n",
    "302 4622\\n197.109.77.178 - kertzmann3129 [21/Jun/2019:15:45:25 -0700] \\\n",
    "\"DELETE /virtual/solutions/target/web+services HTTP/2.0\" 203 26554\\n156.127.178.177 - \\\n",
    "okuneva5222 [21/Jun/2019:15:45:27 -0700] \"DELETE /interactive/transparent/niches/revolutionize HTTP/1.1\"\\\n",
    "416 14701\\n100.32.205.59 - ortiz8891 [21/Jun/2019:15:45:28 -0700] \"PATCH /architectures HTTP/1.0\" \\\n",
    "204 6048\\n168.95.156.240 - stark2413 [21/Jun/2019:15:45:31 -0700] \\\n",
    "\"GET /engage HTTP/2.0\" 201 9645\\n71.172.239.195 - dooley1853 [21/Jun/2019:15:45:32 -0700]\\\n",
    "\"PUT /cutting-edge HTTP/2.0\" 406 24498\\n180.95.121.94 - mohr6893 [21/Jun/2019:15:45:34 -0700]\\\n",
    "\"PATCH /extensible/reinvent HTTP/1.1\" 201 27330\\n144.23.247.108 - auer7552 [21/Jun/2019:15:45:35 -0700]\\\n",
    "\"POST /extensible/infrastructures/one-to-one/enterprise HTTP/1.1\" 100 22921\\n2.179.103.97 - \\\n",
    "lind8584 [21/Jun/2019:15:45:36 -0700] \"POST /grow/front-end/e-commerce/robust HTTP/2.0\"\\\n",
    "304 14641\\n241.114.184.133 - tromp8355 [21/Jun/2019:15:45:37 -0700]\\\n",
    "\"GET /redefine/orchestrate HTTP/1.0\" 204 29059\\n224.188.38.4 - \\\n",
    "keebler1423 [21/Jun/2019:15:45:40 -0700] \"PUT /orchestrate/out-of-the-box/unleash/syndicate HTTP/1.1\" \\\n",
    "404 28211\\n94.11.36.112 - klein8508 [21/Jun/2019:15:45:41 -0700] \\\n",
    "\"POST /enhance/solutions/bricks-and-clicks HTTP/1.1\" 404 24768\\n1 146.204.224.152 \\\n",
    "- feest6811 [21/Jun/2019:15:45:24 -0700] 302 4622 \\\n",
    "197.109.77.178 - kertzmann  [21/Jun/2019:15:45:24 -0700] 302 4622 312 \\\n",
    "159.253.153.40 - - [21/Jun/2019:15:46:10 -0700] \"POST /e-business HTTP/1.0\" 504 19845'"
   ]
  },
  {
   "cell_type": "code",
   "execution_count": null,
   "metadata": {},
   "outputs": [],
   "source": [
    "# All host names\n",
    "re.findall('[\\d.]{6,16}', s)"
   ]
  },
  {
   "cell_type": "code",
   "execution_count": null,
   "metadata": {},
   "outputs": [],
   "source": [
    "# All users\n",
    "# - ortiz8891 [21\n",
    "re.findall(' \\- ([\\w]+)\\s+\\[', s)"
   ]
  },
  {
   "cell_type": "code",
   "execution_count": null,
   "metadata": {},
   "outputs": [],
   "source": [
    "# request\n",
    "re.findall('[A-Z]+\\s+\\/.+[120.]{3}', s)"
   ]
  },
  {
   "cell_type": "code",
   "execution_count": null,
   "metadata": {},
   "outputs": [],
   "source": [
    "# time\n",
    "# [21/Jun/2019:15:45:31 -0700]\n",
    "re.findall('\\[([\\w\\/\\:\\s\\-]+)\\]',s)"
   ]
  }
 ],
 "metadata": {
  "kernelspec": {
   "display_name": "Python 3",
   "language": "python",
   "name": "python3"
  },
  "language_info": {
   "codemirror_mode": {
    "name": "ipython",
    "version": 3
   },
   "file_extension": ".py",
   "mimetype": "text/x-python",
   "name": "python",
   "nbconvert_exporter": "python",
   "pygments_lexer": "ipython3",
   "version": "3.8.5"
  }
 },
 "nbformat": 4,
 "nbformat_minor": 2
}
