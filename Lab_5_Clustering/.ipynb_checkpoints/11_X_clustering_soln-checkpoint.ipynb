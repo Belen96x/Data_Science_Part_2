{
 "cells": [
  {
   "cell_type": "markdown",
   "metadata": {},
   "source": [
    "# Exercises  \"Lecture 10: Clustering\"\n",
    "\n",
    "In this set of exercises, we will use clustering to group the wikipedia articles into 16 clusters. Since we are working on clustering (unsupervised machine learning),  we will ignore the labels (the category of the article) when training. We will use them however to evaluate the trained model (intrinsic evaluation).\n",
    "\n",
    "\n",
    "The exercises cover the following points:\n",
    "\n",
    "* Storing the data into an pandas dataframe and inspecting the data\n",
    "* Learning a clustering model from the data \n",
    "* Inspecting the output clusters\n",
    "\n",
    "Data: wkp_sorted.zip      \n",
    "\n",
    "Python libraries\n",
    "- sklearn.datasets to load data \n",
    "- pandas\n",
    "- numpy unique method to remove duplicate   \n",
    "\n",
    "Cheat sheets\n",
    "- 10_CS_clustering.ipynb\n"
   ]
  },
  {
   "cell_type": "markdown",
   "metadata": {},
   "source": [
    "##  Loading the Data into a Dataframe"
   ]
  },
  {
   "cell_type": "markdown",
   "metadata": {},
   "source": [
    "**Exercise 1** \n",
    "\n",
    "* Create a pandas dataframe containing two columns one for the text and one for the category of each Wikipedia article included in  \"data/wkp_sorted/\". \n",
    "* Use sklearn.datasets load_files method (cf. **clustering CS**) "
   ]
  },
  {
   "cell_type": "code",
   "execution_count": 1,
   "metadata": {},
   "outputs": [
    {
     "ename": "ModuleNotFoundError",
     "evalue": "No module named 'sklearn'",
     "output_type": "error",
     "traceback": [
      "\u001b[0;31m---------------------------------------------------------------------------\u001b[0m",
      "\u001b[0;31mModuleNotFoundError\u001b[0m                       Traceback (most recent call last)",
      "Cell \u001b[0;32mIn[1], line 2\u001b[0m\n\u001b[1;32m      1\u001b[0m \u001b[38;5;28;01mimport\u001b[39;00m \u001b[38;5;21;01mpandas\u001b[39;00m \u001b[38;5;28;01mas\u001b[39;00m \u001b[38;5;21;01mpd\u001b[39;00m\n\u001b[0;32m----> 2\u001b[0m \u001b[38;5;28;01mfrom\u001b[39;00m \u001b[38;5;21;01msklearn\u001b[39;00m\u001b[38;5;21;01m.\u001b[39;00m\u001b[38;5;21;01mdatasets\u001b[39;00m \u001b[38;5;28;01mimport\u001b[39;00m load_files\n\u001b[1;32m      3\u001b[0m \u001b[38;5;66;03m# Loading all files in \"dir\" directory into a pandas dataframe\u001b[39;00m\n\u001b[1;32m      4\u001b[0m DATA_DIR \u001b[38;5;241m=\u001b[39m \u001b[38;5;124m\"\u001b[39m\u001b[38;5;124mwkp_sorted/\u001b[39m\u001b[38;5;124m\"\u001b[39m\n",
      "\u001b[0;31mModuleNotFoundError\u001b[0m: No module named 'sklearn'"
     ]
    }
   ],
   "source": [
    "import pandas as pd\n",
    "from sklearn.datasets import load_files\n",
    "# Loading all files in \"dir\" directory into a pandas dataframe\n",
    "DATA_DIR = \"wkp_sorted/\"\n",
    "data = load_files(DATA_DIR, encoding=\"utf-8\", decode_error=\"replace\")\n",
    "df = pd.DataFrame({'text': data['data'], 'label': data['target']})\n",
    "df.head()"
   ]
  },
  {
   "cell_type": "code",
   "execution_count": 2,
   "metadata": {},
   "outputs": [
    {
     "data": {
      "text/plain": [
       "(160, 2)"
      ]
     },
     "execution_count": 2,
     "metadata": {},
     "output_type": "execute_result"
    }
   ],
   "source": [
    "df.shape"
   ]
  },
  {
   "cell_type": "markdown",
   "metadata": {},
   "source": [
    "**Exercise 2**  \n",
    "\n",
    "* Add a new column to your dataframe with header \"Headers\" in which you include the headers extracted from the texts\n",
    "* Use the code you developed in Exercise 3 of 10_Exercise_sheet_stats.ipynb"
   ]
  },
  {
   "cell_type": "code",
   "execution_count": 3,
   "metadata": {},
   "outputs": [
    {
     "data": {
      "text/html": [
       "<div>\n",
       "<style scoped>\n",
       "    .dataframe tbody tr th:only-of-type {\n",
       "        vertical-align: middle;\n",
       "    }\n",
       "\n",
       "    .dataframe tbody tr th {\n",
       "        vertical-align: top;\n",
       "    }\n",
       "\n",
       "    .dataframe thead th {\n",
       "        text-align: right;\n",
       "    }\n",
       "</style>\n",
       "<table border=\"1\" class=\"dataframe\">\n",
       "  <thead>\n",
       "    <tr style=\"text-align: right;\">\n",
       "      <th></th>\n",
       "      <th>text</th>\n",
       "      <th>label</th>\n",
       "      <th>headers</th>\n",
       "    </tr>\n",
       "  </thead>\n",
       "  <tbody>\n",
       "    <tr>\n",
       "      <th>0</th>\n",
       "      <td>The Cardiff Roller Collective (CRoC) are a rol...</td>\n",
       "      <td>11</td>\n",
       "      <td>References</td>\n",
       "    </tr>\n",
       "    <tr>\n",
       "      <th>1</th>\n",
       "      <td>\"Go! Pack Go!\" is the fight song of the Green ...</td>\n",
       "      <td>11</td>\n",
       "      <td>References</td>\n",
       "    </tr>\n",
       "    <tr>\n",
       "      <th>2</th>\n",
       "      <td>Al-Machriq (English translation: The East) was...</td>\n",
       "      <td>14</td>\n",
       "      <td>Bibliography References</td>\n",
       "    </tr>\n",
       "    <tr>\n",
       "      <th>3</th>\n",
       "      <td>Ajman International Airport (Arabic: مطار عجما...</td>\n",
       "      <td>0</td>\n",
       "      <td>Location History Operations Facilities Regulat...</td>\n",
       "    </tr>\n",
       "    <tr>\n",
       "      <th>4</th>\n",
       "      <td>Kapla is a construction set for children and a...</td>\n",
       "      <td>4</td>\n",
       "      <td>History Assembly Varieties References</td>\n",
       "    </tr>\n",
       "    <tr>\n",
       "      <th>...</th>\n",
       "      <td>...</td>\n",
       "      <td>...</td>\n",
       "      <td>...</td>\n",
       "    </tr>\n",
       "    <tr>\n",
       "      <th>155</th>\n",
       "      <td>Memphis Air Route Traffic Control Center (ZME)...</td>\n",
       "      <td>0</td>\n",
       "      <td>References</td>\n",
       "    </tr>\n",
       "    <tr>\n",
       "      <th>156</th>\n",
       "      <td>Al-Haj Suliman Yari (19 August 1936 – 10 May 2...</td>\n",
       "      <td>10</td>\n",
       "      <td>References</td>\n",
       "    </tr>\n",
       "    <tr>\n",
       "      <th>157</th>\n",
       "      <td>Sapphire Stagg is a fictional character appear...</td>\n",
       "      <td>6</td>\n",
       "      <td>References</td>\n",
       "    </tr>\n",
       "    <tr>\n",
       "      <th>158</th>\n",
       "      <td>Relocation of professional sports teams occurs...</td>\n",
       "      <td>11</td>\n",
       "      <td>Baseball Basketball References</td>\n",
       "    </tr>\n",
       "    <tr>\n",
       "      <th>159</th>\n",
       "      <td>In aerodynamics, pitch-up is an uncommanded no...</td>\n",
       "      <td>4</td>\n",
       "      <td>History Description Mitigation Bibliography</td>\n",
       "    </tr>\n",
       "  </tbody>\n",
       "</table>\n",
       "<p>160 rows × 3 columns</p>\n",
       "</div>"
      ],
      "text/plain": [
       "                                                  text  label  \\\n",
       "0    The Cardiff Roller Collective (CRoC) are a rol...     11   \n",
       "1    \"Go! Pack Go!\" is the fight song of the Green ...     11   \n",
       "2    Al-Machriq (English translation: The East) was...     14   \n",
       "3    Ajman International Airport (Arabic: مطار عجما...      0   \n",
       "4    Kapla is a construction set for children and a...      4   \n",
       "..                                                 ...    ...   \n",
       "155  Memphis Air Route Traffic Control Center (ZME)...      0   \n",
       "156  Al-Haj Suliman Yari (19 August 1936 – 10 May 2...     10   \n",
       "157  Sapphire Stagg is a fictional character appear...      6   \n",
       "158  Relocation of professional sports teams occurs...     11   \n",
       "159  In aerodynamics, pitch-up is an uncommanded no...      4   \n",
       "\n",
       "                                               headers  \n",
       "0                                           References  \n",
       "1                                           References  \n",
       "2                              Bibliography References  \n",
       "3    Location History Operations Facilities Regulat...  \n",
       "4                History Assembly Varieties References  \n",
       "..                                                 ...  \n",
       "155                                         References  \n",
       "156                                         References  \n",
       "157                                         References  \n",
       "158                     Baseball Basketball References  \n",
       "159        History Description Mitigation Bibliography  \n",
       "\n",
       "[160 rows x 3 columns]"
      ]
     },
     "execution_count": 3,
     "metadata": {},
     "output_type": "execute_result"
    }
   ],
   "source": [
    "import re\n",
    "def get_headers(text):\n",
    "    headers = re.findall(r'=+ (\\w+) =+',text)\n",
    "    return \" \".join(headers)\n",
    "\n",
    "headers = df[\"text\"].apply(get_headers)\n",
    "h = pd.Series(headers,name=\"headers\")\n",
    "hdf = pd.concat([df,h],axis = 1)\n",
    "hdf"
   ]
  },
  {
   "cell_type": "markdown",
   "metadata": {},
   "source": [
    "**Exercise 3** \n",
    "\n",
    "* How many articles are there ? Use the dataframe shape attribute which outputs the shape (nb of rows and columns) of a dataframe."
   ]
  },
  {
   "cell_type": "code",
   "execution_count": 4,
   "metadata": {},
   "outputs": [
    {
     "data": {
      "text/plain": [
       "(160, 2)"
      ]
     },
     "execution_count": 4,
     "metadata": {},
     "output_type": "execute_result"
    }
   ],
   "source": [
    "df.shape"
   ]
  },
  {
   "cell_type": "markdown",
   "metadata": {},
   "source": [
    "**Exercise 4** \n",
    "\n",
    "* How many labels (categories) are there ?\n",
    "* Use numpy unique method (cf. numpy CS)"
   ]
  },
  {
   "cell_type": "code",
   "execution_count": 5,
   "metadata": {},
   "outputs": [],
   "source": [
    "import numpy as np\n",
    "nb_categories = np.unique(df[\"label\"]).shape[0]"
   ]
  },
  {
   "cell_type": "code",
   "execution_count": 6,
   "metadata": {},
   "outputs": [
    {
     "name": "stdout",
     "output_type": "stream",
     "text": [
      "There are 16 categories\n"
     ]
    }
   ],
   "source": [
    "print(\"There are \"+str(nb_categories)+\" categories\")"
   ]
  },
  {
   "cell_type": "markdown",
   "metadata": {},
   "source": [
    "**Exercise 5** \n",
    "\n",
    "* How many articles per category ?\n",
    "* Use pandas 'groupby' and 'size' methods (cf. Pandas CS)"
   ]
  },
  {
   "cell_type": "code",
   "execution_count": 7,
   "metadata": {},
   "outputs": [
    {
     "name": "stdout",
     "output_type": "stream",
     "text": [
      "label\n",
      "0     10\n",
      "1     10\n",
      "2     10\n",
      "3     10\n",
      "4     10\n",
      "5     10\n",
      "6     10\n",
      "7     10\n",
      "8     10\n",
      "9     10\n",
      "10    10\n",
      "11    10\n",
      "12    10\n",
      "13    10\n",
      "14    10\n",
      "15    10\n",
      "dtype: int64\n"
     ]
    }
   ],
   "source": [
    "# size of each group\n",
    "print(df.groupby('label').size())"
   ]
  },
  {
   "cell_type": "markdown",
   "metadata": {},
   "source": [
    "**Exercise 6** \n",
    "\n",
    "* Don't forget to shuffle the data (Cf. pandas CS)"
   ]
  },
  {
   "cell_type": "code",
   "execution_count": 8,
   "metadata": {},
   "outputs": [],
   "source": [
    "from sklearn.utils import shuffle\n",
    "df = shuffle(df)"
   ]
  },
  {
   "cell_type": "markdown",
   "metadata": {},
   "source": [
    "## Vectorizing the input texts\n",
    "\n",
    "$Y$ = the categories (Astronaut, etc.) we are aiming to rediscover. These are **not** used for clustering but they will be used for evaluation\n",
    "\n",
    "$X$ = the features used for clustering. The features of Wikipedia article is the list of tokens contained in that item. We hope that words can help group the articles into 16 clusters matching the Wikipedia categories.\n"
   ]
  },
  {
   "cell_type": "code",
   "execution_count": 9,
   "metadata": {},
   "outputs": [
    {
     "data": {
      "text/plain": [
       "0    The Cardiff Roller Collective (CRoC) are a rol...\n",
       "1    \"Go! Pack Go!\" is the fight song of the Green ...\n",
       "2    Al-Machriq (English translation: The East) was...\n",
       "3    Ajman International Airport (Arabic: مطار عجما...\n",
       "4    Kapla is a construction set for children and a...\n",
       "Name: text, dtype: object"
      ]
     },
     "execution_count": 9,
     "metadata": {},
     "output_type": "execute_result"
    }
   ],
   "source": [
    "# Defining X and Y\n",
    "X = hdf['text']\n",
    "Y = hdf['label']\n",
    "X.head()"
   ]
  },
  {
   "cell_type": "markdown",
   "metadata": {},
   "source": [
    "**Exercise 7** \n",
    "\n",
    "* Vectorize the input (X)\n",
    "* Use sklearn [TfidfVectorizer]( https://scikit-learn.org/stable/modules/generated/sklearn.feature_extraction.text.TfidfVectorizer.html) method to turn the Wikipedia articles into a TF-IDF matrix where each row represents a news item, the columns are tokens and the cell contains the tf-idf score of each token.\n",
    "\n",
    "Three steps\n",
    "* Import the TfidfVectorizer method from sklearn\n",
    "* Create a tf-idf vectorizer. The maximum nb of features should be set to 500. Set use_idf to True and stop_words to \"english\".\n",
    "* Apply the tfidf_vectorizer.fit_transform method to X to vectorize all input texts"
   ]
  },
  {
   "cell_type": "code",
   "execution_count": 10,
   "metadata": {},
   "outputs": [
    {
     "name": "stdout",
     "output_type": "stream",
     "text": [
      "Requirement already satisfied: nltk in /usr/local/lib/python3.11/site-packages (3.8.1)\n",
      "Requirement already satisfied: click in /usr/local/lib/python3.11/site-packages (from nltk) (7.1.2)\n",
      "Requirement already satisfied: joblib in /usr/local/lib/python3.11/site-packages (from nltk) (1.2.0)\n",
      "Requirement already satisfied: regex>=2021.8.3 in /usr/local/lib/python3.11/site-packages (from nltk) (2023.3.23)\n",
      "Requirement already satisfied: tqdm in /usr/local/lib/python3.11/site-packages (from nltk) (4.65.0)\n",
      "Note: you may need to restart the kernel to use updated packages.\n"
     ]
    }
   ],
   "source": [
    "pip install nltk"
   ]
  },
  {
   "cell_type": "code",
   "execution_count": 11,
   "metadata": {},
   "outputs": [],
   "source": [
    "import numpy as np\n",
    "from sklearn.cluster import MiniBatchKMeans\n",
    "from sklearn.feature_extraction.text import TfidfVectorizer\n",
    "from sklearn.decomposition import PCA\n",
    "import matplotlib.pyplot as plt\n",
    "import nltk\n",
    "from nltk import word_tokenize\n",
    "from nltk.corpus import stopwords\n",
    "\n",
    "# Using TFIDF vectorizer to convert convert words to Vector Space\n",
    "tfidf_vectorizer = TfidfVectorizer(max_features=500,\n",
    "                                       use_idf=True,\n",
    "                                       stop_words='english')\n",
    "                                       #tokenizer=nltk.word_tokenize)\n",
    "#                                       ngram_range=(1, 2))\n",
    "\n",
    "# Fit the vectorizer to text data\n",
    "tfidf_matrix = tfidf_vectorizer.fit_transform(X)\n"
   ]
  },
  {
   "cell_type": "markdown",
   "metadata": {},
   "source": [
    "**Exercise 8** \n",
    "\n",
    "* Print out the features created by the vectorizer (use the get_feature_names() method)."
   ]
  },
  {
   "cell_type": "code",
   "execution_count": 13,
   "metadata": {},
   "outputs": [
    {
     "name": "stdout",
     "output_type": "stream",
     "text": [
      "['000' '10' '100' '11' '12' '13' '14' '15' '16' '17' '18' '19' '20' '2000'\n",
      " '2001' '2003' '2004' '2005' '2006' '2007' '2008' '2009' '2010' '2011'\n",
      " '2012' '2013' '2014' '2015' '2017' '2018' '2019' '21' '22' '24' '30'\n",
      " '500' 'according' 'act' 'activities' 'africa' 'african' 'age' 'air'\n",
      " 'aircraft' 'airlines' 'airport' 'airports' 'airspace' 'ajman' 'al'\n",
      " 'aldrin' 'america' 'american' 'anti' 'apollo' 'appeared' 'appears'\n",
      " 'april' 'arab' 'arabic' 'area' 'areas' 'army' 'art' 'associated'\n",
      " 'association' 'astronaut' 'atmospheric' 'attack' 'attacks' 'august'\n",
      " 'authority' 'avengers' 'aviation' 'award' 'away' 'base' 'based' 'beacon'\n",
      " 'began' 'believed' 'best' 'board' 'body' 'born' 'bread' 'britain'\n",
      " 'british' 'building' 'built' 'burial' 'bus' 'business' 'california'\n",
      " 'called' 'canada' 'cannonball' 'captain' 'career' 'caste' 'castes'\n",
      " 'cement' 'cemetery' 'center' 'central' 'centre' 'century' 'certain'\n",
      " 'channel' 'character' 'check' 'chief' 'children' 'china' 'chinese' 'city'\n",
      " 'class' 'club' 'coast' 'college' 'come' 'common' 'community' 'companies'\n",
      " 'company' 'complete' 'considered' 'construction' 'control' 'controlled'\n",
      " 'council' 'countries' 'country' 'court' 'coverage' 'crab' 'created'\n",
      " 'crew' 'cup' 'day' 'days' 'death' 'december' 'dedicated' 'degree'\n",
      " 'design' 'designed' 'developed' 'development' 'dibny' 'did' 'different'\n",
      " 'director' 'documentary' 'does' 'earlier' 'early' 'earth' 'east'\n",
      " 'education' 'effect' 'elongated' 'emirates' 'en' 'end' 'engineering'\n",
      " 'england' 'english' 'established' 'ethnic' 'event' 'events' 'eventually'\n",
      " 'example' 'external' 'family' 'father' 'fauré' 'february' 'feet'\n",
      " 'festival' 'field' 'film' 'final' 'flight' 'flights' 'flying' 'followed'\n",
      " 'following' 'football' 'force' 'forces' 'form' 'formed' 'founded' 'free'\n",
      " 'future' 'game' 'games' 'gemini' 'general' 'generally' 'german' 'given'\n",
      " 'gold' 'government' 'great' 'green' 'ground' 'group' 'groups' 'hand'\n",
      " 'having' 'head' 'held' 'help' 'high' 'history' 'hogarth' 'home' 'hotel'\n",
      " 'hours' 'house' 'human' 'important' 'include' 'included' 'including'\n",
      " 'influence' 'information' 'international' 'involved' 'isbn' 'israel'\n",
      " 'israeli' 'january' 'japan' 'japanese' 'jazeera' 'john' 'july' 'june'\n",
      " 'just' 'kami' 'killed' 'king' 'kingdom' 'km' 'known' 'landing' 'large'\n",
      " 'late' 'later' 'law' 'league' 'leather' 'led' 'lee' 'left' 'level' 'life'\n",
      " 'light' 'like' 'limited' 'lin' 'line' 'links' 'list' 'little' 'live'\n",
      " 'living' 'local' 'located' 'location' 'london' 'long' 'lunar' 'main'\n",
      " 'major' 'make' 'making' 'man' 'march' 'mass' 'medal' 'media' 'member'\n",
      " 'members' 'men' 'merlin' 'mi' 'middle' 'military' 'million' 'minor'\n",
      " 'minutes' 'mission' 'modern' 'moon' 'moved' 'music' 'mutant' 'mutants'\n",
      " 'named' 'nasa' 'national' 'natural' 'nature' 'near' 'nebula' 'network'\n",
      " 'new' 'news' 'newspaper' 'nocturne' 'non' 'north' 'november' 'number'\n",
      " 'observed' 'october' 'office' 'official' 'ohio' 'old' 'olympic' 'op'\n",
      " 'open' 'opened' 'opening' 'operation' 'operations' 'order' 'organization'\n",
      " 'original' 'originally' 'outside' 'paper' 'park' 'party' 'passenger'\n",
      " 'passengers' 'people' 'performed' 'period' 'person' 'piano' 'piece'\n",
      " 'pieces' 'pierce' 'pilot' 'pilots' 'pitch' 'place' 'placed' 'play'\n",
      " 'played' 'point' 'police' 'political' 'popular' 'position' 'post' 'power'\n",
      " 'powers' 'president' 'press' 'priests' 'prior' 'private' 'process'\n",
      " 'professor' 'program' 'programs' 'project' 'provide' 'public' 'published'\n",
      " 'pulsar' 'qatar' 'ralph' 'ray' 'red' 'references' 'region' 'related'\n",
      " 'religion' 'religious' 'remains' 'renacci' 'reported' 'required'\n",
      " 'research' 'restricted' 'return' 'round' 'route' 'runaways' 'russian'\n",
      " 'said' 'sam' 'saturnyne' 'school' 'science' 'sea' 'season' 'second'\n",
      " 'section' 'security' 'seen' 'september' 'series' 'served' 'service'\n",
      " 'services' 'set' 'shinto' 'shrine' 'shrines' 'shuttle' 'similar' 'single'\n",
      " 'site' 'sky' 'slaves' 'small' 'social' 'society' 'son' 'south' 'space'\n",
      " 'special' 'sports' 'st' 'stadium' 'star' 'stars' 'started' 'state'\n",
      " 'stated' 'states' 'stohlman' 'story' 'strata' 'street' 'students'\n",
      " 'studies' 'style' 'supernova' 'support' 'surface' 'taken' 'taking' 'team'\n",
      " 'technology' 'term' 'test' 'theatre' 'theme' 'time' 'times' 'title'\n",
      " 'took' 'town' 'traffic' 'training' 'uk' 'united' 'university' 'use'\n",
      " 'used' 'using' 'usually' 'various' 'version' 'vfr' 'victor' 'war'\n",
      " 'washington' 'water' 'way' 'website' 'west' 'western' 'white' 'william'\n",
      " 'wing' 'women' 'won' 'work' 'worked' 'working' 'works' 'world' 'written'\n",
      " 'wrote' 'year' 'years' 'york' 'young']\n"
     ]
    }
   ],
   "source": [
    "features = tfidf_vectorizer.get_feature_names_out()\n",
    "print(features)"
   ]
  },
  {
   "cell_type": "markdown",
   "metadata": {},
   "source": [
    "##  Training a K-means clustering model"
   ]
  },
  {
   "cell_type": "markdown",
   "metadata": {},
   "source": [
    "**Exercise 9**\n",
    "\n",
    "* Create a K-means object (import KMeans from sklearn.cluster). \n",
    "* Set the number of clusters to 16\n",
    "* Train this object on the tf-idf matrix you created from the data (use the kmeans fit method)"
   ]
  },
  {
   "cell_type": "code",
   "execution_count": 14,
   "metadata": {},
   "outputs": [],
   "source": [
    "from sklearn.cluster import KMeans\n",
    "\n",
    "# Kmeans++\n",
    "km = KMeans(n_clusters=16, init='k-means++', max_iter=300, n_init=5, verbose=0, random_state=3425)\n",
    "km.fit(tfidf_matrix)\n",
    "# cluster assignement (list showing the cluster assigned to each instance)\n",
    "predicted_labels = km.labels_\n",
    "clusters = predicted_labels.tolist()"
   ]
  },
  {
   "cell_type": "code",
   "execution_count": 15,
   "metadata": {},
   "outputs": [
    {
     "name": "stdout",
     "output_type": "stream",
     "text": [
      "[ 3  3  7  0 11  1  1 14 11  9]\n"
     ]
    }
   ],
   "source": [
    "print(predicted_labels[0:10])"
   ]
  },
  {
   "cell_type": "markdown",
   "metadata": {},
   "source": [
    "## Inspecting Clustering Results"
   ]
  },
  {
   "cell_type": "markdown",
   "metadata": {},
   "source": [
    "**Exercise 10** \n",
    "\n",
    "* Create a dataframe aligning the clustering results with the news items and their category\n",
    "* The dataframe should contains 3 columns with headers \"Text\", \"Category\" and \"Cluster\"\n",
    "* Extract the texts and labels from the dataframe you created from the wikipedia files\n",
    "* Extract the list of cluster labels produced for each input text by the clustering algorithm (km.labels_)\n",
    "* Create the required dataframe using these information "
   ]
  },
  {
   "cell_type": "code",
   "execution_count": 24,
   "metadata": {},
   "outputs": [
    {
     "ename": "KeyError",
     "evalue": "'text'",
     "output_type": "error",
     "traceback": [
      "\u001b[0;31m---------------------------------------------------------------------------\u001b[0m",
      "\u001b[0;31mKeyError\u001b[0m                                  Traceback (most recent call last)",
      "File \u001b[0;32m/usr/local/lib/python3.11/site-packages/pandas/core/indexes/base.py:3802\u001b[0m, in \u001b[0;36mIndex.get_loc\u001b[0;34m(self, key, method, tolerance)\u001b[0m\n\u001b[1;32m   3801\u001b[0m \u001b[38;5;28;01mtry\u001b[39;00m:\n\u001b[0;32m-> 3802\u001b[0m     \u001b[38;5;28;01mreturn\u001b[39;00m \u001b[38;5;28;43mself\u001b[39;49m\u001b[38;5;241;43m.\u001b[39;49m\u001b[43m_engine\u001b[49m\u001b[38;5;241;43m.\u001b[39;49m\u001b[43mget_loc\u001b[49m\u001b[43m(\u001b[49m\u001b[43mcasted_key\u001b[49m\u001b[43m)\u001b[49m\n\u001b[1;32m   3803\u001b[0m \u001b[38;5;28;01mexcept\u001b[39;00m \u001b[38;5;167;01mKeyError\u001b[39;00m \u001b[38;5;28;01mas\u001b[39;00m err:\n",
      "File \u001b[0;32m/usr/local/lib/python3.11/site-packages/pandas/_libs/index.pyx:138\u001b[0m, in \u001b[0;36mpandas._libs.index.IndexEngine.get_loc\u001b[0;34m()\u001b[0m\n",
      "File \u001b[0;32m/usr/local/lib/python3.11/site-packages/pandas/_libs/index.pyx:165\u001b[0m, in \u001b[0;36mpandas._libs.index.IndexEngine.get_loc\u001b[0;34m()\u001b[0m\n",
      "File \u001b[0;32mpandas/_libs/hashtable_class_helper.pxi:5745\u001b[0m, in \u001b[0;36mpandas._libs.hashtable.PyObjectHashTable.get_item\u001b[0;34m()\u001b[0m\n",
      "File \u001b[0;32mpandas/_libs/hashtable_class_helper.pxi:5753\u001b[0m, in \u001b[0;36mpandas._libs.hashtable.PyObjectHashTable.get_item\u001b[0;34m()\u001b[0m\n",
      "\u001b[0;31mKeyError\u001b[0m: 'text'",
      "\nThe above exception was the direct cause of the following exception:\n",
      "\u001b[0;31mKeyError\u001b[0m                                  Traceback (most recent call last)",
      "Cell \u001b[0;32mIn[24], line 2\u001b[0m\n\u001b[1;32m      1\u001b[0m \u001b[38;5;66;03m# Print out id, title, category and cluster assignment\u001b[39;00m\n\u001b[0;32m----> 2\u001b[0m texts \u001b[38;5;241m=\u001b[39m \u001b[43mdf\u001b[49m\u001b[43m[\u001b[49m\u001b[38;5;124;43m'\u001b[39;49m\u001b[38;5;124;43mtext\u001b[39;49m\u001b[38;5;124;43m'\u001b[39;49m\u001b[43m]\u001b[49m\u001b[38;5;241m.\u001b[39mvalues\n\u001b[1;32m      3\u001b[0m labels \u001b[38;5;241m=\u001b[39m df[\u001b[38;5;124m'\u001b[39m\u001b[38;5;124mlabel\u001b[39m\u001b[38;5;124m'\u001b[39m]\u001b[38;5;241m.\u001b[39mvalues\n\u001b[1;32m      5\u001b[0m data \u001b[38;5;241m=\u001b[39m {\u001b[38;5;124m'\u001b[39m\u001b[38;5;124mtext\u001b[39m\u001b[38;5;124m'\u001b[39m:texts,\u001b[38;5;124m'\u001b[39m\u001b[38;5;124mlabel\u001b[39m\u001b[38;5;124m'\u001b[39m:labels,\u001b[38;5;124m'\u001b[39m\u001b[38;5;124mcluster\u001b[39m\u001b[38;5;124m'\u001b[39m:clusters}\n",
      "File \u001b[0;32m/usr/local/lib/python3.11/site-packages/pandas/core/frame.py:3807\u001b[0m, in \u001b[0;36mDataFrame.__getitem__\u001b[0;34m(self, key)\u001b[0m\n\u001b[1;32m   3805\u001b[0m \u001b[38;5;28;01mif\u001b[39;00m \u001b[38;5;28mself\u001b[39m\u001b[38;5;241m.\u001b[39mcolumns\u001b[38;5;241m.\u001b[39mnlevels \u001b[38;5;241m>\u001b[39m \u001b[38;5;241m1\u001b[39m:\n\u001b[1;32m   3806\u001b[0m     \u001b[38;5;28;01mreturn\u001b[39;00m \u001b[38;5;28mself\u001b[39m\u001b[38;5;241m.\u001b[39m_getitem_multilevel(key)\n\u001b[0;32m-> 3807\u001b[0m indexer \u001b[38;5;241m=\u001b[39m \u001b[38;5;28;43mself\u001b[39;49m\u001b[38;5;241;43m.\u001b[39;49m\u001b[43mcolumns\u001b[49m\u001b[38;5;241;43m.\u001b[39;49m\u001b[43mget_loc\u001b[49m\u001b[43m(\u001b[49m\u001b[43mkey\u001b[49m\u001b[43m)\u001b[49m\n\u001b[1;32m   3808\u001b[0m \u001b[38;5;28;01mif\u001b[39;00m is_integer(indexer):\n\u001b[1;32m   3809\u001b[0m     indexer \u001b[38;5;241m=\u001b[39m [indexer]\n",
      "File \u001b[0;32m/usr/local/lib/python3.11/site-packages/pandas/core/indexes/base.py:3804\u001b[0m, in \u001b[0;36mIndex.get_loc\u001b[0;34m(self, key, method, tolerance)\u001b[0m\n\u001b[1;32m   3802\u001b[0m     \u001b[38;5;28;01mreturn\u001b[39;00m \u001b[38;5;28mself\u001b[39m\u001b[38;5;241m.\u001b[39m_engine\u001b[38;5;241m.\u001b[39mget_loc(casted_key)\n\u001b[1;32m   3803\u001b[0m \u001b[38;5;28;01mexcept\u001b[39;00m \u001b[38;5;167;01mKeyError\u001b[39;00m \u001b[38;5;28;01mas\u001b[39;00m err:\n\u001b[0;32m-> 3804\u001b[0m     \u001b[38;5;28;01mraise\u001b[39;00m \u001b[38;5;167;01mKeyError\u001b[39;00m(key) \u001b[38;5;28;01mfrom\u001b[39;00m \u001b[38;5;21;01merr\u001b[39;00m\n\u001b[1;32m   3805\u001b[0m \u001b[38;5;28;01mexcept\u001b[39;00m \u001b[38;5;167;01mTypeError\u001b[39;00m:\n\u001b[1;32m   3806\u001b[0m     \u001b[38;5;66;03m# If we have a listlike key, _check_indexing_error will raise\u001b[39;00m\n\u001b[1;32m   3807\u001b[0m     \u001b[38;5;66;03m#  InvalidIndexError. Otherwise we fall through and re-raise\u001b[39;00m\n\u001b[1;32m   3808\u001b[0m     \u001b[38;5;66;03m#  the TypeError.\u001b[39;00m\n\u001b[1;32m   3809\u001b[0m     \u001b[38;5;28mself\u001b[39m\u001b[38;5;241m.\u001b[39m_check_indexing_error(key)\n",
      "\u001b[0;31mKeyError\u001b[0m: 'text'"
     ]
    }
   ],
   "source": [
    "# Print out id, title, category and cluster assignment\n",
    "texts = df['text'].values\n",
    "labels = df['label'].values\n",
    "\n",
    "data = {'text':texts,'label':labels,'cluster':clusters}\n",
    "df = pd.DataFrame(data,columns=['text','label','cluster'])\n",
    "df"
   ]
  },
  {
   "cell_type": "markdown",
   "metadata": {},
   "source": [
    "**Exercise 11** \n",
    "\n",
    "* Print out the number of items per clusters\n",
    "* use pandas value_counts() method"
   ]
  },
  {
   "cell_type": "code",
   "execution_count": 17,
   "metadata": {},
   "outputs": [
    {
     "data": {
      "text/plain": [
       "8     18\n",
       "14    17\n",
       "7     16\n",
       "1     16\n",
       "2     11\n",
       "6     11\n",
       "4     11\n",
       "11    10\n",
       "9      8\n",
       "15     8\n",
       "3      7\n",
       "13     7\n",
       "10     7\n",
       "0      6\n",
       "5      4\n",
       "12     3\n",
       "Name: cluster, dtype: int64"
      ]
     },
     "execution_count": 17,
     "metadata": {},
     "output_type": "execute_result"
    }
   ],
   "source": [
    "# Print out number of items per clusters\n",
    "df['cluster'].value_counts()"
   ]
  },
  {
   "cell_type": "markdown",
   "metadata": {},
   "source": [
    "**Exercise 12** \n",
    "\n",
    "* Evaluate the clusters\n",
    "* Import metrics from sklearns and compute homogeneity, completeness, v_measure, adjusted rand index and silhouette coefficient\n",
    "* Print each score out"
   ]
  },
  {
   "cell_type": "code",
   "execution_count": 18,
   "metadata": {},
   "outputs": [
    {
     "name": "stdout",
     "output_type": "stream",
     "text": [
      "[ 3  5  4  1 14 15 10 10  0  6 15 10  0 15  4  5  2  4 12  1  0  9  7  9\n",
      " 15 10  8 10 11  9 10  8 15  5  8  6  3 11  0  8  7  1  1 11  4  6  8 11\n",
      " 12 12  6 10 14 10  7  3  4 13  5  1 12  4  2 13  9  4 11  3 11  9  8  8\n",
      "  5  6  4  2  2  6  2 11  9  5  0  1  0 13 14  8 13 14 15  2  5 14  0 14\n",
      "  3  7  3 12  1 14  7  9  1 10 10 13  3 12  8  1  6  7  6  0  9 11  2  1\n",
      " 13 14  8 15 15  0 13  4  3  6  2 14  2  5  5  7 13  5  6 12  7  3  7  9\n",
      " 13  2  9 15  3 12 15  4 11 12 12  7 13 11 14  0]\n",
      "[ 3  3  7  0 11  1  1 14 11  9  2 11  6  2  3  1 14  7  9 14 14 15 15  1\n",
      " 13 13  2  8 12  9  7  6 15 14  8 10 14 11  7  9  4  6 14  7  3  2  6  6\n",
      "  3 11 15  1 14  7  5  5 10  1  0  4 11  4  8 11  2  7  5  9  2 14  8 14\n",
      "  1  2 14 15  8  4  4 12  7  7  6  8  6  1 10 15 10  0  7  7 14 14 10 11\n",
      "  8 14  8  8  9  5  4 12  2  1 13 15  4  7 14  0  4  2 11  1  0  1  9  3\n",
      "  8 13  4  1  7  8  0 13  6  8  8  1  8  2  6  6  8 14  8  1  7 10 10  6\n",
      "  8  7  7 13 15  9  4  8 11 13  1  2  1 14  3  4]\n",
      "Homogeneity: 0.277\n",
      "Completeness: 0.288\n",
      "V-measure: 0.282\n",
      "Adjusted Rand-Index: 0.003\n",
      "Silhouette Coefficient: 0.072\n",
      "\n"
     ]
    }
   ],
   "source": [
    "# Evaluate the clusters\n",
    "from sklearn import metrics\n",
    "print( labels)\n",
    "print( km.labels_)\n",
    "\n",
    "print(\"Homogeneity: %0.3f\" % metrics.homogeneity_score(labels, km.labels_))\n",
    "print(\"Completeness: %0.3f\" % metrics.completeness_score(labels, km.labels_))\n",
    "print(\"V-measure: %0.3f\" % metrics.v_measure_score(labels, km.labels_))\n",
    "print(\"Adjusted Rand-Index: %.3f\"\n",
    "      % metrics.adjusted_rand_score(labels, km.labels_))\n",
    "print(\"Silhouette Coefficient: %0.3f\"\n",
    "      % metrics.silhouette_score(tfidf_matrix, km.labels_, sample_size=1000))\n",
    "\n",
    "print()"
   ]
  },
  {
   "cell_type": "markdown",
   "metadata": {},
   "source": [
    "**Exercise 13**  \n",
    "\n",
    "* Print out the top 50 words of each cluster "
   ]
  },
  {
   "cell_type": "code",
   "execution_count": 20,
   "metadata": {},
   "outputs": [
    {
     "name": "stdout",
     "output_type": "stream",
     "text": [
      "Top terms per cluster:\n",
      "Cluster 0: airport airports check passengers security ajman bus international airlines authority passenger services emirates service shuttle main aviation flights flight united company police aircraft air construction usually new arab area outside route people companies process private provide government business public attacks israeli use time class development required country set al limited website used project office formed 30 city canada state million using head washington january example space official traffic great point states links non include hours program park opening israel restricted operations london including certain town external control large located operation special number 24 dedicated near september ray national long field\n",
      "\n",
      "Cluster 1: member party served son political 2012 2013 march russian home august renacci years april chief army people november event references state known king members list held january later 2015 central 2007 national war university family killed 2006 death set american life security 2011 council said july aviation international june moved 2001 general 22 led engineering 19 external links late 13 air according born 16 worked light line city time region career group force house great al media december having head states education studies college took film year president complete involved united term ohio left law police new reported 2004 earlier\n",
      "\n",
      "Cluster 2: college university students education technology school center al programs training st studies research work israel traffic program science built professor control route german external links official works members references located engineering air established important aircraft including website qatar list 2014 business degree state large government 21 design groups community career art project areas flight order united states 2009 complete war special different private high use founded development developed day public december main dedicated based sports women took 000 series president 2017 centre 2010 country building international 2008 history activities november world years period second involved cemetery construction published flying flights\n",
      "\n",
      "Cluster 3: league club football stadium played games team founded moved season game 2011 university home national sports 2009 gold 2010 green cup based version level field centre year play women park state complete line training op ground 2012 original official site references time 16 town end list association middle lee groups kingdom outside major american 2000 october coast 2004 members said originally people late set near new city united music 2005 south 2007 group 000 2014 14 written following 2003 single 2019 point college 19 2015 development links september external history series restricted north developed high china established 2006 age website\n",
      "\n",
      "Cluster 4: wing aircraft area airspace surface body victor anti force pitch air use process example areas red head formed used hours class term control runaways attack required called left vfr effect time japan references flight pilot attacks law modern days period early known number developed 100 like form point pieces region make restricted controlled paper feet high water life section route place avengers working operations did traffic nasa provide pilots forces common piece based center construction activities long associated having stated states considered ground external family given british moved outside airport century location landing including gold en generally test california operation\n",
      "\n",
      "Cluster 5: located court shrine sky created region considered references main used centre external links western high east large 2000 science developed information service field home related km al 10 national west central known space end example events eventually england english engineering en emirates established earth elongated effect event education ethnic young early earlier control controlled council countries country coverage crab crew cup day days death december dedicated degree design designed father development dibny did different director documentary does family flight fauré important groups hand having head held help history hogarth hotel hours house human include february included including influence international involved\n",
      "\n",
      "Cluster 6: space mission nasa astronaut air flight medal force crew aldrin shuttle july german program university flying sea pilot engineering award service science training research school isbn hours association board people california served years washington 13 born team minutes observed russian august organization chinese degree june international professor order second ground director state base president february 12 2019 used different 2008 countries earth coast january states september 24 december days united general american october feet based 10 22 time forces national 2010 000 worked april named external held military year 2005 china use career links near technology apollo 17 project 21\n",
      "\n",
      "Cluster 7: al newspaper published arabic paper building hotel stohlman arab government important references history press based chief party leather official appears links 2011 external december series january following members organization international founded russian community university established created works july english appeared religion head 2012 media character family century november art work office day president apollo included august march influence 000 east june time complete cemetery april forces site aviation later related american council 2013 website north companies 500 mission october director working aircraft point free israel 2015 channel world hand political award religious national events popular 2000 center board private london\n",
      "\n",
      "Cluster 8: company won olympic london new companies world cup team hogarth african times time lin east fauré board gold john best york green association king stars year cannonball final title games africa western limited film external red links season english sam references german council city men club work public served war members family isbn act second born country william england career medal years member period group father june children 17 called written million director later water used taken states american based held piano 2009 op british following december given national did mutants influence left open age history started works press known\n",
      "\n",
      "Cluster 9: japanese career test 2003 external links world 2000 shinto japan born march kami russian october 2001 later 16 international shrines music university late taking west took won played series 20 english king open long england year information 18 position work development art following works class times second main 10 title 30 shrine number taken 2006 hours 2004 formed years isbn june round 2007 like include old live school religion time outside festival period best 2010 22 general published 2005 just followed professor references major list appeared season president usually priests example 11 high national john november including small groups state\n",
      "\n",
      "Cluster 10: jazeera al channel festival network news media effect arabic november 2005 qatar documentary 24 arab website official coverage 2006 version said government english different list live service uk april united film references international information make held war israel political new states countries originally office 2017 organization similar music events israeli place court press theme way world based section 2019 2018 game president external links included british works published called main middle 2015 story according year 2003 original act groups kingdom anti public country general 18 2011 western house white taking did east attack used 2014 history forces seen open william\n",
      "\n",
      "Cluster 11: bread pieces building used art shrine make street known construction use city project children style references form site design little isbn external links small single created way list called army using women old american time website left ground 15 local popular special world minutes region led uk 2018 different held started western times january united place large people named born new placed help original states history religious 30 south served official ray york worked seen associated early 2006 march years english performed international designed japanese main making day late members included science october forces come end complete person number certain\n",
      "\n",
      "Cluster 12: cement burial natural high cemetery effect surface order used form making reported water green including ground use process china make major paper using required does test 14 free generally engineering complete attack white long formed canada hours seen art considered 20 state example days 24 large body known william al society organization park located sea uk british council set century north remains certain called death number nature modern established early various references involved new placed states given single people different technology human earth section sky united areas provide site like later ohio non originally feet near history south space project\n",
      "\n",
      "Cluster 13: nebula star mass crab years john sky related media observed stars supernova ray old external earth small 12 located light links away white pulsar million western required open references centre 30 generally large 15 member red 2012 appears central 000 round 17 william region high middle position little general field nasa 13 center german considered west line news 21 time associated outside april december day moon north march group new born 2017 18 chinese 16 mi used 500 like lunar created using km believed times nature early century given known age 11 seen paper japanese second studies later remains 100\n",
      "\n",
      "Cluster 14: beacon theatre list merlin light pierce character new later britain modern saturnyne people project story early african eventually known human like sea dibny life father year man time series caste appears ralph term white age person popular powers elongated en living castes china death named live appeared references american called league using original captain young region post external version links old seen green documentary work lunar strata festival member chinese killed used hand water slaves world return usually city group example control second society kingdom late atmospheric years western limited did earth history united similar including different film make red\n",
      "\n",
      "Cluster 15: town mi region german century written history official war website army located people south born references external links city near originally march area research men member team 500 established main related media religious 24 central st festival sea include later isbn 2001 forces center chief country water 11 late 18 2018 named john founded world local 2009 east cemetery olympic major american high 12 national park education km built 2019 companies site known living early single middle according 21 centre held art level william london school attack new north university list january days october make year death place career 20\n",
      "\n"
     ]
    }
   ],
   "source": [
    "# Top terms per cluster\n",
    "print(\"Top terms per cluster:\")\n",
    "true_k = np.unique(labels).shape[0]\n",
    "order_centroids = km.cluster_centers_.argsort()[:, ::-1]\n",
    "terms = tfidf_vectorizer.get_feature_names_out()\n",
    "for i in range(true_k):\n",
    "    print(\"Cluster %d:\" % i, end='')\n",
    "    for ind in order_centroids[i, :100]:\n",
    "        print(' %s' % terms[ind], end='')\n",
    "    print('\\n')"
   ]
  },
  {
   "cell_type": "markdown",
   "metadata": {},
   "source": [
    "## Visualizing  clusters.\n",
    "\n",
    "Provided\n"
   ]
  },
  {
   "cell_type": "code",
   "execution_count": 21,
   "metadata": {},
   "outputs": [
    {
     "name": "stderr",
     "output_type": "stream",
     "text": [
      "/usr/local/lib/python3.11/site-packages/sklearn/manifold/_mds.py:299: FutureWarning: The default value of `normalized_stress` will change to `'auto'` in version 1.4. To suppress this warning, manually set the value of `normalized_stress`.\n",
      "  warnings.warn(\n"
     ]
    }
   ],
   "source": [
    "import os  # for os.path.basename\n",
    "\n",
    "import matplotlib.pyplot as plt\n",
    "import matplotlib as mpl\n",
    "from sklearn.metrics.pairwise import cosine_similarity\n",
    "from sklearn.manifold import MDS\n",
    "\n",
    "dist = 1 - cosine_similarity(tfidf_matrix)\n",
    "\n",
    "# Use multidimensional scaling to convert the dist matrix into a 2-dimensional array \n",
    "\n",
    "MDS()\n",
    "\n",
    "# n_components=2 to plot results in a two-dimensional plane\n",
    "# \"precomputed\" because the  distance matrix dist is already computed\n",
    "# `random_state` set to 1 so that the plot is reproducible.\n",
    "mds = MDS(n_components=2, dissimilarity=\"precomputed\", random_state=1)\n",
    "\n",
    "pos = mds.fit_transform(dist)  # shape (n_components, n_samples)\n",
    "\n",
    "xs, ys = pos[:, 0], pos[:, 1]"
   ]
  },
  {
   "cell_type": "code",
   "execution_count": 22,
   "metadata": {},
   "outputs": [],
   "source": [
    "#set up colors per clusters using a dict\n",
    "# #1b9e77 (green) #d95f02 (orange) #7570b3 (purple) #e7298a (pink)\n",
    "cluster_colors = {0: '#f0140c', 1: '#ad7144', 2: '#f5b92f', 3: '#e8f007', 4: '#88e014', \\\n",
    "                  5:\"#0eedb2\", 6:\"#0dafdb\", \\\n",
    "                  7:\"#1330ed\", 8:\"#9a09e8\", 9:\"#e605b1\", 10:\"#c4a29d\", 11:\"#695232\", 12:\"#f7f088\", 13:\"#7e8778\", \\\n",
    "                  14:\"#7dada2\", 15:\"#628cf5\"}\n",
    "\n",
    "#set up cluster names using a dict\n",
    "#cluster_names = {0: 'techno'}\n"
   ]
  },
  {
   "cell_type": "code",
   "execution_count": 23,
   "metadata": {},
   "outputs": [
    {
     "name": "stderr",
     "output_type": "stream",
     "text": [
      "No artists with labels found to put in legend.  Note that artists whose label start with an underscore are ignored when legend() is called with no argument.\n"
     ]
    },
    {
     "data": {
      "image/png": "[encoded data removed]",
      "text/plain": [
       "<Figure size 1700x900 with 1 Axes>"
      ]
     },
     "metadata": {},
     "output_type": "display_data"
    }
   ],
   "source": [
    "#some ipython magic to show the matplotlib plots inline\n",
    "%matplotlib inline \n",
    "\n",
    "#create data frame that has the result of the MDS plus the cluster numbers and titles\n",
    "df = pd.DataFrame(dict(x=xs, y=ys, label=clusters))\n",
    "\n",
    "#group by cluster\n",
    "groups = df.groupby('label')\n",
    "\n",
    "# set up plot\n",
    "fig, ax = plt.subplots(figsize=(17, 9)) # set size\n",
    "ax.margins(0.05) # Optional, just adds 5% padding to the autoscaling\n",
    "\n",
    "#iterate through groups to layer the plot\n",
    "#note that I use the cluster_name and cluster_color dicts with the 'name' lookup to return the appropriate color/label\n",
    "for name, group in groups:\n",
    "    ax.plot(group.x, group.y, marker='o', linestyle='', ms=12, \n",
    "        #    label=cluster_names[name], \n",
    "            color=cluster_colors[name], \n",
    "            mec='none')\n",
    "    ax.set_aspect('auto')\n",
    "    ax.tick_params(\\\n",
    "        axis= 'x',          # changes apply to the x-axis\n",
    "        which='both',      # both major and minor ticks are affected\n",
    "        bottom=False,      # ticks along the bottom edge are off\n",
    "        top=False,         # ticks along the top edge are off\n",
    "        labelbottom=False)\n",
    "    ax.tick_params(\\\n",
    "        axis= 'y',         # changes apply to the y-axis\n",
    "        which='both',      # both major and minor ticks are affected\n",
    "        left=False,      # ticks along the bottom edge are off\n",
    "        top=False,         # ticks along the top edge are off\n",
    "        labelleft=False)\n",
    "    \n",
    "ax.legend(numpoints=1)  #show legend with only 1 point\n",
    "    \n",
    "    \n",
    "plt.show() #show the plot\n"
   ]
  }
 ],
 "metadata": {
  "kernelspec": {
   "display_name": "env803",
   "language": "python",
   "name": "env803"
  },
  "language_info": {
   "codemirror_mode": {
    "name": "ipython",
    "version": 3
   },
   "file_extension": ".py",
   "mimetype": "text/x-python",
   "name": "python",
   "nbconvert_exporter": "python",
   "pygments_lexer": "ipython3",
   "version": "3.8.18"
  }
 },
 "nbformat": 4,
 "nbformat_minor": 2
}
