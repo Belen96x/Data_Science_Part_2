{
 "cells": [
  {
   "cell_type": "markdown",
   "metadata": {},
   "source": [
    "# Exercises  \"Lecture 10: Clustering\"\n",
    "\n",
    "In this set of exercises, we will use clustering to group the wikipedia articles into 16 clusters. Since we are working on clustering (unsupervised machine learning),  we will ignore the labels (the category of the article) when training. We will use them however to evaluate the trained model (intrinsic evaluation).\n",
    "\n",
    "\n",
    "The exercises cover the following points:\n",
    "\n",
    "* Storing the data into an pandas dataframe and inspecting the data\n",
    "* Learning a clustering model from the data \n",
    "* Inspecting the output clusters\n",
    "\n",
    "Data: wkp_sorted.zip      \n",
    "\n",
    "Python libraries\n",
    "- sklearn.datasets to load data \n",
    "- pandas\n",
    "- numpy unique method to remove duplicate   \n",
    "\n",
    "Cheat sheets\n",
    "- 10_CS_clustering.ipynb\n"
   ]
  },
  {
   "cell_type": "markdown",
   "metadata": {},
   "source": [
    "##  Loading the Data into a Dataframe"
   ]
  },
  {
   "cell_type": "markdown",
   "metadata": {},
   "source": [
    "**Exercise 1** \n",
    "\n",
    "* Create a pandas dataframe containing two columns one for the text and one for the category of each Wikipedia article included in  \"data/wkp_sorted/\". \n",
    "* Use sklearn.datasets load_files method (cf. **clustering CS**) "
   ]
  },
  {
   "cell_type": "code",
   "execution_count": 2,
   "metadata": {},
   "outputs": [
    {
     "data": {
      "text/html": [
       "<div>\n",
       "<style scoped>\n",
       "    .dataframe tbody tr th:only-of-type {\n",
       "        vertical-align: middle;\n",
       "    }\n",
       "\n",
       "    .dataframe tbody tr th {\n",
       "        vertical-align: top;\n",
       "    }\n",
       "\n",
       "    .dataframe thead th {\n",
       "        text-align: right;\n",
       "    }\n",
       "</style>\n",
       "<table border=\"1\" class=\"dataframe\">\n",
       "  <thead>\n",
       "    <tr style=\"text-align: right;\">\n",
       "      <th></th>\n",
       "      <th>text</th>\n",
       "      <th>label</th>\n",
       "    </tr>\n",
       "  </thead>\n",
       "  <tbody>\n",
       "    <tr>\n",
       "      <th>0</th>\n",
       "      <td>The Cardiff Roller Collective (CRoC) are a rol...</td>\n",
       "      <td>11</td>\n",
       "    </tr>\n",
       "    <tr>\n",
       "      <th>1</th>\n",
       "      <td>\"Go! Pack Go!\" is the fight song of the Green ...</td>\n",
       "      <td>11</td>\n",
       "    </tr>\n",
       "    <tr>\n",
       "      <th>2</th>\n",
       "      <td>Al-Machriq (English translation: The East) was...</td>\n",
       "      <td>14</td>\n",
       "    </tr>\n",
       "    <tr>\n",
       "      <th>3</th>\n",
       "      <td>Ajman International Airport (Arabic: مطار عجما...</td>\n",
       "      <td>0</td>\n",
       "    </tr>\n",
       "    <tr>\n",
       "      <th>4</th>\n",
       "      <td>Kapla is a construction set for children and a...</td>\n",
       "      <td>4</td>\n",
       "    </tr>\n",
       "  </tbody>\n",
       "</table>\n",
       "</div>"
      ],
      "text/plain": [
       "                                                text  label\n",
       "0  The Cardiff Roller Collective (CRoC) are a rol...     11\n",
       "1  \"Go! Pack Go!\" is the fight song of the Green ...     11\n",
       "2  Al-Machriq (English translation: The East) was...     14\n",
       "3  Ajman International Airport (Arabic: مطار عجما...      0\n",
       "4  Kapla is a construction set for children and a...      4"
      ]
     },
     "execution_count": 2,
     "metadata": {},
     "output_type": "execute_result"
    }
   ],
   "source": [
    "import pandas as pd\n",
    "from sklearn.datasets import load_files\n",
    "# Loading all files in \"dir\" directory into a pandas dataframe\n",
    "DATA_DIR = \"wkp_sorted/\"\n",
    "data = load_files(DATA_DIR, encoding=\"utf-8\", decode_error=\"replace\")\n",
    "df = pd.DataFrame({'text': data['data'], 'label': data['target']})\n",
    "df.head()"
   ]
  },
  {
   "cell_type": "code",
   "execution_count": 4,
   "metadata": {},
   "outputs": [
    {
     "data": {
      "text/plain": [
       "(160, 2)"
      ]
     },
     "execution_count": 4,
     "metadata": {},
     "output_type": "execute_result"
    }
   ],
   "source": [
    "df.shape"
   ]
  },
  {
   "cell_type": "markdown",
   "metadata": {},
   "source": [
    "**Exercise 2**  \n",
    "\n",
    "* Add a new column to your dataframe with header \"Headers\" in which you include the headers extracted from the texts\n",
    "* Use the code you developed in Exercise 3 of 10_Exercise_sheet_stats.ipynb"
   ]
  },
  {
   "cell_type": "code",
   "execution_count": 5,
   "metadata": {},
   "outputs": [
    {
     "data": {
      "text/html": [
       "<div>\n",
       "<style scoped>\n",
       "    .dataframe tbody tr th:only-of-type {\n",
       "        vertical-align: middle;\n",
       "    }\n",
       "\n",
       "    .dataframe tbody tr th {\n",
       "        vertical-align: top;\n",
       "    }\n",
       "\n",
       "    .dataframe thead th {\n",
       "        text-align: right;\n",
       "    }\n",
       "</style>\n",
       "<table border=\"1\" class=\"dataframe\">\n",
       "  <thead>\n",
       "    <tr style=\"text-align: right;\">\n",
       "      <th></th>\n",
       "      <th>text</th>\n",
       "      <th>label</th>\n",
       "      <th>headers</th>\n",
       "    </tr>\n",
       "  </thead>\n",
       "  <tbody>\n",
       "    <tr>\n",
       "      <th>0</th>\n",
       "      <td>The Cardiff Roller Collective (CRoC) are a rol...</td>\n",
       "      <td>11</td>\n",
       "      <td>References</td>\n",
       "    </tr>\n",
       "    <tr>\n",
       "      <th>1</th>\n",
       "      <td>\"Go! Pack Go!\" is the fight song of the Green ...</td>\n",
       "      <td>11</td>\n",
       "      <td>References</td>\n",
       "    </tr>\n",
       "    <tr>\n",
       "      <th>2</th>\n",
       "      <td>Al-Machriq (English translation: The East) was...</td>\n",
       "      <td>14</td>\n",
       "      <td>Bibliography References</td>\n",
       "    </tr>\n",
       "    <tr>\n",
       "      <th>3</th>\n",
       "      <td>Ajman International Airport (Arabic: مطار عجما...</td>\n",
       "      <td>0</td>\n",
       "      <td>Location History Operations Facilities Regulat...</td>\n",
       "    </tr>\n",
       "    <tr>\n",
       "      <th>4</th>\n",
       "      <td>Kapla is a construction set for children and a...</td>\n",
       "      <td>4</td>\n",
       "      <td>History Assembly Varieties References</td>\n",
       "    </tr>\n",
       "    <tr>\n",
       "      <th>...</th>\n",
       "      <td>...</td>\n",
       "      <td>...</td>\n",
       "      <td>...</td>\n",
       "    </tr>\n",
       "    <tr>\n",
       "      <th>155</th>\n",
       "      <td>Memphis Air Route Traffic Control Center (ZME)...</td>\n",
       "      <td>0</td>\n",
       "      <td>References</td>\n",
       "    </tr>\n",
       "    <tr>\n",
       "      <th>156</th>\n",
       "      <td>Al-Haj Suliman Yari (19 August 1936 – 10 May 2...</td>\n",
       "      <td>10</td>\n",
       "      <td>References</td>\n",
       "    </tr>\n",
       "    <tr>\n",
       "      <th>157</th>\n",
       "      <td>Sapphire Stagg is a fictional character appear...</td>\n",
       "      <td>6</td>\n",
       "      <td>References</td>\n",
       "    </tr>\n",
       "    <tr>\n",
       "      <th>158</th>\n",
       "      <td>Relocation of professional sports teams occurs...</td>\n",
       "      <td>11</td>\n",
       "      <td>Baseball Basketball References</td>\n",
       "    </tr>\n",
       "    <tr>\n",
       "      <th>159</th>\n",
       "      <td>In aerodynamics, pitch-up is an uncommanded no...</td>\n",
       "      <td>4</td>\n",
       "      <td>History Description Mitigation Bibliography</td>\n",
       "    </tr>\n",
       "  </tbody>\n",
       "</table>\n",
       "<p>160 rows × 3 columns</p>\n",
       "</div>"
      ],
      "text/plain": [
       "                                                  text  label  \\\n",
       "0    The Cardiff Roller Collective (CRoC) are a rol...     11   \n",
       "1    \"Go! Pack Go!\" is the fight song of the Green ...     11   \n",
       "2    Al-Machriq (English translation: The East) was...     14   \n",
       "3    Ajman International Airport (Arabic: مطار عجما...      0   \n",
       "4    Kapla is a construction set for children and a...      4   \n",
       "..                                                 ...    ...   \n",
       "155  Memphis Air Route Traffic Control Center (ZME)...      0   \n",
       "156  Al-Haj Suliman Yari (19 August 1936 – 10 May 2...     10   \n",
       "157  Sapphire Stagg is a fictional character appear...      6   \n",
       "158  Relocation of professional sports teams occurs...     11   \n",
       "159  In aerodynamics, pitch-up is an uncommanded no...      4   \n",
       "\n",
       "                                               headers  \n",
       "0                                           References  \n",
       "1                                           References  \n",
       "2                              Bibliography References  \n",
       "3    Location History Operations Facilities Regulat...  \n",
       "4                History Assembly Varieties References  \n",
       "..                                                 ...  \n",
       "155                                         References  \n",
       "156                                         References  \n",
       "157                                         References  \n",
       "158                     Baseball Basketball References  \n",
       "159        History Description Mitigation Bibliography  \n",
       "\n",
       "[160 rows x 3 columns]"
      ]
     },
     "execution_count": 5,
     "metadata": {},
     "output_type": "execute_result"
    }
   ],
   "source": [
    "import re\n",
    "def get_headers(text):\n",
    "    headers = re.findall(r'=+ (\\w+) =+',text)\n",
    "    return \" \".join(headers)\n",
    "\n",
    "headers = df[\"text\"].apply(get_headers)\n",
    "h = pd.Series(headers,name=\"headers\")\n",
    "hdf = pd.concat([df,h],axis = 1)\n",
    "hdf"
   ]
  },
  {
   "cell_type": "markdown",
   "metadata": {},
   "source": [
    "**Exercise 3** \n",
    "\n",
    "* How many articles are there ? Use the dataframe shape attribute which outputs the shape (nb of rows and columns) of a dataframe."
   ]
  },
  {
   "cell_type": "code",
   "execution_count": 6,
   "metadata": {},
   "outputs": [
    {
     "data": {
      "text/plain": [
       "(160, 2)"
      ]
     },
     "execution_count": 6,
     "metadata": {},
     "output_type": "execute_result"
    }
   ],
   "source": [
    "df.shape"
   ]
  },
  {
   "cell_type": "markdown",
   "metadata": {},
   "source": [
    "**Exercise 4** \n",
    "\n",
    "* How many labels (categories) are there ?\n",
    "* Use numpy unique method (cf. numpy CS)"
   ]
  },
  {
   "cell_type": "code",
   "execution_count": 7,
   "metadata": {},
   "outputs": [],
   "source": [
    "import numpy as np\n",
    "nb_categories = np.unique(df[\"label\"]).shape[0]"
   ]
  },
  {
   "cell_type": "code",
   "execution_count": 8,
   "metadata": {},
   "outputs": [
    {
     "name": "stdout",
     "output_type": "stream",
     "text": [
      "There are 16 categories\n"
     ]
    }
   ],
   "source": [
    "print(\"There are \"+str(nb_categories)+\" categories\")"
   ]
  },
  {
   "cell_type": "markdown",
   "metadata": {},
   "source": [
    "**Exercise 5** \n",
    "\n",
    "* How many articles per category ?\n",
    "* Use pandas 'groupby' and 'size' methods (cf. Pandas CS)"
   ]
  },
  {
   "cell_type": "code",
   "execution_count": 9,
   "metadata": {},
   "outputs": [
    {
     "name": "stdout",
     "output_type": "stream",
     "text": [
      "label\n",
      "0     10\n",
      "1     10\n",
      "2     10\n",
      "3     10\n",
      "4     10\n",
      "5     10\n",
      "6     10\n",
      "7     10\n",
      "8     10\n",
      "9     10\n",
      "10    10\n",
      "11    10\n",
      "12    10\n",
      "13    10\n",
      "14    10\n",
      "15    10\n",
      "dtype: int64\n"
     ]
    }
   ],
   "source": [
    "# size of each group\n",
    "print(df.groupby('label').size())"
   ]
  },
  {
   "cell_type": "markdown",
   "metadata": {},
   "source": [
    "**Exercise 6** \n",
    "\n",
    "* Don't forget to shuffle the data (Cf. pandas CS)"
   ]
  },
  {
   "cell_type": "code",
   "execution_count": 10,
   "metadata": {},
   "outputs": [],
   "source": [
    "from sklearn.utils import shuffle\n",
    "df = shuffle(df)"
   ]
  },
  {
   "cell_type": "markdown",
   "metadata": {},
   "source": [
    "## Vectorizing the input texts\n",
    "\n",
    "$Y$ = the categories (Astronaut, etc.) we are aiming to rediscover. These are **not** used for clustering but they will be used for evaluation\n",
    "\n",
    "$X$ = the features used for clustering. The features of Wikipedia article is the list of tokens contained in that item. We hope that words can help group the articles into 16 clusters matching the Wikipedia categories.\n"
   ]
  },
  {
   "cell_type": "code",
   "execution_count": 11,
   "metadata": {},
   "outputs": [
    {
     "data": {
      "text/plain": [
       "0    The Cardiff Roller Collective (CRoC) are a rol...\n",
       "1    \"Go! Pack Go!\" is the fight song of the Green ...\n",
       "2    Al-Machriq (English translation: The East) was...\n",
       "3    Ajman International Airport (Arabic: مطار عجما...\n",
       "4    Kapla is a construction set for children and a...\n",
       "Name: text, dtype: object"
      ]
     },
     "execution_count": 11,
     "metadata": {},
     "output_type": "execute_result"
    }
   ],
   "source": [
    "# Defining X and Y\n",
    "X = hdf['text']\n",
    "Y = hdf['label']\n",
    "X.head()"
   ]
  },
  {
   "cell_type": "markdown",
   "metadata": {},
   "source": [
    "**Exercise 7** \n",
    "\n",
    "* Vectorize the input (X)\n",
    "* Use sklearn [TfidfVectorizer]( https://scikit-learn.org/stable/modules/generated/sklearn.feature_extraction.text.TfidfVectorizer.html) method to turn the Wikipedia articles into a TF-IDF matrix where each row represents a news item, the columns are tokens and the cell contains the tf-idf score of each token.\n",
    "\n",
    "Three steps\n",
    "* Import the TfidfVectorizer method from sklearn\n",
    "* Create a tf-idf vectorizer. The maximum nb of features should be set to 500. Set use_idf to True and stop_words to \"english\".\n",
    "* Apply the tfidf_vectorizer.fit_transform method to X to vectorize all input texts"
   ]
  },
  {
   "cell_type": "code",
   "execution_count": 12,
   "metadata": {},
   "outputs": [
    {
     "name": "stdout",
     "output_type": "stream",
     "text": [
      "Collecting nltk\n",
      "  Downloading nltk-3.8.1-py3-none-any.whl.metadata (2.8 kB)\n",
      "Requirement already satisfied: click in /home/claire/anaconda3/envs/env803/lib/python3.8/site-packages (from nltk) (8.1.7)\n",
      "Requirement already satisfied: joblib in /home/claire/anaconda3/envs/env803/lib/python3.8/site-packages (from nltk) (1.4.0)\n",
      "Collecting regex>=2021.8.3 (from nltk)\n",
      "  Downloading regex-2023.12.25-cp38-cp38-manylinux_2_17_x86_64.manylinux2014_x86_64.whl.metadata (40 kB)\n",
      "\u001b[2K     \u001b[38;2;114;156;31m━━━━━━━━━━━━━━━━━━━━━━━━━━━━━━━━━━━━━━━\u001b[0m \u001b[32m40.9/40.9 kB\u001b[0m \u001b[31m300.7 kB/s\u001b[0m eta \u001b[36m0:00:00\u001b[0m MB/s\u001b[0m eta \u001b[36m0:00:01\u001b[0m\n",
      "\u001b[?25hRequirement already satisfied: tqdm in /home/claire/anaconda3/envs/env803/lib/python3.8/site-packages (from nltk) (4.66.2)\n",
      "Downloading nltk-3.8.1-py3-none-any.whl (1.5 MB)\n",
      "\u001b[2K   \u001b[38;2;114;156;31m━━━━━━━━━━━━━━━━━━━━━━━━━━━━━━━━━━━━━━━━\u001b[0m \u001b[32m1.5/1.5 MB\u001b[0m \u001b[31m11.3 MB/s\u001b[0m eta \u001b[36m0:00:00\u001b[0mm eta \u001b[36m0:00:01\u001b[0m\n",
      "\u001b[?25hDownloading regex-2023.12.25-cp38-cp38-manylinux_2_17_x86_64.manylinux2014_x86_64.whl (777 kB)\n",
      "\u001b[2K   \u001b[38;2;114;156;31m━━━━━━━━━━━━━━━━━━━━━━━━━━━━━━━━━━━━━━━━\u001b[0m \u001b[32m777.0/777.0 kB\u001b[0m \u001b[31m6.9 MB/s\u001b[0m eta \u001b[36m0:00:00\u001b[0m0m eta \u001b[36m0:00:01\u001b[0m\n",
      "\u001b[?25hInstalling collected packages: regex, nltk\n",
      "Successfully installed nltk-3.8.1 regex-2023.12.25\n",
      "Note: you may need to restart the kernel to use updated packages.\n"
     ]
    }
   ],
   "source": [
    "pip install nltk"
   ]
  },
  {
   "cell_type": "code",
   "execution_count": 13,
   "metadata": {},
   "outputs": [],
   "source": [
    "import numpy as np\n",
    "from sklearn.cluster import MiniBatchKMeans\n",
    "from sklearn.feature_extraction.text import TfidfVectorizer\n",
    "from sklearn.decomposition import PCA\n",
    "import matplotlib.pyplot as plt\n",
    "import nltk\n",
    "from nltk import word_tokenize\n",
    "from nltk.corpus import stopwords\n",
    "\n",
    "# Using TFIDF vectorizer to convert convert words to Vector Space\n",
    "tfidf_vectorizer = TfidfVectorizer(max_features=500,\n",
    "                                       use_idf=True,\n",
    "                                       stop_words='english')\n",
    "                                       #tokenizer=nltk.word_tokenize)\n",
    "#                                       ngram_range=(1, 2))\n",
    "\n",
    "# Fit the vectorizer to text data\n",
    "tfidf_matrix = tfidf_vectorizer.fit_transform(X)\n"
   ]
  },
  {
   "cell_type": "markdown",
   "metadata": {},
   "source": [
    "**Exercise 8** \n",
    "\n",
    "* Print out the features created by the vectorizer (use the get_feature_names() method)."
   ]
  },
  {
   "cell_type": "code",
   "execution_count": 14,
   "metadata": {},
   "outputs": [
    {
     "name": "stdout",
     "output_type": "stream",
     "text": [
      "['000' '10' '100' '11' '12' '13' '14' '15' '16' '17' '18' '19' '20' '2000'\n",
      " '2001' '2003' '2004' '2005' '2006' '2007' '2008' '2009' '2010' '2011'\n",
      " '2012' '2013' '2014' '2015' '2017' '2018' '2019' '21' '22' '24' '30'\n",
      " '500' 'according' 'act' 'activities' 'africa' 'african' 'age' 'air'\n",
      " 'aircraft' 'airlines' 'airport' 'airports' 'airspace' 'ajman' 'al'\n",
      " 'aldrin' 'america' 'american' 'anti' 'apollo' 'appeared' 'appears'\n",
      " 'april' 'arab' 'arabic' 'area' 'areas' 'army' 'art' 'associated'\n",
      " 'association' 'astronaut' 'atmospheric' 'attack' 'attacks' 'august'\n",
      " 'authority' 'avengers' 'aviation' 'award' 'away' 'base' 'based' 'beacon'\n",
      " 'began' 'believed' 'best' 'board' 'body' 'born' 'bread' 'britain'\n",
      " 'british' 'building' 'built' 'burial' 'bus' 'business' 'california'\n",
      " 'called' 'canada' 'cannonball' 'captain' 'career' 'caste' 'castes'\n",
      " 'cement' 'cemetery' 'center' 'central' 'centre' 'century' 'certain'\n",
      " 'channel' 'character' 'check' 'chief' 'children' 'china' 'chinese' 'city'\n",
      " 'class' 'club' 'coast' 'college' 'come' 'common' 'community' 'companies'\n",
      " 'company' 'complete' 'considered' 'construction' 'control' 'controlled'\n",
      " 'council' 'countries' 'country' 'court' 'coverage' 'crab' 'created'\n",
      " 'crew' 'cup' 'day' 'days' 'death' 'december' 'dedicated' 'degree'\n",
      " 'design' 'designed' 'developed' 'development' 'dibny' 'did' 'different'\n",
      " 'director' 'documentary' 'does' 'earlier' 'early' 'earth' 'east'\n",
      " 'education' 'effect' 'elongated' 'emirates' 'en' 'end' 'engineering'\n",
      " 'england' 'english' 'established' 'ethnic' 'event' 'events' 'eventually'\n",
      " 'example' 'external' 'family' 'father' 'fauré' 'february' 'feet'\n",
      " 'festival' 'field' 'film' 'final' 'flight' 'flights' 'flying' 'followed'\n",
      " 'following' 'football' 'force' 'forces' 'form' 'formed' 'founded' 'free'\n",
      " 'future' 'game' 'games' 'gemini' 'general' 'generally' 'german' 'given'\n",
      " 'gold' 'government' 'great' 'green' 'ground' 'group' 'groups' 'hand'\n",
      " 'having' 'head' 'held' 'help' 'high' 'history' 'hogarth' 'home' 'hotel'\n",
      " 'hours' 'house' 'human' 'important' 'include' 'included' 'including'\n",
      " 'influence' 'information' 'international' 'involved' 'isbn' 'israel'\n",
      " 'israeli' 'january' 'japan' 'japanese' 'jazeera' 'john' 'july' 'june'\n",
      " 'just' 'kami' 'killed' 'king' 'kingdom' 'km' 'known' 'landing' 'large'\n",
      " 'late' 'later' 'law' 'league' 'leather' 'led' 'lee' 'left' 'level' 'life'\n",
      " 'light' 'like' 'limited' 'lin' 'line' 'links' 'list' 'little' 'live'\n",
      " 'living' 'local' 'located' 'location' 'london' 'long' 'lunar' 'main'\n",
      " 'major' 'make' 'making' 'man' 'march' 'mass' 'medal' 'media' 'member'\n",
      " 'members' 'men' 'merlin' 'mi' 'middle' 'military' 'million' 'minor'\n",
      " 'minutes' 'mission' 'modern' 'moon' 'moved' 'music' 'mutant' 'mutants'\n",
      " 'named' 'nasa' 'national' 'natural' 'nature' 'near' 'nebula' 'network'\n",
      " 'new' 'news' 'newspaper' 'nocturne' 'non' 'north' 'november' 'number'\n",
      " 'observed' 'october' 'office' 'official' 'ohio' 'old' 'olympic' 'op'\n",
      " 'open' 'opened' 'opening' 'operation' 'operations' 'order' 'organization'\n",
      " 'original' 'originally' 'outside' 'paper' 'park' 'party' 'passenger'\n",
      " 'passengers' 'people' 'performed' 'period' 'person' 'piano' 'piece'\n",
      " 'pieces' 'pierce' 'pilot' 'pilots' 'pitch' 'place' 'placed' 'play'\n",
      " 'played' 'point' 'police' 'political' 'popular' 'position' 'post' 'power'\n",
      " 'powers' 'president' 'press' 'priests' 'prior' 'private' 'process'\n",
      " 'professor' 'program' 'programs' 'project' 'provide' 'public' 'published'\n",
      " 'pulsar' 'qatar' 'ralph' 'ray' 'red' 'references' 'region' 'related'\n",
      " 'religion' 'religious' 'remains' 'renacci' 'reported' 'required'\n",
      " 'research' 'restricted' 'return' 'round' 'route' 'runaways' 'russian'\n",
      " 'said' 'sam' 'saturnyne' 'school' 'science' 'sea' 'season' 'second'\n",
      " 'section' 'security' 'seen' 'september' 'series' 'served' 'service'\n",
      " 'services' 'set' 'shinto' 'shrine' 'shrines' 'shuttle' 'similar' 'single'\n",
      " 'site' 'sky' 'slaves' 'small' 'social' 'society' 'son' 'south' 'space'\n",
      " 'special' 'sports' 'st' 'stadium' 'star' 'stars' 'started' 'state'\n",
      " 'stated' 'states' 'stohlman' 'story' 'strata' 'street' 'students'\n",
      " 'studies' 'style' 'supernova' 'support' 'surface' 'taken' 'taking' 'team'\n",
      " 'technology' 'term' 'test' 'theatre' 'theme' 'time' 'times' 'title'\n",
      " 'took' 'town' 'traffic' 'training' 'uk' 'united' 'university' 'use'\n",
      " 'used' 'using' 'usually' 'various' 'version' 'vfr' 'victor' 'war'\n",
      " 'washington' 'water' 'way' 'website' 'west' 'western' 'white' 'william'\n",
      " 'wing' 'women' 'won' 'work' 'worked' 'working' 'works' 'world' 'written'\n",
      " 'wrote' 'year' 'years' 'york' 'young']\n"
     ]
    }
   ],
   "source": [
    "features = tfidf_vectorizer.get_feature_names_out()\n",
    "print(features)"
   ]
  },
  {
   "cell_type": "markdown",
   "metadata": {},
   "source": [
    "##  Training a K-means clustering model"
   ]
  },
  {
   "cell_type": "markdown",
   "metadata": {},
   "source": [
    "**Exercise 9**\n",
    "\n",
    "* Create a K-means object (import KMeans from sklearn.cluster). \n",
    "* Set the number of clusters to 16\n",
    "* Train this object on the tf-idf matrix you created from the data (use the kmeans fit method)"
   ]
  },
  {
   "cell_type": "code",
   "execution_count": 15,
   "metadata": {},
   "outputs": [],
   "source": [
    "from sklearn.cluster import KMeans\n",
    "\n",
    "# Kmeans++\n",
    "km = KMeans(n_clusters=16, init='k-means++', max_iter=300, n_init=5, verbose=0, random_state=3425)\n",
    "km.fit(tfidf_matrix)\n",
    "# cluster assignement (list showing the cluster assigned to each instance)\n",
    "predicted_labels = km.labels_\n",
    "clusters = predicted_labels.tolist()"
   ]
  },
  {
   "cell_type": "code",
   "execution_count": 16,
   "metadata": {},
   "outputs": [
    {
     "name": "stdout",
     "output_type": "stream",
     "text": [
      "[11 11  1 12 15  4  4 14  8 15]\n"
     ]
    }
   ],
   "source": [
    "print(predicted_labels[0:10])"
   ]
  },
  {
   "cell_type": "markdown",
   "metadata": {},
   "source": [
    "## Inspecting Clustering Results"
   ]
  },
  {
   "cell_type": "markdown",
   "metadata": {},
   "source": [
    "**Exercise 10** \n",
    "\n",
    "* Create a dataframe aligning the clustering results with the news items and their category\n",
    "* The dataframe should contains 3 columns with headers \"Text\", \"Category\" and \"Cluster\"\n",
    "* Extract the texts and labels from the dataframe you created from the wikipedia files\n",
    "* Extract the list of cluster labels produced for each input text by the clustering algorithm (km.labels_)\n",
    "* Create the required dataframe using these information "
   ]
  },
  {
   "cell_type": "code",
   "execution_count": 17,
   "metadata": {},
   "outputs": [
    {
     "data": {
      "text/html": [
       "<div>\n",
       "<style scoped>\n",
       "    .dataframe tbody tr th:only-of-type {\n",
       "        vertical-align: middle;\n",
       "    }\n",
       "\n",
       "    .dataframe tbody tr th {\n",
       "        vertical-align: top;\n",
       "    }\n",
       "\n",
       "    .dataframe thead th {\n",
       "        text-align: right;\n",
       "    }\n",
       "</style>\n",
       "<table border=\"1\" class=\"dataframe\">\n",
       "  <thead>\n",
       "    <tr style=\"text-align: right;\">\n",
       "      <th></th>\n",
       "      <th>text</th>\n",
       "      <th>label</th>\n",
       "      <th>cluster</th>\n",
       "    </tr>\n",
       "  </thead>\n",
       "  <tbody>\n",
       "    <tr>\n",
       "      <th>0</th>\n",
       "      <td>Spanish artist that was born in Alicante (Spai...</td>\n",
       "      <td>1</td>\n",
       "      <td>11</td>\n",
       "    </tr>\n",
       "    <tr>\n",
       "      <th>1</th>\n",
       "      <td>John Akii-Bua (3 December 1949 – 20 June 1997)...</td>\n",
       "      <td>12</td>\n",
       "      <td>11</td>\n",
       "    </tr>\n",
       "    <tr>\n",
       "      <th>2</th>\n",
       "      <td>Astrup Rectory (Danish: Astrup Præstegård) is ...</td>\n",
       "      <td>4</td>\n",
       "      <td>1</td>\n",
       "    </tr>\n",
       "    <tr>\n",
       "      <th>3</th>\n",
       "      <td>Anti-shock body is the name given by Richard T...</td>\n",
       "      <td>13</td>\n",
       "      <td>12</td>\n",
       "    </tr>\n",
       "    <tr>\n",
       "      <th>4</th>\n",
       "      <td>The Al Jazeera effect is a term used in politi...</td>\n",
       "      <td>7</td>\n",
       "      <td>15</td>\n",
       "    </tr>\n",
       "    <tr>\n",
       "      <th>...</th>\n",
       "      <td>...</td>\n",
       "      <td>...</td>\n",
       "      <td>...</td>\n",
       "    </tr>\n",
       "    <tr>\n",
       "      <th>155</th>\n",
       "      <td>Aisam-ul-Haq Qureshi is a professional tennis ...</td>\n",
       "      <td>12</td>\n",
       "      <td>7</td>\n",
       "    </tr>\n",
       "    <tr>\n",
       "      <th>156</th>\n",
       "      <td>Alan Kurdi, named after the drowned Syrian chi...</td>\n",
       "      <td>13</td>\n",
       "      <td>4</td>\n",
       "    </tr>\n",
       "    <tr>\n",
       "      <th>157</th>\n",
       "      <td>Židlochovice (Czech pronunciation: [ˈʒɪdloxovɪ...</td>\n",
       "      <td>5</td>\n",
       "      <td>8</td>\n",
       "    </tr>\n",
       "    <tr>\n",
       "      <th>158</th>\n",
       "      <td>Akira Ryō (梁 明, Ryō Akira) (born October 20, 1...</td>\n",
       "      <td>12</td>\n",
       "      <td>11</td>\n",
       "    </tr>\n",
       "    <tr>\n",
       "      <th>159</th>\n",
       "      <td>The Cardiff Roller Collective (CRoC) are a rol...</td>\n",
       "      <td>11</td>\n",
       "      <td>7</td>\n",
       "    </tr>\n",
       "  </tbody>\n",
       "</table>\n",
       "<p>160 rows × 3 columns</p>\n",
       "</div>"
      ],
      "text/plain": [
       "                                                  text  label  cluster\n",
       "0    Spanish artist that was born in Alicante (Spai...      1       11\n",
       "1    John Akii-Bua (3 December 1949 – 20 June 1997)...     12       11\n",
       "2    Astrup Rectory (Danish: Astrup Præstegård) is ...      4        1\n",
       "3    Anti-shock body is the name given by Richard T...     13       12\n",
       "4    The Al Jazeera effect is a term used in politi...      7       15\n",
       "..                                                 ...    ...      ...\n",
       "155  Aisam-ul-Haq Qureshi is a professional tennis ...     12        7\n",
       "156  Alan Kurdi, named after the drowned Syrian chi...     13        4\n",
       "157  Židlochovice (Czech pronunciation: [ˈʒɪdloxovɪ...      5        8\n",
       "158  Akira Ryō (梁 明, Ryō Akira) (born October 20, 1...     12       11\n",
       "159  The Cardiff Roller Collective (CRoC) are a rol...     11        7\n",
       "\n",
       "[160 rows x 3 columns]"
      ]
     },
     "execution_count": 17,
     "metadata": {},
     "output_type": "execute_result"
    }
   ],
   "source": [
    "# Print out id, title, category and cluster assignment\n",
    "texts = df['text'].values\n",
    "labels = df['label'].values\n",
    "\n",
    "data = {'text':texts,'label':labels,'cluster':clusters}\n",
    "df = pd.DataFrame(data,columns=['text','label','cluster'])\n",
    "df"
   ]
  },
  {
   "cell_type": "markdown",
   "metadata": {},
   "source": [
    "**Exercise 11** \n",
    "\n",
    "* Print out the number of items per clusters\n",
    "* use pandas value_counts() method"
   ]
  },
  {
   "cell_type": "code",
   "execution_count": 18,
   "metadata": {},
   "outputs": [
    {
     "data": {
      "text/plain": [
       "cluster\n",
       "8     29\n",
       "1     16\n",
       "4     15\n",
       "9     13\n",
       "3     12\n",
       "14    11\n",
       "11    10\n",
       "7     10\n",
       "5      9\n",
       "10     7\n",
       "2      7\n",
       "12     6\n",
       "13     5\n",
       "6      5\n",
       "15     4\n",
       "0      1\n",
       "Name: count, dtype: int64"
      ]
     },
     "execution_count": 18,
     "metadata": {},
     "output_type": "execute_result"
    }
   ],
   "source": [
    "# Print out number of items per clusters\n",
    "df['cluster'].value_counts()"
   ]
  },
  {
   "cell_type": "markdown",
   "metadata": {},
   "source": [
    "**Exercise 12** \n",
    "\n",
    "* Evaluate the clusters\n",
    "* Import metrics from sklearns and compute homogeneity, completeness, v_measure, adjusted rand index and silhouette coefficient\n",
    "* Print each score out"
   ]
  },
  {
   "cell_type": "code",
   "execution_count": 19,
   "metadata": {},
   "outputs": [
    {
     "name": "stdout",
     "output_type": "stream",
     "text": [
      "[ 1 12  4 13  7 14  2 13  9 14  7  0 11  0  7  3  8  5  7  2 11  1 10 12\n",
      " 11  3  9  9  5  1  0  4  5 14  6  1 10 15  2  8  6  7  5  0  3 15 14  2\n",
      " 14 11  4  0  6 10 12  9 10 15  4  7 13 14  4 10 12 11  9  5  3  2  7  6\n",
      "  4 12  0 14 15  0 11  3  0 12  5 12 10  6 15 15 13  5  2  7  9  4 10  6\n",
      "  3  3  5 10  8 10 11  2  5 13  8 14  4 10  0  1  6 11  1 14 15  3  4  9\n",
      "  1 11  6  7  1  9 15 13  8  2  0  3 15  8 13  8  8  9 15  4  3 12  8 13\n",
      " 14  8  2  7  1  1  6  2  9  6 13 12 13  5 12 11]\n",
      "[11 11  1 12 15  4  4 14  8 15  9 15  3  9  9  9  4  1 14 13  0  5  5  3\n",
      " 10 10  9 14 13  8  1  3  5  8  8  2 13  8  1  4 14  3 11  1 11  9  3  3\n",
      " 11 14  5  4  8  1  8  8  2  4 12  7 14  7  6  8  9  1  9  4  9  4  8  8\n",
      "  4  9  8  5  8 14  7 14  1  1  3  9  3  8  2  5  2 12  1  1 13  8  2 14\n",
      "  8  8 11  8  8 15  7  7  8  4 10  5  7  1  8 12  7  9  4 14 12  4  8 11\n",
      "  8 10  7  4  1 11 12 10  3  6  8  4 11  9  3  3  8  5  6  6  1  2  2  3\n",
      " 13  1  1 10  5  8  8  6  8 10 14  7  4  8 11  7]\n",
      "Homogeneity: 0.269\n",
      "Completeness: 0.288\n",
      "V-measure: 0.278\n",
      "Adjusted Rand-Index: 0.004\n",
      "Silhouette Coefficient: 0.077\n",
      "\n"
     ]
    }
   ],
   "source": [
    "# Evaluate the clusters\n",
    "from sklearn import metrics\n",
    "print( labels)\n",
    "print( km.labels_)\n",
    "\n",
    "print(\"Homogeneity: %0.3f\" % metrics.homogeneity_score(labels, km.labels_))\n",
    "print(\"Completeness: %0.3f\" % metrics.completeness_score(labels, km.labels_))\n",
    "print(\"V-measure: %0.3f\" % metrics.v_measure_score(labels, km.labels_))\n",
    "print(\"Adjusted Rand-Index: %.3f\"\n",
    "      % metrics.adjusted_rand_score(labels, km.labels_))\n",
    "print(\"Silhouette Coefficient: %0.3f\"\n",
    "      % metrics.silhouette_score(tfidf_matrix, km.labels_, sample_size=1000))\n",
    "\n",
    "print()"
   ]
  },
  {
   "cell_type": "markdown",
   "metadata": {},
   "source": [
    "**Exercise 13**  \n",
    "\n",
    "* Print out the top 50 words of each cluster "
   ]
  },
  {
   "cell_type": "code",
   "execution_count": 20,
   "metadata": {},
   "outputs": [
    {
     "name": "stdout",
     "output_type": "stream",
     "text": [
      "Top terms per cluster:\n",
      "Cluster 0: merlin king century story english version later known based early post popular character powers having named works son young burial eventually modern great include england britain called earlier written middle life british does including long series town form stated come work born usually father originally time house man just old original war wrote end section round did university court believed living person isbn kingdom prior power location included site various associated final event taken chief new different death north said events john major set order times second people en influence effect students stars appears women opening placed common men head\n",
      "\n",
      "Cluster 1: al newspaper published arabic paper building hotel stohlman arab government important references history press based chief party leather official appears links 2011 external december series january following members organization international founded russian community university established created works july english appeared religion head 2012 media character family century november art work office day president apollo included august march influence 000 east june time complete cemetery april forces site aviation later related american council 2013 website north companies 500 mission october director working aircraft point free israel 2015 channel world hand political award religious national events popular 2000 center board private london\n",
      "\n",
      "Cluster 2: jazeera al channel festival network news media effect arabic november 2005 qatar documentary 24 arab website official coverage 2006 version said government english different list live service uk april united film references international information make held war israel political new states countries originally office 2017 organization similar music events israeli place court press theme way world based section 2019 2018 game president external links included british works published called main middle 2015 story according year 2003 original act groups kingdom anti public country general 18 2011 western house white taking did east attack used 2014 history forces seen open william\n",
      "\n",
      "Cluster 3: space air mission nasa astronaut force flight medal crew german aldrin july shuttle engineering program university flying sea pilot school service award research science training isbn years ground hours states aviation association board people california served united washington 13 born used team army minutes base august observed russian april organization chinese degree june use international professor order second director state president february 12 2019 september different american 2008 countries support earth coast january 24 december days general aircraft war named moved october feet 17 based 10 22 time landing forces national company 2010 000 worked external held military year 2005\n",
      "\n",
      "Cluster 4: march member party served son people 2013 political career building years 2003 central chief members 2012 november national 16 held sea 2015 2007 caste won event state references august university 2006 ethnic security council project general castes death july life list family later april 19 13 2001 documentary external worked main light number links city human strata 22 organization large january great home studies 2010 10 slaves war al june engineering having education took international high term social named led known house original north group said 500 late make 2018 open following year information long december time 2008 region involved\n",
      "\n",
      "Cluster 5: town region mi german history century written official war website army located list people south external links references born person water city near originally march area research men member team 500 established main countries related known media religious 24 central st festival sea include new later isbn 2001 forces usually center chief example country similar 11 late 18 2018 named john founded world local 2009 east cemetery olympic time major american high called 12 national park education km built 2019 companies site living early single middle 21 according centre held art level william london school attack north university january days\n",
      "\n",
      "Cluster 6: company companies renacci board association east members limited english ohio public year king million war green certain called based william support 000 general number isbn founded term usually did june 2018 new football including period controlled references history group director january december england council written 22 team cup included required involved july business chief held different country later sea 30 state list field related use took generally location british john modern 2005 world time member years 2006 party house reported uk 500 act come countries president private following stated form served 2012 used press court states united external links 2010\n",
      "\n",
      "Cluster 7: wing aircraft airspace area surface body anti control cement traffic air force pitch center use effect route areas example used high required class attack term flight vfr water process pilot law including states order number references 100 developed united modern operations restricted known point provide controlled form long feet section considered victor early working test place nasa generally pilots making reported forces common activities left associated stated 14 ground did british having called outside external given airport does location seen landing service aviation 000 en large complete california state 24 20 located major china 2017 operation military 22 paper design\n",
      "\n",
      "Cluster 8: known work japanese time african art theatre world king references street born western new life works used london later make hogarth year test external best links father court city early career use 2000 sky britain american man isbn project fauré left series design saturnyne stars years group form hours international called pieces created west style formed like john character 2012 period august member seen live film eventually dibny started second little east death people worked council family states olympic late large africa influence single england ralph special june long music story using took won including age published japan final captain\n",
      "\n",
      "Cluster 9: college university students education located technology training list cup al school programs st studies external links research references home complete israel center official program science high main team built games german times 2011 members league engineering women season established national website year qatar created 2014 war film business considered won state media government design groups set community founded aircraft new world op association 2009 used different middle 2013 including based flight professor development developed day public victor dedicated degree sports 21 president centre career 2010 country building international 2008 history activities outside november captain major second project said construction december\n",
      "\n",
      "Cluster 10: nebula star mass crab years john sky related media observed stars supernova ray old external earth small 12 located light links away white pulsar million western required open references centre 30 generally large 15 member red 2012 appears central 000 round 17 william region high middle position little general field nasa 13 center german considered west line news 21 time associated outside april december day moon north march group new born 2017 18 chinese 16 mi used 500 like lunar created using km believed times nature early century given known age 11 seen paper japanese second studies later remains 100\n",
      "\n",
      "Cluster 11: club league football team stadium olympic pierce played moved won games gold lin season game founded sports 2011 level home centre 2009 2010 final new green lee field london national version based time title american play original men park china world state cup 16 open 2012 2015 line following year complete medal ground history set round mutant association site kingdom links remains external united end late originally town members 2007 groups away south women john university 2004 city october 2000 references member york coast led people near september group 2006 2005 mutants age second 2014 music 14 000 director used\n",
      "\n",
      "Cluster 12: airport airports check passengers security ajman bus international airlines authority passenger services emirates service shuttle main aviation flights flight united company police aircraft air construction usually new arab area outside route people companies process private provide government business public attacks israeli use time class development required country set al limited website used project office formed 30 city canada state million using head washington january example space official traffic great point states links non include hours program park opening israel restricted operations london including certain town external control large located operation special number 24 dedicated near september ray national long field\n",
      "\n",
      "Cluster 13: beacon green burial light red york living popular external links term modern served natural times new american united cemetery pilots number kingdom second white uk 10 references km landing set states park used 000 15 city located established use route america non using near network north base 500 western just college pilot location operation help office aircraft seen post state body great example point began original 24 field 18 air large took canada main ground organization following sea council history remains death nature placed human earth section sky areas provide site british ohio feet south space opened area community dedicated\n",
      "\n",
      "Cluster 14: bread russian cement victor pieces later cannonball head version region killed born body sam october used new red world men runaways time second external links series story according list character moved city popular japan late like age party army named small avengers line limited old mutants modern appeared event future post human making known 2001 people based team family january official years return period earlier paper force way called activities place natural york said man little mission state chief times 2004 news served piece appears western 22 space 2003 events various police mutant early college powers led war references created\n",
      "\n",
      "Cluster 15: shrine construction shinto kami children region located site art building shrines different references help placed used use performed japanese japan history created religion known complete held years place major set using priests january certain pieces world nature form february age festival early technology 000 similar october 19 2012 website 11 religious south old official 15 state links important external called modern term associated given period various central million day members 21 started project appeared november event ground said worked century 24 18 second later following 10 believed common influence new usually act local seen war small people include chinese year\n",
      "\n"
     ]
    }
   ],
   "source": [
    "# Top terms per cluster\n",
    "print(\"Top terms per cluster:\")\n",
    "true_k = np.unique(labels).shape[0]\n",
    "order_centroids = km.cluster_centers_.argsort()[:, ::-1]\n",
    "terms = tfidf_vectorizer.get_feature_names_out()\n",
    "for i in range(true_k):\n",
    "    print(\"Cluster %d:\" % i, end='')\n",
    "    for ind in order_centroids[i, :100]:\n",
    "        print(' %s' % terms[ind], end='')\n",
    "    print('\\n')"
   ]
  },
  {
   "cell_type": "markdown",
   "metadata": {},
   "source": [
    "## Visualizing  clusters.\n",
    "\n",
    "Provided\n"
   ]
  },
  {
   "cell_type": "code",
   "execution_count": 21,
   "metadata": {},
   "outputs": [
    {
     "name": "stderr",
     "output_type": "stream",
     "text": [
      "/home/claire/anaconda3/envs/env803/lib/python3.8/site-packages/sklearn/manifold/_mds.py:298: FutureWarning: The default value of `normalized_stress` will change to `'auto'` in version 1.4. To suppress this warning, manually set the value of `normalized_stress`.\n",
      "  warnings.warn(\n"
     ]
    }
   ],
   "source": [
    "import os  # for os.path.basename\n",
    "\n",
    "import matplotlib.pyplot as plt\n",
    "import matplotlib as mpl\n",
    "from sklearn.metrics.pairwise import cosine_similarity\n",
    "from sklearn.manifold import MDS\n",
    "\n",
    "dist = 1 - cosine_similarity(tfidf_matrix)\n",
    "\n",
    "# Use multidimensional scaling to convert the dist matrix into a 2-dimensional array \n",
    "\n",
    "MDS()\n",
    "\n",
    "# n_components=2 to plot results in a two-dimensional plane\n",
    "# \"precomputed\" because the  distance matrix dist is already computed\n",
    "# `random_state` set to 1 so that the plot is reproducible.\n",
    "mds = MDS(n_components=2, dissimilarity=\"precomputed\", random_state=1)\n",
    "\n",
    "pos = mds.fit_transform(dist)  # shape (n_components, n_samples)\n",
    "\n",
    "xs, ys = pos[:, 0], pos[:, 1]"
   ]
  },
  {
   "cell_type": "code",
   "execution_count": 25,
   "metadata": {},
   "outputs": [],
   "source": [
    "#set up colors per clusters using a dict\n",
    "# #1b9e77 (green) #d95f02 (orange) #7570b3 (purple) #e7298a (pink)\n",
    "cluster_colors = {0: '#f0140c', 1: '#ad7144', 2: '#f5b92f', 3: '#e8f007', 4: '#88e014', \\\n",
    "                  5:\"#0eedb2\", 6:\"#0dafdb\", \\\n",
    "                  7:\"#1330ed\", 8:\"#9a09e8\", 9:\"#e605b1\", 10:\"#c4a29d\", 11:\"#695232\", 12:\"#f7f088\", 13:\"#7e8778\", \\\n",
    "                  14:\"#7dada2\", 15:\"#628cf5\"}\n",
    "\n",
    "#set up cluster names using a dict\n",
    "#cluster_names = {0: 'techno'}\n"
   ]
  },
  {
   "cell_type": "code",
   "execution_count": 26,
   "metadata": {},
   "outputs": [
    {
     "ename": "ValueError",
     "evalue": "Multi-dimensional indexing (e.g. `obj[:, None]`) is no longer supported. Convert to a numpy array before indexing instead.",
     "output_type": "error",
     "traceback": [
      "\u001b[0;31m---------------------------------------------------------------------------\u001b[0m",
      "\u001b[0;31mValueError\u001b[0m                                Traceback (most recent call last)",
      "Cell \u001b[0;32mIn[26], line 17\u001b[0m\n\u001b[1;32m     14\u001b[0m \u001b[38;5;66;03m#iterate through groups to layer the plot\u001b[39;00m\n\u001b[1;32m     15\u001b[0m \u001b[38;5;66;03m#note that I use the cluster_name and cluster_color dicts with the 'name' lookup to return the appropriate color/label\u001b[39;00m\n\u001b[1;32m     16\u001b[0m \u001b[38;5;28;01mfor\u001b[39;00m name, group \u001b[38;5;129;01min\u001b[39;00m groups:\n\u001b[0;32m---> 17\u001b[0m     \u001b[43max\u001b[49m\u001b[38;5;241;43m.\u001b[39;49m\u001b[43mplot\u001b[49m\u001b[43m(\u001b[49m\u001b[43mgroup\u001b[49m\u001b[38;5;241;43m.\u001b[39;49m\u001b[43mx\u001b[49m\u001b[43m,\u001b[49m\u001b[43m \u001b[49m\u001b[43mgroup\u001b[49m\u001b[38;5;241;43m.\u001b[39;49m\u001b[43my\u001b[49m\u001b[43m,\u001b[49m\u001b[43m \u001b[49m\u001b[43mmarker\u001b[49m\u001b[38;5;241;43m=\u001b[39;49m\u001b[38;5;124;43m'\u001b[39;49m\u001b[38;5;124;43mo\u001b[39;49m\u001b[38;5;124;43m'\u001b[39;49m\u001b[43m,\u001b[49m\u001b[43m \u001b[49m\u001b[43mlinestyle\u001b[49m\u001b[38;5;241;43m=\u001b[39;49m\u001b[38;5;124;43m'\u001b[39;49m\u001b[38;5;124;43m'\u001b[39;49m\u001b[43m,\u001b[49m\u001b[43m \u001b[49m\u001b[43mms\u001b[49m\u001b[38;5;241;43m=\u001b[39;49m\u001b[38;5;241;43m12\u001b[39;49m\u001b[43m,\u001b[49m\u001b[43m \u001b[49m\n\u001b[1;32m     18\u001b[0m \u001b[43m        \u001b[49m\u001b[38;5;66;43;03m#    label=cluster_names[name], \u001b[39;49;00m\n\u001b[1;32m     19\u001b[0m \u001b[43m            \u001b[49m\u001b[43mcolor\u001b[49m\u001b[38;5;241;43m=\u001b[39;49m\u001b[43mcluster_colors\u001b[49m\u001b[43m[\u001b[49m\u001b[43mname\u001b[49m\u001b[43m]\u001b[49m\u001b[43m)\u001b[49m \n\u001b[1;32m     20\u001b[0m         \u001b[38;5;66;03m#    mec='non')\u001b[39;00m\n\u001b[1;32m     21\u001b[0m     ax\u001b[38;5;241m.\u001b[39mset_aspect(\u001b[38;5;124m'\u001b[39m\u001b[38;5;124mauto\u001b[39m\u001b[38;5;124m'\u001b[39m)\n",
      "File \u001b[0;32m~/anaconda3/envs/env803/lib/python3.8/site-packages/matplotlib/axes/_axes.py:1647\u001b[0m, in \u001b[0;36mAxes.plot\u001b[0;34m(self, scalex, scaley, data, *args, **kwargs)\u001b[0m\n\u001b[1;32m   1416\u001b[0m \u001b[38;5;250m\u001b[39m\u001b[38;5;124;03m\"\"\"\u001b[39;00m\n\u001b[1;32m   1417\u001b[0m \u001b[38;5;124;03mPlot y versus x as lines and/or markers.\u001b[39;00m\n\u001b[1;32m   1418\u001b[0m \n\u001b[0;32m   (...)\u001b[0m\n\u001b[1;32m   1644\u001b[0m \u001b[38;5;124;03m(``'green'``) or hex strings (``'#008000'``).\u001b[39;00m\n\u001b[1;32m   1645\u001b[0m \u001b[38;5;124;03m\"\"\"\u001b[39;00m\n\u001b[1;32m   1646\u001b[0m kwargs \u001b[38;5;241m=\u001b[39m cbook\u001b[38;5;241m.\u001b[39mnormalize_kwargs(kwargs, mlines\u001b[38;5;241m.\u001b[39mLine2D)\n\u001b[0;32m-> 1647\u001b[0m lines \u001b[38;5;241m=\u001b[39m [\u001b[38;5;241m*\u001b[39m\u001b[38;5;28mself\u001b[39m\u001b[38;5;241m.\u001b[39m_get_lines(\u001b[38;5;241m*\u001b[39margs, data\u001b[38;5;241m=\u001b[39mdata, \u001b[38;5;241m*\u001b[39m\u001b[38;5;241m*\u001b[39mkwargs)]\n\u001b[1;32m   1648\u001b[0m \u001b[38;5;28;01mfor\u001b[39;00m line \u001b[38;5;129;01min\u001b[39;00m lines:\n\u001b[1;32m   1649\u001b[0m     \u001b[38;5;28mself\u001b[39m\u001b[38;5;241m.\u001b[39madd_line(line)\n",
      "File \u001b[0;32m~/anaconda3/envs/env803/lib/python3.8/site-packages/matplotlib/axes/_base.py:216\u001b[0m, in \u001b[0;36m_process_plot_var_args.__call__\u001b[0;34m(self, *args, **kwargs)\u001b[0m\n\u001b[1;32m    214\u001b[0m     this \u001b[38;5;241m+\u001b[39m\u001b[38;5;241m=\u001b[39m args[\u001b[38;5;241m0\u001b[39m],\n\u001b[1;32m    215\u001b[0m     args \u001b[38;5;241m=\u001b[39m args[\u001b[38;5;241m1\u001b[39m:]\n\u001b[0;32m--> 216\u001b[0m \u001b[38;5;28;01myield from\u001b[39;00m \u001b[38;5;28;43mself\u001b[39;49m\u001b[38;5;241;43m.\u001b[39;49m\u001b[43m_plot_args\u001b[49m\u001b[43m(\u001b[49m\u001b[43mthis\u001b[49m\u001b[43m,\u001b[49m\u001b[43m \u001b[49m\u001b[43mkwargs\u001b[49m\u001b[43m)\u001b[49m\n",
      "File \u001b[0;32m~/anaconda3/envs/env803/lib/python3.8/site-packages/matplotlib/axes/_base.py:331\u001b[0m, in \u001b[0;36m_process_plot_var_args._plot_args\u001b[0;34m(self, tup, kwargs)\u001b[0m\n\u001b[1;32m    328\u001b[0m         kw[k] \u001b[38;5;241m=\u001b[39m v\n\u001b[1;32m    330\u001b[0m \u001b[38;5;28;01mif\u001b[39;00m \u001b[38;5;28mlen\u001b[39m(tup) \u001b[38;5;241m==\u001b[39m \u001b[38;5;241m2\u001b[39m:\n\u001b[0;32m--> 331\u001b[0m     x \u001b[38;5;241m=\u001b[39m \u001b[43m_check_1d\u001b[49m\u001b[43m(\u001b[49m\u001b[43mtup\u001b[49m\u001b[43m[\u001b[49m\u001b[38;5;241;43m0\u001b[39;49m\u001b[43m]\u001b[49m\u001b[43m)\u001b[49m\n\u001b[1;32m    332\u001b[0m     y \u001b[38;5;241m=\u001b[39m _check_1d(tup[\u001b[38;5;241m-\u001b[39m\u001b[38;5;241m1\u001b[39m])\n\u001b[1;32m    333\u001b[0m \u001b[38;5;28;01melse\u001b[39;00m:\n",
      "File \u001b[0;32m~/anaconda3/envs/env803/lib/python3.8/site-packages/matplotlib/cbook/__init__.py:1349\u001b[0m, in \u001b[0;36m_check_1d\u001b[0;34m(x)\u001b[0m\n\u001b[1;32m   1343\u001b[0m \u001b[38;5;28;01mwith\u001b[39;00m warnings\u001b[38;5;241m.\u001b[39mcatch_warnings(record\u001b[38;5;241m=\u001b[39m\u001b[38;5;28;01mTrue\u001b[39;00m) \u001b[38;5;28;01mas\u001b[39;00m w:\n\u001b[1;32m   1344\u001b[0m     warnings\u001b[38;5;241m.\u001b[39mfilterwarnings(\n\u001b[1;32m   1345\u001b[0m         \u001b[38;5;124m\"\u001b[39m\u001b[38;5;124malways\u001b[39m\u001b[38;5;124m\"\u001b[39m,\n\u001b[1;32m   1346\u001b[0m         category\u001b[38;5;241m=\u001b[39m\u001b[38;5;167;01mDeprecationWarning\u001b[39;00m,\n\u001b[1;32m   1347\u001b[0m         message\u001b[38;5;241m=\u001b[39m\u001b[38;5;124m'\u001b[39m\u001b[38;5;124mSupport for multi-dimensional indexing\u001b[39m\u001b[38;5;124m'\u001b[39m)\n\u001b[0;32m-> 1349\u001b[0m     ndim \u001b[38;5;241m=\u001b[39m \u001b[43mx\u001b[49m\u001b[43m[\u001b[49m\u001b[43m:\u001b[49m\u001b[43m,\u001b[49m\u001b[43m \u001b[49m\u001b[38;5;28;43;01mNone\u001b[39;49;00m\u001b[43m]\u001b[49m\u001b[38;5;241m.\u001b[39mndim\n\u001b[1;32m   1350\u001b[0m     \u001b[38;5;66;03m# we have definitely hit a pandas index or series object\u001b[39;00m\n\u001b[1;32m   1351\u001b[0m     \u001b[38;5;66;03m# cast to a numpy array.\u001b[39;00m\n\u001b[1;32m   1352\u001b[0m     \u001b[38;5;28;01mif\u001b[39;00m \u001b[38;5;28mlen\u001b[39m(w) \u001b[38;5;241m>\u001b[39m \u001b[38;5;241m0\u001b[39m:\n",
      "File \u001b[0;32m~/anaconda3/envs/env803/lib/python3.8/site-packages/pandas/core/series.py:1033\u001b[0m, in \u001b[0;36mSeries.__getitem__\u001b[0;34m(self, key)\u001b[0m\n\u001b[1;32m   1030\u001b[0m     key \u001b[38;5;241m=\u001b[39m np\u001b[38;5;241m.\u001b[39masarray(key, dtype\u001b[38;5;241m=\u001b[39m\u001b[38;5;28mbool\u001b[39m)\n\u001b[1;32m   1031\u001b[0m     \u001b[38;5;28;01mreturn\u001b[39;00m \u001b[38;5;28mself\u001b[39m\u001b[38;5;241m.\u001b[39m_get_values(key)\n\u001b[0;32m-> 1033\u001b[0m \u001b[38;5;28;01mreturn\u001b[39;00m \u001b[38;5;28;43mself\u001b[39;49m\u001b[38;5;241;43m.\u001b[39;49m\u001b[43m_get_with\u001b[49m\u001b[43m(\u001b[49m\u001b[43mkey\u001b[49m\u001b[43m)\u001b[49m\n",
      "File \u001b[0;32m~/anaconda3/envs/env803/lib/python3.8/site-packages/pandas/core/series.py:1048\u001b[0m, in \u001b[0;36mSeries._get_with\u001b[0;34m(self, key)\u001b[0m\n\u001b[1;32m   1043\u001b[0m     \u001b[38;5;28;01mraise\u001b[39;00m \u001b[38;5;167;01mTypeError\u001b[39;00m(\n\u001b[1;32m   1044\u001b[0m         \u001b[38;5;124m\"\u001b[39m\u001b[38;5;124mIndexing a Series with DataFrame is not \u001b[39m\u001b[38;5;124m\"\u001b[39m\n\u001b[1;32m   1045\u001b[0m         \u001b[38;5;124m\"\u001b[39m\u001b[38;5;124msupported, use the appropriate DataFrame column\u001b[39m\u001b[38;5;124m\"\u001b[39m\n\u001b[1;32m   1046\u001b[0m     )\n\u001b[1;32m   1047\u001b[0m \u001b[38;5;28;01melif\u001b[39;00m \u001b[38;5;28misinstance\u001b[39m(key, \u001b[38;5;28mtuple\u001b[39m):\n\u001b[0;32m-> 1048\u001b[0m     \u001b[38;5;28;01mreturn\u001b[39;00m \u001b[38;5;28;43mself\u001b[39;49m\u001b[38;5;241;43m.\u001b[39;49m\u001b[43m_get_values_tuple\u001b[49m\u001b[43m(\u001b[49m\u001b[43mkey\u001b[49m\u001b[43m)\u001b[49m\n\u001b[1;32m   1050\u001b[0m \u001b[38;5;28;01melif\u001b[39;00m \u001b[38;5;129;01mnot\u001b[39;00m is_list_like(key):\n\u001b[1;32m   1051\u001b[0m     \u001b[38;5;66;03m# e.g. scalars that aren't recognized by lib.is_scalar, GH#32684\u001b[39;00m\n\u001b[1;32m   1052\u001b[0m     \u001b[38;5;28;01mreturn\u001b[39;00m \u001b[38;5;28mself\u001b[39m\u001b[38;5;241m.\u001b[39mloc[key]\n",
      "File \u001b[0;32m~/anaconda3/envs/env803/lib/python3.8/site-packages/pandas/core/series.py:1082\u001b[0m, in \u001b[0;36mSeries._get_values_tuple\u001b[0;34m(self, key)\u001b[0m\n\u001b[1;32m   1077\u001b[0m \u001b[38;5;28;01mif\u001b[39;00m com\u001b[38;5;241m.\u001b[39many_none(\u001b[38;5;241m*\u001b[39mkey):\n\u001b[1;32m   1078\u001b[0m     \u001b[38;5;66;03m# mpl compat if we look up e.g. ser[:, np.newaxis];\u001b[39;00m\n\u001b[1;32m   1079\u001b[0m     \u001b[38;5;66;03m#  see tests.series.timeseries.test_mpl_compat_hack\u001b[39;00m\n\u001b[1;32m   1080\u001b[0m     \u001b[38;5;66;03m# the asarray is needed to avoid returning a 2D DatetimeArray\u001b[39;00m\n\u001b[1;32m   1081\u001b[0m     result \u001b[38;5;241m=\u001b[39m np\u001b[38;5;241m.\u001b[39masarray(\u001b[38;5;28mself\u001b[39m\u001b[38;5;241m.\u001b[39m_values[key])\n\u001b[0;32m-> 1082\u001b[0m     \u001b[43mdisallow_ndim_indexing\u001b[49m\u001b[43m(\u001b[49m\u001b[43mresult\u001b[49m\u001b[43m)\u001b[49m\n\u001b[1;32m   1083\u001b[0m     \u001b[38;5;28;01mreturn\u001b[39;00m result\n\u001b[1;32m   1085\u001b[0m \u001b[38;5;28;01mif\u001b[39;00m \u001b[38;5;129;01mnot\u001b[39;00m \u001b[38;5;28misinstance\u001b[39m(\u001b[38;5;28mself\u001b[39m\u001b[38;5;241m.\u001b[39mindex, MultiIndex):\n",
      "File \u001b[0;32m~/anaconda3/envs/env803/lib/python3.8/site-packages/pandas/core/indexers/utils.py:343\u001b[0m, in \u001b[0;36mdisallow_ndim_indexing\u001b[0;34m(result)\u001b[0m\n\u001b[1;32m    335\u001b[0m \u001b[38;5;250m\u001b[39m\u001b[38;5;124;03m\"\"\"\u001b[39;00m\n\u001b[1;32m    336\u001b[0m \u001b[38;5;124;03mHelper function to disallow multi-dimensional indexing on 1D Series/Index.\u001b[39;00m\n\u001b[1;32m    337\u001b[0m \n\u001b[0;32m   (...)\u001b[0m\n\u001b[1;32m    340\u001b[0m \u001b[38;5;124;03min GH#30588.\u001b[39;00m\n\u001b[1;32m    341\u001b[0m \u001b[38;5;124;03m\"\"\"\u001b[39;00m\n\u001b[1;32m    342\u001b[0m \u001b[38;5;28;01mif\u001b[39;00m np\u001b[38;5;241m.\u001b[39mndim(result) \u001b[38;5;241m>\u001b[39m \u001b[38;5;241m1\u001b[39m:\n\u001b[0;32m--> 343\u001b[0m     \u001b[38;5;28;01mraise\u001b[39;00m \u001b[38;5;167;01mValueError\u001b[39;00m(\n\u001b[1;32m    344\u001b[0m         \u001b[38;5;124m\"\u001b[39m\u001b[38;5;124mMulti-dimensional indexing (e.g. `obj[:, None]`) is no longer \u001b[39m\u001b[38;5;124m\"\u001b[39m\n\u001b[1;32m    345\u001b[0m         \u001b[38;5;124m\"\u001b[39m\u001b[38;5;124msupported. Convert to a numpy array before indexing instead.\u001b[39m\u001b[38;5;124m\"\u001b[39m\n\u001b[1;32m    346\u001b[0m     )\n",
      "\u001b[0;31mValueError\u001b[0m: Multi-dimensional indexing (e.g. `obj[:, None]`) is no longer supported. Convert to a numpy array before indexing instead."
     ]
    },
    {
     "data": {
      "image/png": "[encoded data removed]",
      "text/plain": [
       "<Figure size 1700x900 with 1 Axes>"
      ]
     },
     "metadata": {},
     "output_type": "display_data"
    }
   ],
   "source": [
    "#some ipython magic to show the matplotlib plots inline\n",
    "%matplotlib inline \n",
    "\n",
    "#create data frame that has the result of the MDS plus the cluster numbers and titles\n",
    "df = pd.DataFrame(dict(x=xs, y=ys, label=clusters))\n",
    "\n",
    "#group by cluster\n",
    "groups = df.groupby('label')\n",
    "\n",
    "# set up plot\n",
    "fig, ax = plt.subplots(figsize=(17, 9)) # set size\n",
    "ax.margins(0.05) # Optional, just adds 5% padding to the autoscaling\n",
    "\n",
    "#iterate through groups to layer the plot\n",
    "#note that I use the cluster_name and cluster_color dicts with the 'name' lookup to return the appropriate color/label\n",
    "for name, group in groups:\n",
    "    ax.plot(group.x, group.y, marker='o', linestyle='', ms=12, \n",
    "        #    label=cluster_names[name], \n",
    "            color=cluster_colors[name]) \n",
    "        #    mec='non')\n",
    "    ax.set_aspect('auto')\n",
    "    ax.tick_params(\\\n",
    "        axis= 'x',          # changes apply to the x-axis\n",
    "        which='both',      # both major and minor ticks are affected\n",
    "        bottom=False,      # ticks along the bottom edge are off\n",
    "        top=False,         # ticks along the top edge are off\n",
    "        labelbottom=False)\n",
    "    ax.tick_params(\\\n",
    "        axis= 'y',         # changes apply to the y-axis\n",
    "        which='both',      # both major and minor ticks are affected\n",
    "        left=False,      # ticks along the bottom edge are off\n",
    "        top=False,         # ticks along the top edge are off\n",
    "        labelleft=False)\n",
    "    \n",
    "ax.legend(numpoints=1)  #show legend with only 1 point\n",
    "    \n",
    "    \n",
    "plt.show() #show the plot\n"
   ]
  }
 ],
 "metadata": {
  "kernelspec": {
   "display_name": "env803",
   "language": "python",
   "name": "env803"
  },
  "language_info": {
   "codemirror_mode": {
    "name": "ipython",
    "version": 3
   },
   "file_extension": ".py",
   "mimetype": "text/x-python",
   "name": "python",
   "nbconvert_exporter": "python",
   "pygments_lexer": "ipython3",
   "version": "3.8.18"
  }
 },
 "nbformat": 4,
 "nbformat_minor": 2
}
